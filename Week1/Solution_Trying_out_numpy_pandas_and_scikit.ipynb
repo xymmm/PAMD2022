{
 "cells": [
  {
   "cell_type": "markdown",
   "metadata": {
    "pycharm": {
     "name": "#%% md\n"
    }
   },
   "source": [
    "# Exercises with libraries"
   ]
  },
  {
   "cell_type": "markdown",
   "metadata": {
    "collapsed": true,
    "pycharm": {
     "name": "#%% md\n"
    }
   },
   "source": [
    "Before you begin, load the wine dataset, then perform the tasks outlined below."
   ]
  },
  {
   "cell_type": "code",
   "execution_count": 1,
   "metadata": {
    "pycharm": {
     "name": "#%%\n"
    }
   },
   "outputs": [
    {
     "name": "stdout",
     "output_type": "stream",
     "text": [
      "Requirement already satisfied: scikit-learn in c:\\users\\xiyua\\appdata\\roaming\\python\\python39\\site-packages (1.1.2)\n",
      "Requirement already satisfied: scipy in c:\\users\\xiyua\\appdata\\roaming\\python\\python39\\site-packages (1.9.1)\n",
      "Requirement already satisfied: matplotlib in c:\\users\\xiyua\\appdata\\local\\programs\\python\\python39\\lib\\site-packages (3.5.3)\n",
      "Requirement already satisfied: joblib>=1.0.0 in c:\\users\\xiyua\\appdata\\roaming\\python\\python39\\site-packages (from scikit-learn) (1.1.0)\n",
      "Requirement already satisfied: numpy>=1.17.3 in c:\\users\\xiyua\\appdata\\roaming\\python\\python39\\site-packages (from scikit-learn) (1.23.3)\n",
      "Requirement already satisfied: threadpoolctl>=2.0.0 in c:\\users\\xiyua\\appdata\\roaming\\python\\python39\\site-packages (from scikit-learn) (3.1.0)\n",
      "Requirement already satisfied: packaging>=20.0 in c:\\users\\xiyua\\appdata\\local\\programs\\python\\python39\\lib\\site-packages (from matplotlib) (21.3)\n",
      "Requirement already satisfied: cycler>=0.10 in c:\\users\\xiyua\\appdata\\local\\programs\\python\\python39\\lib\\site-packages (from matplotlib) (0.11.0)\n",
      "Requirement already satisfied: pillow>=6.2.0 in c:\\users\\xiyua\\appdata\\local\\programs\\python\\python39\\lib\\site-packages (from matplotlib) (9.2.0)\n",
      "Requirement already satisfied: pyparsing>=2.2.1 in c:\\users\\xiyua\\appdata\\local\\programs\\python\\python39\\lib\\site-packages (from matplotlib) (3.0.9)\n",
      "Requirement already satisfied: fonttools>=4.22.0 in c:\\users\\xiyua\\appdata\\local\\programs\\python\\python39\\lib\\site-packages (from matplotlib) (4.37.1)\n",
      "Requirement already satisfied: kiwisolver>=1.0.1 in c:\\users\\xiyua\\appdata\\local\\programs\\python\\python39\\lib\\site-packages (from matplotlib) (1.4.4)\n",
      "Requirement already satisfied: python-dateutil>=2.7 in c:\\users\\xiyua\\appdata\\local\\programs\\python\\python39\\lib\\site-packages (from matplotlib) (2.8.2)\n",
      "Requirement already satisfied: six>=1.5 in c:\\users\\xiyua\\appdata\\local\\programs\\python\\python39\\lib\\site-packages (from python-dateutil>=2.7->matplotlib) (1.16.0)\n"
     ]
    },
    {
     "name": "stderr",
     "output_type": "stream",
     "text": [
      "WARNING: You are using pip version 21.2.4; however, version 22.2.2 is available.\n",
      "You should consider upgrading via the 'C:\\Users\\xiyua\\AppData\\Local\\Programs\\Python\\Python39\\python.exe -m pip install --upgrade pip' command.\n"
     ]
    }
   ],
   "source": [
    "#!pip3 install sklearn\n",
    "#from sklearn import datasets as ds\n",
    "!pip3 install -U scikit-learn scipy matplotlib\n",
    "from sklearn import datasets as ds\n",
    "import pandas as pd\n",
    "import numpy as np\n",
    "\n",
    "dataset = ds.load_wine()"
   ]
  },
  {
   "cell_type": "markdown",
   "metadata": {
    "pycharm": {
     "name": "#%% md\n"
    }
   },
   "source": [
    "First, retrieve all the names of the independent variables:"
   ]
  },
  {
   "cell_type": "code",
   "execution_count": 2,
   "metadata": {
    "nbgrader": {
     "grade": false,
     "grade_id": "get_variable_names",
     "locked": false,
     "schema_version": 1,
     "solution": true
    },
    "pycharm": {
     "name": "#%%\n"
    }
   },
   "outputs": [],
   "source": [
    "def get_variable_names():\n",
    "    variables = []\n",
    "    \n",
    "    ### BEGIN SOLUTION    \n",
    "    # We need to import the correct part of the libary\n",
    "    from sklearn import datasets as ds\n",
    "    \n",
    "    # A dataset in sklearn is a dictionary, so we use the appropriate key to extra the feature names \n",
    "    variables = dataset['feature_names']\n",
    "    ### END SOLUTION\n",
    "    \n",
    "    return variables"
   ]
  },
  {
   "cell_type": "code",
   "execution_count": 3,
   "metadata": {
    "pycharm": {
     "name": "#%%\n"
    }
   },
   "outputs": [],
   "source": [
    "assert get_variable_names() == ['alcohol',\n",
    " 'malic_acid',\n",
    " 'ash',\n",
    " 'alcalinity_of_ash',\n",
    " 'magnesium',\n",
    " 'total_phenols',\n",
    " 'flavanoids',\n",
    " 'nonflavanoid_phenols',\n",
    " 'proanthocyanins',\n",
    " 'color_intensity',\n",
    " 'hue',\n",
    " 'od280/od315_of_diluted_wines',\n",
    " 'proline']"
   ]
  },
  {
   "cell_type": "markdown",
   "metadata": {
    "pycharm": {
     "name": "#%% md\n"
    }
   },
   "source": [
    "Now, create a function that calculates the mean and median of a given variable in the dataset (enter the variable's name as a string):"
   ]
  },
  {
   "cell_type": "code",
   "execution_count": 4,
   "metadata": {
    "nbgrader": {
     "grade": true,
     "grade_id": "calculate_mean_median",
     "locked": false,
     "points": 1,
     "schema_version": 1,
     "solution": true
    },
    "pycharm": {
     "name": "#%%\n"
    }
   },
   "outputs": [],
   "source": [
    "def calculate_mean_median(variable):\n",
    "    mean = 0\n",
    "    median = 0\n",
    "    \n",
    "    ### BEGIN SOLUTION    \n",
    "    # First, import the dataframe using the raw data (values), and the features\n",
    "    df = pd.DataFrame(data=dataset['data'], columns=dataset['feature_names'])\n",
    "    \n",
    "    # This makes it easy to quickly obtain the data of a variable using df[variable]\n",
    "    # We use NumPy to calculate the mean and median\n",
    "    mean = np.mean(df[variable])\n",
    "    median = np.median(df[variable])\n",
    "    ### END SOLUTION\n",
    "    \n",
    "    return mean, median"
   ]
  },
  {
   "cell_type": "code",
   "execution_count": 5,
   "metadata": {
    "scrolled": true,
    "pycharm": {
     "name": "#%%\n"
    }
   },
   "outputs": [
    {
     "data": {
      "text/plain": "pandas.core.series.Series"
     },
     "execution_count": 5,
     "metadata": {},
     "output_type": "execute_result"
    }
   ],
   "source": [
    "df = pd.DataFrame(data=dataset['data'], columns=dataset['feature_names'])\n",
    "type(df['flavanoids'])"
   ]
  },
  {
   "cell_type": "code",
   "execution_count": 6,
   "outputs": [],
   "source": [
    "assert np.allclose(calculate_mean_median('flavanoids'),(2.0292696629213474, 2.135))\n",
    "assert np.allclose(calculate_mean_median('total_phenols'),(2.295112359550562, 2.355))\n",
    "assert np.allclose(calculate_mean_median('od280/od315_of_diluted_wines'),(2.6116853932584254, 2.78))\n",
    "assert np.allclose(calculate_mean_median('ash'),(2.3665168539325854, 2.36))"
   ],
   "metadata": {
    "collapsed": false,
    "pycharm": {
     "name": "#%%\n"
    }
   }
  },
  {
   "cell_type": "code",
   "execution_count": null,
   "outputs": [],
   "source": [],
   "metadata": {
    "collapsed": false,
    "pycharm": {
     "name": "#%%\n"
    }
   }
  }
 ],
 "metadata": {
  "kernelspec": {
   "display_name": "Python 3",
   "language": "python",
   "name": "python3"
  },
  "language_info": {
   "codemirror_mode": {
    "name": "ipython",
    "version": 3
   },
   "file_extension": ".py",
   "mimetype": "text/x-python",
   "name": "python",
   "nbconvert_exporter": "python",
   "pygments_lexer": "ipython3",
   "version": "3.8.8"
  }
 },
 "nbformat": 4,
 "nbformat_minor": 2
}