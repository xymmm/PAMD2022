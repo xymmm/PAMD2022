{
 "cells": [
  {
   "cell_type": "markdown",
   "metadata": {
    "pycharm": {
     "name": "#%% md\n"
    }
   },
   "source": [
    "# Exercise 1"
   ]
  },
  {
   "cell_type": "markdown",
   "metadata": {
    "pycharm": {
     "name": "#%% md\n"
    }
   },
   "source": [
    "An easy one to start with. Calculate the number of letters in your name:"
   ]
  },
  {
   "cell_type": "code",
   "execution_count": 1,
   "metadata": {
    "nbgrader": {
     "grade": false,
     "grade_id": "get_length_name",
     "locked": false,
     "schema_version": 1,
     "solution": true
    },
    "pycharm": {
     "name": "#%%\n"
    }
   },
   "outputs": [
    {
     "data": {
      "text/plain": "8"
     },
     "execution_count": 1,
     "metadata": {},
     "output_type": "execute_result"
    }
   ],
   "source": [
    "first_name = 'Xuefei'\n",
    "last_name = 'Lu'\n",
    "\n",
    "def get_length_name(first_name, last_name):\n",
    "    length = 0\n",
    "    \n",
    "    ### BEGIN SOLUTION    \n",
    "    length = len(first_name)+len(last_name)\n",
    "    ### END SOLUTION\n",
    "    \n",
    "    return length\n",
    "\n",
    "get_length_name(first_name,last_name)"
   ]
  },
  {
   "cell_type": "markdown",
   "metadata": {
    "pycharm": {
     "name": "#%% md\n"
    }
   },
   "source": [
    "Verify your answer (you typically get 1 answer for free, so you are aware of how the exercises are validated):"
   ]
  },
  {
   "cell_type": "code",
   "execution_count": 14,
   "metadata": {
    "nbgrader": {
     "grade": true,
     "grade_id": "get_length_name",
     "locked": true,
     "points": "5",
     "schema_version": 1,
     "solution": false
    },
    "pycharm": {
     "name": "#%%\n"
    }
   },
   "outputs": [],
   "source": [
    "assert get_length_name('Alexander','the Great') == 18\n",
    "\n",
    "### BEGIN HIDDEN TESTS\n",
    "\n",
    "\n",
    "assert get_length_name('johannes','de smedt') == 16\n",
    "\n",
    "\n",
    "assert get_length_name('','') == 0\n",
    "\n",
    "\n",
    "assert get_length_name('1','') == 1\n",
    "\n",
    "\n",
    "assert get_length_name('','1') == 1\n",
    "### END HIDDEN TESTS\n",
    "### ''\n",
    "#assert get_length_name('Alexander','the Great') == 17, 'something is wrong' # customise error message"
   ]
  },
  {
   "cell_type": "markdown",
   "metadata": {
    "pycharm": {
     "name": "#%% md\n"
    }
   },
   "source": [
    "# Exercise 2"
   ]
  },
  {
   "cell_type": "markdown",
   "metadata": {
    "pycharm": {
     "name": "#%% md\n"
    }
   },
   "source": [
    "The second exercise focuses on arithmetic and arrays.\n",
    "Find the sum of the elements of two arrays."
   ]
  },
  {
   "cell_type": "code",
   "execution_count": 15,
   "metadata": {
    "nbgrader": {
     "grade": false,
     "grade_id": "get_array_sums",
     "locked": false,
     "schema_version": 1,
     "solution": true
    },
    "pycharm": {
     "name": "#%%\n"
    }
   },
   "outputs": [],
   "source": [
    "def get_array_sums(arr1, arr2):\n",
    "    sum1 = 0\n",
    "    sum2 = 0\n",
    "    \n",
    "    ### BEGIN SOLUTION \n",
    "    \n",
    "    # Loop first array and add each item to sum1\n",
    "    for i in arr1:\n",
    "        sum1 += i\n",
    "    \n",
    "    # Loop second array\n",
    "    for i in arr2:\n",
    "        sum2 += i\n",
    "    \n",
    "    ### END SOLUTION\n",
    "    \n",
    "    return sum1+sum2"
   ]
  },
  {
   "cell_type": "code",
   "execution_count": 16,
   "metadata": {
    "pycharm": {
     "name": "#%%\n"
    }
   },
   "outputs": [],
   "source": [
    "# or use sum([1, 2, 3, 4, 5])\n",
    "\n",
    "def get_array_sums2(arr1, arr2):\n",
    "    sum1 = sum(arr1)\n",
    "    sum2 = sum(arr2)\n",
    "    \n",
    "    return sum1+sum2"
   ]
  },
  {
   "cell_type": "markdown",
   "metadata": {
    "pycharm": {
     "name": "#%% md\n"
    }
   },
   "source": [
    "Verify your answer:"
   ]
  },
  {
   "cell_type": "code",
   "execution_count": 17,
   "metadata": {
    "nbgrader": {
     "grade": true,
     "grade_id": "get_array_sums",
     "locked": true,
     "points": "5",
     "schema_version": 1,
     "solution": false
    },
    "pycharm": {
     "name": "#%%\n"
    }
   },
   "outputs": [],
   "source": [
    "assert get_array_sums([1, 2, 3, 4, 5],[6, 7, 8, 9, 10]) == 55\n",
    "\n",
    "### BEGIN HIDDEN TESTS\n",
    "\n",
    "\n",
    "assert get_array_sums([1, 2, 3, 4, 5],[6, 7, 8, 9, 10]) == 55\n",
    "\n",
    "\n",
    "assert get_array_sums([],[6, 7, 8, 9, 10]) == 40\n",
    "\n",
    "\n",
    "assert get_array_sums([1, 2, 3, 4, 5],[]) == 15\n",
    "\n",
    "\n",
    "assert get_array_sums([],[]) == 0\n",
    "### END HIDDEN TESTS"
   ]
  },
  {
   "cell_type": "markdown",
   "metadata": {
    "pycharm": {
     "name": "#%% md\n"
    }
   },
   "source": [
    "# Exercise 3"
   ]
  },
  {
   "cell_type": "markdown",
   "metadata": {
    "pycharm": {
     "name": "#%% md\n"
    }
   },
   "source": [
    "Calculate how many years you need to obtain a certain amount by starting with an initial amount and a given interest rate.\n",
    "\n",
    "Don't forget: we use compound interest: you get interest on your interest."
   ]
  },
  {
   "cell_type": "code",
   "execution_count": 18,
   "metadata": {
    "nbgrader": {
     "grade": false,
     "grade_id": "calculate_interest",
     "locked": false,
     "schema_version": 1,
     "solution": true
    },
    "pycharm": {
     "name": "#%%\n"
    }
   },
   "outputs": [],
   "source": [
    "def calculate_interest(amount, target, interest_rate):\n",
    "    number_of_years = 0\n",
    "    \n",
    "    ### BEGIN SOLUTION    \n",
    "    # Keep adding interest until you reach the target, or you go above it\n",
    "    while amount < target:\n",
    "        # Interest is added \n",
    "        amount = amount * (1 + interest_rate)\n",
    "        \n",
    "        # The number of years is raised\n",
    "        number_of_years = number_of_years + 1\n",
    "    ### END SOLUTION\n",
    "    \n",
    "    return number_of_years"
   ]
  },
  {
   "cell_type": "markdown",
   "metadata": {
    "pycharm": {
     "name": "#%% md\n"
    }
   },
   "source": [
    "Verify your answer:"
   ]
  },
  {
   "cell_type": "code",
   "execution_count": 19,
   "metadata": {
    "nbgrader": {
     "grade": true,
     "grade_id": "calculate_interest",
     "locked": true,
     "points": "8",
     "schema_version": 1,
     "solution": false
    },
    "pycharm": {
     "name": "#%%\n"
    }
   },
   "outputs": [],
   "source": [
    "assert calculate_interest(1000,2000,0.02) == 36\n",
    "\n",
    "### BEGIN HIDDEN TESTS\n",
    "\n",
    "\n",
    "assert calculate_interest(1000,1500,0.02) == 21\n",
    "\n",
    "\n",
    "assert calculate_interest(1,1500,0.8) == 13\n",
    "\n",
    "\n",
    "assert calculate_interest(1,80000000000,0.01) == 2524\n",
    "### END HIDDEN TESTS"
   ]
  },
  {
   "cell_type": "markdown",
   "metadata": {
    "pycharm": {
     "name": "#%% md\n"
    }
   },
   "source": [
    "# Exercise 4"
   ]
  },
  {
   "cell_type": "markdown",
   "metadata": {
    "pycharm": {
     "name": "#%% md\n"
    }
   },
   "source": [
    "Remove the duplicates from a list."
   ]
  },
  {
   "cell_type": "code",
   "execution_count": 1,
   "metadata": {
    "nbgrader": {
     "grade": false,
     "grade_id": "remove_duplicates",
     "locked": false,
     "schema_version": 1,
     "solution": true
    },
    "pycharm": {
     "name": "#%%\n"
    }
   },
   "outputs": [],
   "source": [
    "def remove_duplicates(input_list):\n",
    "    output_list = []\n",
    "    \n",
    "    ### BEGIN SOLUTION    \n",
    "    \n",
    "    # Go through the list\n",
    "    for item in input_list:\n",
    "        \n",
    "        # Check whether item is already in the output list, otherwise skip, as you would introduce duplicates again\n",
    "        if item not in output_list:\n",
    "            output_list.append(item)    ### If item is not in the output_list, add it into the list.\n",
    "    ### END SOLUTION\n",
    "    \n",
    "    return output_list"
   ]
  },
  {
   "cell_type": "markdown",
   "metadata": {
    "pycharm": {
     "name": "#%% md\n"
    }
   },
   "source": [
    "Verify your answer:"
   ]
  },
  {
   "cell_type": "code",
   "execution_count": 21,
   "metadata": {
    "nbgrader": {
     "grade": true,
     "grade_id": "remove_duplicates",
     "locked": true,
     "points": "4",
     "schema_version": 1,
     "solution": false
    },
    "pycharm": {
     "name": "#%%\n"
    }
   },
   "outputs": [],
   "source": [
    "assert remove_duplicates([\"Johannes\", \"Jamal\", \"Jamal\", \"Johannes\", \"Galina\"]) == ['Johannes', 'Jamal', 'Galina']\n",
    "\n",
    "### BEGIN HIDDEN TESTS\n",
    "\n",
    "\n",
    "assert remove_duplicates([]) == []\n",
    "\n",
    "\n",
    "assert remove_duplicates([\"Johannes\", \"Galina\"]) == ['Johannes', 'Galina']\n",
    "\n",
    "\n",
    "assert remove_duplicates([\"123\", \"345\", \"345\"]) == [\"123\", \"345\"]\n",
    "### END HIDDEN TESTS"
   ]
  },
  {
   "cell_type": "markdown",
   "metadata": {
    "pycharm": {
     "name": "#%% md\n"
    }
   },
   "source": [
    "# Exercise 5"
   ]
  },
  {
   "cell_type": "markdown",
   "metadata": {
    "pycharm": {
     "name": "#%% md\n"
    }
   },
   "source": [
    "Find the total number of points taught by a particular individual.\n",
    "\n",
    "The input is two dictionaries: one containing the courses and their organisers, and one containing the courses and their points."
   ]
  },
  {
   "cell_type": "code",
   "execution_count": 4,
   "metadata": {
    "nbgrader": {
     "grade": false,
     "grade_id": "cell-2aa20234cf44249b",
     "locked": false,
     "schema_version": 1,
     "solution": true
    },
    "pycharm": {
     "name": "#%%\n"
    }
   },
   "outputs": [],
   "source": [
    "### definition of dictionary: key and value\n",
    "'''\n",
    "thisdict = {\n",
    "  \"brand\": \"Ford\",\n",
    "  \"model\": \"Mustang\",\n",
    "  \"year\": 1964\n",
    "}\n",
    "''' \n",
    "### two dictionaries: 1 - course with teacher: organiserDictionary, 2 - course with points: pointsDictionary\n",
    "\n",
    "def find_points_for_organiser(givenOrganiser, organiserDictionary, pointsDictionary):\n",
    "    total_points_givenOrganiser= 0\n",
    "    \n",
    "    ### BEGIN SOLUTION    \n",
    "    # Loop the key-value pairs of the dictionary\n",
    "    for course_in_loop, organiser_in_loop in organiserDictionary.items():     #.item: key and value: course:organiser_c    \n",
    "        if organiser_in_loop == givenOrganiser:\n",
    "            total_points_givenOrganiser += pointsDictionary[course_in_loop]   # points\n",
    "    ### END SOLUTION\n",
    "    \n",
    "    return total_points_givenOrganiser"
   ]
  },
  {
   "cell_type": "markdown",
   "metadata": {
    "pycharm": {
     "name": "#%% md\n"
    }
   },
   "source": [
    "Verify your answer:"
   ]
  },
  {
   "cell_type": "code",
   "execution_count": 5,
   "metadata": {
    "nbgrader": {
     "grade": true,
     "grade_id": "find_points_for-organizer",
     "locked": true,
     "points": "6",
     "schema_version": 1,
     "solution": false
    },
    "pycharm": {
     "name": "#%%\n"
    }
   },
   "outputs": [],
   "source": [
    "courses = {\"Analytics\": \"Johannes\", \"Mega analytics\" : \"Johannes\", \"Basic analytics\" : \"John\"}\n",
    "points = {\"Analytics\": 15, \"Mega analytics\": 10, \"Basic analytics\":5}\n",
    "\n",
    "assert find_points_for_organiser('Johannes', courses, points) == 25\n",
    "\n",
    "### BEGIN HIDDEN TESTS\n",
    "\n",
    "\n",
    "assert find_points_for_organiser('John', courses, points) == 5\n",
    "\n",
    "\n",
    "assert find_points_for_organiser('', courses, points) == 0\n",
    "### END HIDDEN TESTS"
   ]
  },
  {
   "cell_type": "code",
   "execution_count": null,
   "metadata": {
    "pycharm": {
     "name": "#%%\n"
    }
   },
   "outputs": [],
   "source": []
  }
 ],
 "metadata": {
  "celltoolbar": "Create Assignment",
  "kernelspec": {
   "display_name": "Python 3 (ipykernel)",
   "language": "python",
   "name": "python3"
  },
  "language_info": {
   "codemirror_mode": {
    "name": "ipython",
    "version": 3
   },
   "file_extension": ".py",
   "mimetype": "text/x-python",
   "name": "python",
   "nbconvert_exporter": "python",
   "pygments_lexer": "ipython3",
   "version": "3.9.12"
  }
 },
 "nbformat": 4,
 "nbformat_minor": 2
}