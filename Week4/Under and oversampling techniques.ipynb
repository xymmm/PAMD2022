{
 "cells": [
  {
   "cell_type": "markdown",
   "metadata": {},
   "source": [
    "# Under- and oversampling techniques"
   ]
  },
  {
   "cell_type": "markdown",
   "metadata": {
    "nbgrader": {
     "grade": false,
     "grade_id": "cell-c865722f00532ab6",
     "locked": true,
     "solution": false
    }
   },
   "source": [
    "Let's consider the following dataset again:"
   ]
  },
  {
   "cell_type": "markdown",
   "metadata": {},
   "source": [
    "## The data"
   ]
  },
  {
   "cell_type": "code",
   "execution_count": 4,
   "metadata": {
    "nbgrader": {
     "grade": false,
     "grade_id": "cell-8d82360d46110569",
     "locked": true,
     "solution": false
    }
   },
   "outputs": [
    {
     "name": "stdout",
     "output_type": "stream",
     "text": [
      "Requirement already satisfied: imblearn in /opt/conda/lib/python3.9/site-packages (0.0)\n",
      "Requirement already satisfied: imbalanced-learn in /opt/conda/lib/python3.9/site-packages (from imblearn) (0.8.1)\n",
      "Requirement already satisfied: scikit-learn>=0.24 in /opt/conda/lib/python3.9/site-packages (from imbalanced-learn->imblearn) (0.24.2)\n",
      "Requirement already satisfied: joblib>=0.11 in /opt/conda/lib/python3.9/site-packages (from imbalanced-learn->imblearn) (1.0.1)\n",
      "Requirement already satisfied: numpy>=1.13.3 in /opt/conda/lib/python3.9/site-packages (from imbalanced-learn->imblearn) (1.21.1)\n",
      "Requirement already satisfied: scipy>=0.19.1 in /opt/conda/lib/python3.9/site-packages (from imbalanced-learn->imblearn) (1.7.0)\n",
      "Requirement already satisfied: threadpoolctl>=2.0.0 in /opt/conda/lib/python3.9/site-packages (from scikit-learn>=0.24->imbalanced-learn->imblearn) (2.2.0)\n"
     ]
    }
   ],
   "source": [
    "##### added line to ensure plots are showing\n",
    "%matplotlib inline\n",
    "#####\n",
    "\n",
    "import numpy as np\n",
    "import matplotlib.pyplot as plt\n",
    "import pandas as pd\n",
    "\n",
    "from pandas.plotting import scatter_matrix\n",
    "from sklearn import datasets\n",
    "\n",
    "import matplotlib.pyplot as plt\n",
    "from sklearn import datasets\n",
    "from sklearn.datasets import make_classification\n",
    "from sklearn.preprocessing import normalize\n",
    "!pip install imblearn\n",
    "from imblearn.over_sampling import SMOTE\n",
    "from imblearn.combine import SMOTEENN, SMOTETomek\n",
    "from imblearn.under_sampling import RandomUnderSampler\n",
    "from imblearn.over_sampling import RandomOverSampler\n",
    "from imblearn.over_sampling import ADASYN \n",
    "\n",
    "# Use this code if you need large figures (on high-resolution screens)\n",
    "# For bigger pictures:\n",
    "#plt.rcParams[\"figure.dpi\"] = 144\n",
    "\n",
    "data = pd.read_csv(\"absent.csv\",sep=';',index_col=0)"
   ]
  },
  {
   "cell_type": "markdown",
   "metadata": {
    "nbgrader": {
     "grade": false,
     "grade_id": "cell-e1094f9ac68cb903",
     "locked": true,
     "solution": false
    }
   },
   "source": [
    "There is clearly an imbalance in terms of who is, and who is not, a social smoker:"
   ]
  },
  {
   "cell_type": "code",
   "execution_count": 5,
   "metadata": {
    "nbgrader": {
     "grade": false,
     "grade_id": "cell-874ba55da7818c21",
     "locked": true,
     "solution": false
    }
   },
   "outputs": [
    {
     "data": {
      "image/png": "[encoded data removed]",
      "text/plain": [
       "<Figure size 432x288 with 1 Axes>"
      ]
     },
     "metadata": {
      "needs_background": "light"
     },
     "output_type": "display_data"
    }
   ],
   "source": [
    "plt.hist(data['Social smoker'])\n",
    "plt.show()"
   ]
  },
  {
   "cell_type": "markdown",
   "metadata": {
    "nbgrader": {
     "grade": false,
     "grade_id": "cell-42d8d53fa4d3f22a",
     "locked": true,
     "solution": false
    }
   },
   "source": [
    "The distribution is quite skewed. Can we still use the data to predict whether someone is a social smoker or not? (just ignore that this is not the original dependent variable of the dataset, it serves as a nice example)"
   ]
  },
  {
   "cell_type": "markdown",
   "metadata": {
    "nbgrader": {
     "grade": false,
     "grade_id": "cell-c456b2f0e08356db",
     "locked": true,
     "solution": false
    }
   },
   "source": [
    "Let's look at two variables, service time and age:"
   ]
  },
  {
   "cell_type": "code",
   "execution_count": 8,
   "metadata": {
    "nbgrader": {
     "grade": false,
     "grade_id": "cell-8d95ee6f83d858fe",
     "locked": true,
     "solution": false
    }
   },
   "outputs": [
    {
     "data": {
      "image/png": "[encoded data removed]",
      "text/plain": [
       "<Figure size 432x288 with 1 Axes>"
      ]
     },
     "metadata": {
      "needs_background": "light"
     },
     "output_type": "display_data"
    }
   ],
   "source": [
    "# You can change the variables if you want to look into other indepndent variables later yourself\n",
    "var_1 = 'Service time'\n",
    "var_2 = 'Age'\n",
    "\n",
    "# Our independent variables\n",
    "X = data[[var_1,var_2]]\n",
    "\n",
    "# Our dependent variable\n",
    "y = data['Social smoker']\n",
    "\n",
    "for i in [0,1]:\n",
    "    plt.scatter(X[y == i][var_1], X[y == i][var_2], alpha=.8)\n",
    "\n",
    "plt.xlabel(var_1)\n",
    "plt.ylabel(var_2)\n",
    "plt.title('Original data')\n",
    "plt.show()"
   ]
  },
  {
   "cell_type": "markdown",
   "metadata": {},
   "source": [
    "## Undersampling"
   ]
  },
  {
   "cell_type": "markdown",
   "metadata": {
    "nbgrader": {
     "grade": false,
     "grade_id": "cell-8371bd795ae557f5",
     "locked": true,
     "solution": false
    }
   },
   "source": [
    "Let's try undersampling first:"
   ]
  },
  {
   "cell_type": "code",
   "execution_count": 11,
   "metadata": {
    "nbgrader": {
     "grade": false,
     "grade_id": "cell-9da99a3f385bae53",
     "locked": true,
     "solution": false
    }
   },
   "outputs": [
    {
     "data": {
      "image/png": "[encoded data removed]",
      "text/plain": [
       "<Figure size 432x288 with 1 Axes>"
      ]
     },
     "metadata": {
      "needs_background": "light"
     },
     "output_type": "display_data"
    }
   ],
   "source": [
    "rus = RandomUnderSampler(random_state=10)\n",
    "X_s, y_s = rus.fit_resample(X, y)\n",
    "\n",
    "\n",
    "# For easy access to the columns\n",
    "X_s = pd.DataFrame(X_s,columns=[var_1,var_2])\n",
    "\n",
    "for i in [0,1]: \n",
    "    plt.scatter(X_s[y_s == i][var_1], X_s[y_s == i][var_2], alpha=.8)\n",
    "plt.title('Undersampling')\n",
    "plt.xlabel(var_1)\n",
    "plt.ylabel(var_2)\n",
    "plt.show()"
   ]
  },
  {
   "cell_type": "markdown",
   "metadata": {
    "nbgrader": {
     "grade": false,
     "grade_id": "cell-361f88684ca2e034",
     "locked": true,
     "solution": false
    }
   },
   "source": [
    "A lot of non-smokers (shown in blue) are removed. "
   ]
  },
  {
   "cell_type": "markdown",
   "metadata": {},
   "source": [
    "## Oversampling"
   ]
  },
  {
   "cell_type": "markdown",
   "metadata": {},
   "source": [
    "Now we'll try oversampling:"
   ]
  },
  {
   "cell_type": "code",
   "execution_count": 13,
   "metadata": {
    "nbgrader": {
     "grade": false,
     "grade_id": "cell-4a35d0c348c1d83d",
     "locked": true,
     "solution": false
    }
   },
   "outputs": [
    {
     "data": {
      "image/png": "[encoded data removed]",
      "text/plain": [
       "<Figure size 432x288 with 1 Axes>"
      ]
     },
     "metadata": {
      "needs_background": "light"
     },
     "output_type": "display_data"
    }
   ],
   "source": [
    "ros = RandomOverSampler(random_state=10)\n",
    "X_s, y_s = ros.fit_resample(X, y)\n",
    "\n",
    "X_s = pd.DataFrame(X_s,columns=[var_1,var_2])\n",
    "\n",
    "for i in [0,1]: \n",
    "    plt.scatter(X_s[y_s == i][var_1], X_s[y_s == i][var_2], alpha=.8)\n",
    "plt.title('Oversampling')\n",
    "plt.xlabel(var_1)\n",
    "plt.ylabel(var_2)\n",
    "plt.show()"
   ]
  },
  {
   "cell_type": "markdown",
   "metadata": {},
   "source": [
    "## SMOTE"
   ]
  },
  {
   "cell_type": "markdown",
   "metadata": {
    "nbgrader": {
     "grade": false,
     "grade_id": "cell-f206de82ffa08cba",
     "locked": true,
     "solution": false
    }
   },
   "source": [
    "Not much has changed compared to the original dataset. You should now try the other techniques we covered in the previous activity yourself:"
   ]
  },
  {
   "cell_type": "code",
   "execution_count": 16,
   "metadata": {
    "nbgrader": {
     "grade": true,
     "grade_id": "smote_adasyn",
     "locked": false,
     "points": 0,
     "schema_version": 1,
     "solution": true
    }
   },
   "outputs": [],
   "source": [
    "def apply_SMOTE(X,y):\n",
    "    \n",
    "    # Create a SMOTE instance and fit it to the data\n",
    "    sm = SMOTE()\n",
    "    X_s, y_s = sm.fit_resample(X, y)\n",
    "\n",
    "    X_s = pd.DataFrame(X_s,columns=[var_1,var_2])\n",
    "\n",
    "    # Add all the data points to a plot as above, separated by class to have different colors\n",
    "    for i in [0,1]: \n",
    "        plt.scatter(X_s[y_s == i][var_1], X_s[y_s == i][var_2], alpha=.8)\n",
    "    plt.title('SMOTE')\n",
    "    plt.xlabel(var_1)\n",
    "    plt.ylabel(var_2)\n",
    "    \n",
    "    plt.show()"
   ]
  },
  {
   "cell_type": "markdown",
   "metadata": {
    "nbgrader": {
     "grade": false,
     "grade_id": "cell-111a6d23df89b204",
     "locked": true,
     "solution": false
    }
   },
   "source": [
    "Finally, verify your answer:"
   ]
  },
  {
   "cell_type": "code",
   "execution_count": 17,
   "metadata": {
    "nbgrader": {
     "grade": false,
     "grade_id": "cell-ffd731e332289650",
     "locked": true,
     "solution": false
    }
   },
   "outputs": [
    {
     "data": {
      "image/png": "[encoded data removed]",
      "text/plain": [
       "<Figure size 432x288 with 1 Axes>"
      ]
     },
     "metadata": {
      "needs_background": "light"
     },
     "output_type": "display_data"
    }
   ],
   "source": [
    "apply_SMOTE(X,y)"
   ]
  },
  {
   "cell_type": "code",
   "execution_count": null,
   "metadata": {},
   "outputs": [],
   "source": []
  }
 ],
 "metadata": {
  "kernelspec": {
   "display_name": "Python 3",
   "language": "python",
   "name": "python3"
  },
  "language_info": {
   "codemirror_mode": {
    "name": "ipython",
    "version": 3
   },
   "file_extension": ".py",
   "mimetype": "text/x-python",
   "name": "python",
   "nbconvert_exporter": "python",
   "pygments_lexer": "ipython3",
   "version": "3.9.2"
  }
 },
 "nbformat": 4,
 "nbformat_minor": 2
}
