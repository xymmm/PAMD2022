{
 "cells": [
  {
   "cell_type": "markdown",
   "metadata": {},
   "source": [
    "# Sampling data"
   ]
  },
  {
   "cell_type": "markdown",
   "metadata": {
    "nbgrader": {
     "grade": false,
     "locked": true,
     "solution": false
    }
   },
   "source": [
    "When we talk about sampling, we cannot avoid talking about the subject of random number generation. The fact that we are claiming to sample randomly is something that has an impact on the actual implementation of the whole method we use for sampling. In fact, on numerous occasions, we will run into code that has certain parameters we need to set that account for the seed we are using.\n",
    "\n",
    "For example, consider the following code from numpy, which generates an array of length 3 with numbers between 0 and 5 (not including 5):"
   ]
  },
  {
   "cell_type": "code",
   "execution_count": 1,
   "metadata": {
    "nbgrader": {
     "grade": false,
     "locked": false,
     "solution": false
    }
   },
   "outputs": [
    {
     "data": {
      "text/plain": [
       "array([4, 3, 0])"
      ]
     },
     "execution_count": 1,
     "metadata": {},
     "output_type": "execute_result"
    }
   ],
   "source": [
    "import numpy as np\n",
    "\n",
    "np.random.choice(5,3)"
   ]
  },
  {
   "cell_type": "markdown",
   "metadata": {
    "nbgrader": {
     "grade": false,
     "locked": true,
     "solution": false
    }
   },
   "source": [
    "Let's run that again, shall we?"
   ]
  },
  {
   "cell_type": "code",
   "execution_count": 2,
   "metadata": {},
   "outputs": [
    {
     "data": {
      "text/plain": [
       "array([4, 0, 4])"
      ]
     },
     "execution_count": 2,
     "metadata": {},
     "output_type": "execute_result"
    }
   ],
   "source": [
    "np.random.choice(5,3)"
   ]
  },
  {
   "cell_type": "markdown",
   "metadata": {
    "nbgrader": {
     "grade": false,
     "locked": true,
     "solution": false
    }
   },
   "source": [
    "Since we are sampling randomly, we get a different result the second time (although it is possible to get the same result again). \n",
    "\n",
    "Now let's run the following:"
   ]
  },
  {
   "cell_type": "code",
   "execution_count": 3,
   "metadata": {},
   "outputs": [
    {
     "data": {
      "text/plain": [
       "array([2, 0, 1])"
      ]
     },
     "execution_count": 3,
     "metadata": {},
     "output_type": "execute_result"
    }
   ],
   "source": [
    "np.random.seed(3)\n",
    "np.random.choice(5,3)"
   ]
  },
  {
   "cell_type": "code",
   "execution_count": 4,
   "metadata": {},
   "outputs": [
    {
     "data": {
      "text/plain": [
       "array([3, 0, 0])"
      ]
     },
     "execution_count": 4,
     "metadata": {},
     "output_type": "execute_result"
    }
   ],
   "source": [
    "np.random.choice(5,3)"
   ]
  },
  {
   "cell_type": "markdown",
   "metadata": {
    "nbgrader": {
     "grade": false,
     "locked": true,
     "solution": false
    }
   },
   "source": [
    "If you restart and rerun this notebook, you will notice that the result of the first two times generating an array will give you different results each time. However, as soon as you run the line that sets the seed, all the results afterwards will be the same and appear in the same order. This is because you use a certain stream of previously generated random numbers that are kept in an array. This is quite counterintuitive. We want to be random, but we want predictable random. The latter is especially useful if we want to test a piece of code. If we want to find our mistakes or just test the rationale, we don't want to keep running it in order to see whether that one particular instance that was causing an error is reoccurring."
   ]
  },
  {
   "cell_type": "markdown",
   "metadata": {
    "nbgrader": {
     "grade": false,
     "locked": true,
     "solution": false
    }
   },
   "source": [
    "In general, to make our sampling appear to be random, as we theorise it should be, we use a computer to generate a random number, or an array of random numbers, depending on the application. Computers do this by making use of pseudorandom number generators (PRNGs). These generators start from a particular state, the (random) seed state, and start to apply different functions/algorithms over that seed to obtain the next results in the sequence. Many such functions exist. The one used in numpy for example is based on the very popular Mersenne Twister PRNG (it is also used in Excel, R, MATLAB, and so on). \n",
    "\n",
    "Now you see why, when we set the seed, we obtain the same results. We are applying the same function to the same starting point so all the subsequent results can be derived by applying the same function. If we don't set the seed in Python, the initial seed value gets reseeded after every generation, i.e., it is replaced by another value from a pseudorandom sequence every time we run the code that is asked to make a selection."
   ]
  }
 ],
 "metadata": {
  "kernelspec": {
   "display_name": "Python 3",
   "language": "python",
   "name": "python3"
  },
  "language_info": {
   "codemirror_mode": {
    "name": "ipython",
    "version": 3
   },
   "file_extension": ".py",
   "mimetype": "text/x-python",
   "name": "python",
   "nbconvert_exporter": "python",
   "pygments_lexer": "ipython3",
   "version": "3.9.2"
  }
 },
 "nbformat": 4,
 "nbformat_minor": 2
}
