{
 "cells": [
  {
   "cell_type": "markdown",
   "metadata": {
    "pycharm": {
     "name": "#%% md\n"
    }
   },
   "source": [
    "# Coding cross validation yourself"
   ]
  },
  {
   "cell_type": "markdown",
   "metadata": {
    "nbgrader": {
     "grade": false,
     "grade_id": "cell-ee2f8b9bea3d7298",
     "locked": true,
     "solution": false
    },
    "pycharm": {
     "name": "#%% md\n"
    }
   },
   "source": [
    "Now it is up to you to demonstrate your knowledge on the absenteeism dataset."
   ]
  },
  {
   "cell_type": "code",
   "execution_count": 1,
   "metadata": {
    "nbgrader": {
     "grade": false,
     "grade_id": "cell-183b4f4f8ff8e19a",
     "locked": true,
     "solution": false
    },
    "pycharm": {
     "name": "#%%\n"
    }
   },
   "outputs": [
    {
     "name": "stdout",
     "output_type": "stream",
     "text": [
      "<bound method NDFrame.head of     Reason for absence  Month of absence  Day of the week  Seasons  \\\n",
      "ID                                                                   \n",
      "11                  26                 7                3        1   \n",
      "36                   0                 7                3        1   \n",
      "3                   23                 7                4        1   \n",
      "7                    7                 7                5        1   \n",
      "11                  23                 7                5        1   \n",
      "..                 ...               ...              ...      ...   \n",
      "11                  14                 7                3        1   \n",
      "1                   11                 7                3        1   \n",
      "4                    0                 0                3        1   \n",
      "8                    0                 0                4        2   \n",
      "35                   0                 0                6        3   \n",
      "\n",
      "    Transportation expense  Distance from Residence to Work  Service time  \\\n",
      "ID                                                                          \n",
      "11                     289                               36            13   \n",
      "36                     118                               13            18   \n",
      "3                      179                               51            18   \n",
      "7                      279                                5            14   \n",
      "11                     289                               36            13   \n",
      "..                     ...                              ...           ...   \n",
      "11                     289                               36            13   \n",
      "1                      235                               11            14   \n",
      "4                      118                               14            13   \n",
      "8                      231                               35            14   \n",
      "35                     179                               45            14   \n",
      "\n",
      "    Age  Work load Average/day   Hit target  Disciplinary failure  Education  \\\n",
      "ID                                                                             \n",
      "11   33                 239.554          97                     0          1   \n",
      "36   50                 239.554          97                     1          1   \n",
      "3    38                 239.554          97                     0          1   \n",
      "7    39                 239.554          97                     0          1   \n",
      "11   33                 239.554          97                     0          1   \n",
      "..  ...                     ...         ...                   ...        ...   \n",
      "11   33                 264.604          93                     0          1   \n",
      "1    37                 264.604          93                     0          3   \n",
      "4    40                 271.219          95                     0          1   \n",
      "8    39                 271.219          95                     0          1   \n",
      "35   53                 271.219          95                     0          1   \n",
      "\n",
      "    Son  Social drinker  Social smoker  Pet  Weight  Height  Body mass index  \\\n",
      "ID                                                                             \n",
      "11    2               1              0    1      90     172               30   \n",
      "36    1               1              0    0      98     178               31   \n",
      "3     0               1              0    0      89     170               31   \n",
      "7     2               1              1    0      68     168               24   \n",
      "11    2               1              0    1      90     172               30   \n",
      "..  ...             ...            ...  ...     ...     ...              ...   \n",
      "11    2               1              0    1      90     172               30   \n",
      "1     1               0              0    1      88     172               29   \n",
      "4     1               1              0    8      98     170               34   \n",
      "8     2               1              0    2     100     170               35   \n",
      "35    1               0              0    1      77     175               25   \n",
      "\n",
      "    Absenteeism time in hours  \n",
      "ID                             \n",
      "11                          4  \n",
      "36                          0  \n",
      "3                           2  \n",
      "7                           4  \n",
      "11                          2  \n",
      "..                        ...  \n",
      "11                          8  \n",
      "1                           4  \n",
      "4                           0  \n",
      "8                           0  \n",
      "35                          0  \n",
      "\n",
      "[740 rows x 20 columns]>\n"
     ]
    }
   ],
   "source": [
    "import numpy as np\n",
    "import pandas as pd\n",
    "\n",
    "\n",
    "np.random.seed(40)\n",
    "\n",
    "# First open absent.csv directly by double-click to have an overview of the data structure.\n",
    "# And we see that we should let Jupyter read it every \";\"\n",
    "data = pd.read_csv(\"absent.csv\",sep=';',index_col=0)\n",
    "\n",
    "y = data['Absenteeism time in hours']\n",
    "X = data.drop('Absenteeism time in hours',axis=1)\n",
    "\n",
    "print(data.head)"
   ]
  },
  {
   "cell_type": "markdown",
   "metadata": {
    "pycharm": {
     "name": "#%% md\n"
    }
   },
   "source": [
    "## Applying cross validation"
   ]
  },
  {
   "cell_type": "markdown",
   "metadata": {
    "nbgrader": {
     "grade": false,
     "grade_id": "cell-2f8f9b1224c611dd",
     "locked": true,
     "solution": false
    },
    "pycharm": {
     "name": "#%% md\n"
    }
   },
   "source": [
    "Apply cross-validation to this regression, where you normalize all variables, and calculate the mean absolute error, mean squared error, and R-squared value (only return the test set value):"
   ]
  },
  {
   "cell_type": "code",
   "execution_count": 4,
   "metadata": {
    "nbgrader": {
     "grade": false,
     "grade_id": "apply_cv",
     "locked": false,
     "schema_version": 1,
     "solution": true
    },
    "pycharm": {
     "name": "#%%\n"
    }
   },
   "outputs": [],
   "source": [
    "from sklearn.linear_model import LinearRegression\n",
    "classifier = LinearRegression()    \n",
    "    \n",
    "def apply_cv(X, y, nFold):    \n",
    "\n",
    "    # Import the required code\n",
    "    from sklearn.pipeline import make_pipeline\n",
    "    from sklearn.model_selection import cross_validate\n",
    "    from sklearn.preprocessing import Normalizer\n",
    "\n",
    "    \n",
    "    # Create an instance of the Normalizer and add to a pipeline together with the classifier\n",
    "    normalizer = Normalizer()\n",
    "    pipeline = make_pipeline(normalizer, classifier)\n",
    "\n",
    "    # Define the metrics\n",
    "    metrics = ['neg_mean_absolute_error','neg_mean_squared_error','r2']\n",
    "\n",
    "    # Use metrics and pipeline for cross validation\n",
    "    outcomes = cross_validate(pipeline, X, y, scoring = metrics, cv = nFold, return_train_score = False, return_estimator = True)\n",
    "\n",
    "    print(outcomes)\n",
    "    \n",
    "    return outcomes"
   ]
  },
  {
   "cell_type": "markdown",
   "metadata": {
    "pycharm": {
     "name": "#%% md\n"
    }
   },
   "source": [
    "Validate your result:"
   ]
  },
  {
   "cell_type": "code",
   "execution_count": 5,
   "metadata": {
    "nbgrader": {
     "grade": true,
     "grade_id": "check_apply_cv",
     "locked": true,
     "points": 5,
     "schema_version": 1,
     "solution": false
    },
    "pycharm": {
     "name": "#%%\n"
    }
   },
   "outputs": [
    {
     "name": "stdout",
     "output_type": "stream",
     "text": [
      "{'fit_time': array([0.02190423, 0.01116037, 0.01117635, 0.01395607, 0.01328993,\n",
      "       0.01104951, 0.01478338, 0.01486969, 0.01822305, 0.00917768]), 'score_time': array([0.00390959, 0.00699973, 0.00217581, 0.00273705, 0.00550056,\n",
      "       0.00433064, 0.00614405, 0.00515389, 0.0044291 , 0.00854802]), 'estimator': [Pipeline(steps=[('normalizer', Normalizer()),\n",
      "                ('linearregression', LinearRegression())]), Pipeline(steps=[('normalizer', Normalizer()),\n",
      "                ('linearregression', LinearRegression())]), Pipeline(steps=[('normalizer', Normalizer()),\n",
      "                ('linearregression', LinearRegression())]), Pipeline(steps=[('normalizer', Normalizer()),\n",
      "                ('linearregression', LinearRegression())]), Pipeline(steps=[('normalizer', Normalizer()),\n",
      "                ('linearregression', LinearRegression())]), Pipeline(steps=[('normalizer', Normalizer()),\n",
      "                ('linearregression', LinearRegression())]), Pipeline(steps=[('normalizer', Normalizer()),\n",
      "                ('linearregression', LinearRegression())]), Pipeline(steps=[('normalizer', Normalizer()),\n",
      "                ('linearregression', LinearRegression())]), Pipeline(steps=[('normalizer', Normalizer()),\n",
      "                ('linearregression', LinearRegression())]), Pipeline(steps=[('normalizer', Normalizer()),\n",
      "                ('linearregression', LinearRegression())])], 'test_neg_mean_absolute_error': array([-5.44169706, -4.88533949, -6.03776489, -6.53316679, -6.97119581,\n",
      "       -5.6121378 , -6.20582349, -5.11806841, -5.58925382, -9.20383222]), 'test_neg_mean_squared_error': array([ -57.35091985, -105.79371931,  -93.71342154, -120.49204514,\n",
      "       -209.8988054 , -179.36848107, -180.39558093,  -90.82555524,\n",
      "       -260.11583086, -309.20461226]), 'test_r2': array([-0.11923377,  0.12709059,  0.09897902,  0.05605541,  0.1482223 ,\n",
      "        0.07964105,  0.02008328,  0.14330421,  0.13328541,  0.06357028])}\n",
      "{'fit_time': array([0.01108289, 0.01142168, 0.0104115 , 0.00687003, 0.00833845,\n",
      "       0.01063824, 0.00766373, 0.00821209, 0.03117681, 0.02828574]), 'score_time': array([0.00622869, 0.00723195, 0.0027504 , 0.00299096, 0.0039897 ,\n",
      "       0.00279403, 0.00308084, 0.0041666 , 0.00652623, 0.01087117]), 'estimator': [Pipeline(steps=[('normalizer', Normalizer()),\n",
      "                ('linearregression', LinearRegression())]), Pipeline(steps=[('normalizer', Normalizer()),\n",
      "                ('linearregression', LinearRegression())]), Pipeline(steps=[('normalizer', Normalizer()),\n",
      "                ('linearregression', LinearRegression())]), Pipeline(steps=[('normalizer', Normalizer()),\n",
      "                ('linearregression', LinearRegression())]), Pipeline(steps=[('normalizer', Normalizer()),\n",
      "                ('linearregression', LinearRegression())]), Pipeline(steps=[('normalizer', Normalizer()),\n",
      "                ('linearregression', LinearRegression())]), Pipeline(steps=[('normalizer', Normalizer()),\n",
      "                ('linearregression', LinearRegression())]), Pipeline(steps=[('normalizer', Normalizer()),\n",
      "                ('linearregression', LinearRegression())]), Pipeline(steps=[('normalizer', Normalizer()),\n",
      "                ('linearregression', LinearRegression())]), Pipeline(steps=[('normalizer', Normalizer()),\n",
      "                ('linearregression', LinearRegression())])], 'test_neg_mean_absolute_error': array([-5.44169706, -4.88533949, -6.03776489, -6.53316679, -6.97119581,\n",
      "       -5.6121378 , -6.20582349, -5.11806841, -5.58925382, -9.20383222]), 'test_neg_mean_squared_error': array([ -57.35091985, -105.79371931,  -93.71342154, -120.49204514,\n",
      "       -209.8988054 , -179.36848107, -180.39558093,  -90.82555524,\n",
      "       -260.11583086, -309.20461226]), 'test_r2': array([-0.11923377,  0.12709059,  0.09897902,  0.05605541,  0.1482223 ,\n",
      "        0.07964105,  0.02008328,  0.14330421,  0.13328541,  0.06357028])}\n",
      "{'fit_time': array([0.02877164, 0.00961137, 0.01171112, 0.01001883, 0.0067811 ,\n",
      "       0.00998521, 0.01081014, 0.01130605, 0.00924683, 0.00998092]), 'score_time': array([0.00199389, 0.00466013, 0.00346279, 0.00422525, 0.00682187,\n",
      "       0.0052886 , 0.00357676, 0.00548697, 0.00407505, 0.00222921]), 'estimator': [Pipeline(steps=[('normalizer', Normalizer()),\n",
      "                ('linearregression', LinearRegression())]), Pipeline(steps=[('normalizer', Normalizer()),\n",
      "                ('linearregression', LinearRegression())]), Pipeline(steps=[('normalizer', Normalizer()),\n",
      "                ('linearregression', LinearRegression())]), Pipeline(steps=[('normalizer', Normalizer()),\n",
      "                ('linearregression', LinearRegression())]), Pipeline(steps=[('normalizer', Normalizer()),\n",
      "                ('linearregression', LinearRegression())]), Pipeline(steps=[('normalizer', Normalizer()),\n",
      "                ('linearregression', LinearRegression())]), Pipeline(steps=[('normalizer', Normalizer()),\n",
      "                ('linearregression', LinearRegression())]), Pipeline(steps=[('normalizer', Normalizer()),\n",
      "                ('linearregression', LinearRegression())]), Pipeline(steps=[('normalizer', Normalizer()),\n",
      "                ('linearregression', LinearRegression())]), Pipeline(steps=[('normalizer', Normalizer()),\n",
      "                ('linearregression', LinearRegression())])], 'test_neg_mean_absolute_error': array([-5.44169706, -4.88533949, -6.03776489, -6.53316679, -6.97119581,\n",
      "       -5.6121378 , -6.20582349, -5.11806841, -5.58925382, -9.20383222]), 'test_neg_mean_squared_error': array([ -57.35091985, -105.79371931,  -93.71342154, -120.49204514,\n",
      "       -209.8988054 , -179.36848107, -180.39558093,  -90.82555524,\n",
      "       -260.11583086, -309.20461226]), 'test_r2': array([-0.11923377,  0.12709059,  0.09897902,  0.05605541,  0.1482223 ,\n",
      "        0.07964105,  0.02008328,  0.14330421,  0.13328541,  0.06357028])}\n",
      "{'fit_time': array([0.014045  , 0.0124557 , 0.01281309, 0.01640797, 0.01066923]), 'score_time': array([0.00521708, 0.00199389, 0.0036633 , 0.00667644, 0.00675154]), 'estimator': [Pipeline(steps=[('normalizer', Normalizer()),\n",
      "                ('linearregression', LinearRegression())]), Pipeline(steps=[('normalizer', Normalizer()),\n",
      "                ('linearregression', LinearRegression())]), Pipeline(steps=[('normalizer', Normalizer()),\n",
      "                ('linearregression', LinearRegression())]), Pipeline(steps=[('normalizer', Normalizer()),\n",
      "                ('linearregression', LinearRegression())]), Pipeline(steps=[('normalizer', Normalizer()),\n",
      "                ('linearregression', LinearRegression())])], 'test_neg_mean_absolute_error': array([-5.15813595, -6.30815503, -6.4512004 , -5.66281764, -7.53386985]), 'test_neg_mean_squared_error': array([ -82.17300336, -112.00147052, -196.11580591, -135.58694837,\n",
      "       -299.31974383]), 'test_r2': array([0.05194651, 0.03335425, 0.11121968, 0.06534224, 0.052034  ])}\n",
      "{'fit_time': array([0.00881886, 0.01038647, 0.00930119, 0.01173091, 0.00853133]), 'score_time': array([0.00411749, 0.00408077, 0.0009985 , 0.00199509, 0.00241423]), 'estimator': [Pipeline(steps=[('normalizer', Normalizer()),\n",
      "                ('linearregression', LinearRegression())]), Pipeline(steps=[('normalizer', Normalizer()),\n",
      "                ('linearregression', LinearRegression())]), Pipeline(steps=[('normalizer', Normalizer()),\n",
      "                ('linearregression', LinearRegression())]), Pipeline(steps=[('normalizer', Normalizer()),\n",
      "                ('linearregression', LinearRegression())]), Pipeline(steps=[('normalizer', Normalizer()),\n",
      "                ('linearregression', LinearRegression())])], 'test_neg_mean_absolute_error': array([-5.15813595, -6.30815503, -6.4512004 , -5.66281764, -7.53386985]), 'test_neg_mean_squared_error': array([ -82.17300336, -112.00147052, -196.11580591, -135.58694837,\n",
      "       -299.31974383]), 'test_r2': array([0.05194651, 0.03335425, 0.11121968, 0.06534224, 0.052034  ])}\n",
      "{'fit_time': array([0.00906444, 0.0076108 , 0.01004362, 0.00771165, 0.00606012]), 'score_time': array([0.00445628, 0.00298834, 0.00199652, 0.00303078, 0.00402427]), 'estimator': [Pipeline(steps=[('normalizer', Normalizer()),\n",
      "                ('linearregression', LinearRegression())]), Pipeline(steps=[('normalizer', Normalizer()),\n",
      "                ('linearregression', LinearRegression())]), Pipeline(steps=[('normalizer', Normalizer()),\n",
      "                ('linearregression', LinearRegression())]), Pipeline(steps=[('normalizer', Normalizer()),\n",
      "                ('linearregression', LinearRegression())]), Pipeline(steps=[('normalizer', Normalizer()),\n",
      "                ('linearregression', LinearRegression())])], 'test_neg_mean_absolute_error': array([-5.15813595, -6.30815503, -6.4512004 , -5.66281764, -7.53386985]), 'test_neg_mean_squared_error': array([ -82.17300336, -112.00147052, -196.11580591, -135.58694837,\n",
      "       -299.31974383]), 'test_r2': array([0.05194651, 0.03335425, 0.11121968, 0.06534224, 0.052034  ])}\n"
     ]
    }
   ],
   "source": [
    "assert np.allclose(apply_cv(X,y,10)['test_neg_mean_absolute_error'],[-5.44169706, -4.88533949, -6.03776489, -6.53316679, -6.97119581,\n",
    "       -5.6121378 , -6.20582349, -5.11806841, -5.58925382, -9.20383222])\n",
    "\n",
    "assert np.allclose(apply_cv(X,y,10)['test_neg_mean_squared_error'],[ -57.35091985, -105.79371931,  -93.71342154, -120.49204514,\n",
    "       -209.8988054 , -179.36848107, -180.39558093,  -90.82555524,\n",
    "       -260.11583086, -309.20461226])\n",
    "\n",
    "assert np.allclose(apply_cv(X,y,10)['test_r2'],[-0.11923377,  0.12709059,  0.09897902,  0.05605541,  0.1482223 ,\n",
    "        0.07964105,  0.02008328,  0.14330421,  0.13328541,  0.06357028])\n",
    "\n",
    "assert np.allclose(apply_cv(X,y,5)['test_neg_mean_absolute_error'],[-5.15813595, -6.30815503, -6.4512004 , -5.66281764, -7.53386985])\n",
    "\n",
    "assert np.allclose(apply_cv(X,y,5)['test_neg_mean_squared_error'],[ -82.17300336, -112.00147052, -196.11580591, -135.58694837,\n",
    "       -299.31974383])\n",
    "\n",
    "assert np.allclose(apply_cv(X,y,5)['test_r2'],[0.05194651, 0.03335425, 0.11121968, 0.06534224, 0.052034  ])"
   ]
  },
  {
   "cell_type": "markdown",
   "metadata": {
    "pycharm": {
     "name": "#%% md\n"
    }
   },
   "source": [
    "## Cross validation with prediction"
   ]
  },
  {
   "cell_type": "markdown",
   "metadata": {
    "pycharm": {
     "name": "#%% md\n"
    }
   },
   "source": [
    "Calculate the root mean squared error of a prediction when it was in the test set:"
   ]
  },
  {
   "cell_type": "code",
   "execution_count": null,
   "metadata": {
    "nbgrader": {
     "grade": false,
     "grade_id": "cell-2622132d0c9d2aed",
     "locked": false,
     "schema_version": 1,
     "solution": true
    },
    "pycharm": {
     "name": "#%%\n"
    }
   },
   "outputs": [],
   "source": [
    "from sklearn.linear_model import LinearRegression\n",
    "classifier = LinearRegression()    \n",
    "    \n",
    "def calculate_rmse(X, y, nFold):  \n",
    "    rmse = 0\n",
    "    \n",
    "    # Import the necessary code\n",
    "    from sklearn.pipeline import make_pipeline\n",
    "    from sklearn.preprocessing import Normalizer\n",
    "    from sklearn.model_selection import cross_val_predict\n",
    "    from sklearn.metrics import mean_squared_error\n",
    "    from math import sqrt\n",
    "    \n",
    "    # Create an instance of the Normalizer and add to a pipeline together with the classifier\n",
    "    normalizer = Normalizer()\n",
    "    pipeline = make_pipeline(normalizer, classifier)\n",
    "    \n",
    "    # Make cross-validated predictions\n",
    "    predictions = cross_val_predict(pipeline, X, y, cv=nFold)\n",
    "    \n",
    "    # Calculate the RMSE of the list of predictions\n",
    "    rmse = sqrt(mean_squared_error(y, predictions))\n",
    "    \n",
    "    return rmse"
   ]
  },
  {
   "cell_type": "markdown",
   "metadata": {
    "nbgrader": {
     "grade": false,
     "grade_id": "cell-818d10f53a690e1b",
     "locked": true,
     "solution": false
    },
    "pycharm": {
     "name": "#%% md\n"
    }
   },
   "source": [
    "Validate your result:"
   ]
  },
  {
   "cell_type": "code",
   "execution_count": 9,
   "metadata": {
    "nbgrader": {
     "grade": true,
     "grade_id": "cell-409719bb41aec1f7",
     "locked": true,
     "points": 3,
     "solution": false
    },
    "pycharm": {
     "name": "#%%\n"
    }
   },
   "outputs": [],
   "source": [
    "assert np.allclose(calculate_rmse(X, y, 10),12.677377376954103)\n",
    "assert np.allclose(calculate_rmse(X, y, 5),12.846765912010982)\n",
    "assert np.allclose(calculate_rmse(X, y, len(X)),12.679949293998812)"
   ]
  }
 ],
 "metadata": {
  "kernelspec": {
   "display_name": "Python 3",
   "language": "python",
   "name": "python3"
  },
  "language_info": {
   "codemirror_mode": {
    "name": "ipython",
    "version": 3
   },
   "file_extension": ".py",
   "mimetype": "text/x-python",
   "name": "python",
   "nbconvert_exporter": "python",
   "pygments_lexer": "ipython3",
   "version": "3.9.2"
  }
 },
 "nbformat": 4,
 "nbformat_minor": 2
}