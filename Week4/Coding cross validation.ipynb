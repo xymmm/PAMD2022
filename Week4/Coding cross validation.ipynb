{
 "cells": [
  {
   "cell_type": "markdown",
   "metadata": {
    "pycharm": {
     "name": "#%% md\n"
    }
   },
   "source": [
    "# Coding cross validation yourself"
   ]
  },
  {
   "cell_type": "markdown",
   "metadata": {
    "nbgrader": {
     "grade": false,
     "grade_id": "cell-ee2f8b9bea3d7298",
     "locked": true,
     "solution": false
    },
    "pycharm": {
     "name": "#%% md\n"
    }
   },
   "source": [
    "Now it is up to you to demonstrate your knowledge on the absenteeism dataset."
   ]
  },
  {
   "cell_type": "code",
   "execution_count": null,
   "metadata": {
    "nbgrader": {
     "grade": false,
     "grade_id": "cell-183b4f4f8ff8e19a",
     "locked": true,
     "solution": false
    },
    "pycharm": {
     "name": "#%%\n"
    }
   },
   "outputs": [],
   "source": [
    "import numpy as np\n",
    "import matplotlib.pyplot as plt\n",
    "import pandas as pd\n",
    "\n",
    "\n",
    "np.random.seed(40)\n",
    "\n",
    "data = pd.read_csv(\"absent.csv\",sep=';',index_col=0)\n",
    "y = data['Absenteeism time in hours']\n",
    "X = data.drop('Absenteeism time in hours',axis=1)\n",
    "\n",
    "print(data.head)"
   ]
  },
  {
   "cell_type": "markdown",
   "metadata": {
    "pycharm": {
     "name": "#%% md\n"
    }
   },
   "source": [
    "## Applying cross validation"
   ]
  },
  {
   "cell_type": "markdown",
   "metadata": {
    "nbgrader": {
     "grade": false,
     "grade_id": "cell-2f8f9b1224c611dd",
     "locked": true,
     "solution": false
    },
    "pycharm": {
     "name": "#%% md\n"
    }
   },
   "source": [
    "Apply cross-validation to this regression, where you normalize all variables, and calculate the mean absolute error, mean squared error, and R-squared value (only return the test set value):"
   ]
  },
  {
   "cell_type": "code",
   "execution_count": null,
   "metadata": {
    "nbgrader": {
     "grade": false,
     "grade_id": "apply_cv",
     "locked": false,
     "schema_version": 1,
     "solution": true
    },
    "pycharm": {
     "name": "#%%\n"
    }
   },
   "outputs": [],
   "source": [
    "from sklearn.linear_model import LinearRegression\n",
    "classifier = LinearRegression()    \n",
    "    \n",
    "def apply_cv(X, y, nFold):    \n",
    "    # Your ouput object should be a cross_validate() result\n",
    "    \n",
    "    # Import the required code\n",
    "    from sklearn.pipeline import make_pipeline\n",
    "    from sklearn.model_selection import cross_validate\n",
    "    from sklearn.preprocessing import Normalizer\n",
    "    from sklearn.model_selection import cross_val_predict\n",
    "    from sklearn.metrics import mean_squared_error\n",
    "    \n",
    "    # Create an instance of the Normalizer and add to a pipeline together with the classifier\n",
    "    normalizer = Normalizer()\n",
    "    pipeline = make_pipeline(normalizer, classifier)\n",
    "\n",
    "    # Define the metrics\n",
    "    metrics = ['neg_mean_absolute_error','neg_mean_squared_error','r2']\n",
    "\n",
    "    # Use metrics and pipeline for cross validation\n",
    "    outcomes = cross_validate(pipeline, X, y, scoring=metrics, cv= nFold, return_train_score=False,return_estimator=True)    \n",
    "    \n",
    "    return outcomes"
   ]
  },
  {
   "cell_type": "markdown",
   "metadata": {
    "pycharm": {
     "name": "#%% md\n"
    }
   },
   "source": [
    "Validate your result:"
   ]
  },
  {
   "cell_type": "code",
   "execution_count": null,
   "metadata": {
    "nbgrader": {
     "grade": true,
     "grade_id": "check_apply_cv",
     "locked": true,
     "points": 5,
     "schema_version": 1,
     "solution": false
    },
    "pycharm": {
     "name": "#%%\n"
    }
   },
   "outputs": [],
   "source": [
    "assert np.allclose(apply_cv(X,y,10)['test_neg_mean_absolute_error'],[-5.44169706, -4.88533949, -6.03776489, -6.53316679, -6.97119581,\n",
    "       -5.6121378 , -6.20582349, -5.11806841, -5.58925382, -9.20383222])\n",
    "\n",
    "assert np.allclose(apply_cv(X,y,10)['test_neg_mean_squared_error'],[ -57.35091985, -105.79371931,  -93.71342154, -120.49204514,\n",
    "       -209.8988054 , -179.36848107, -180.39558093,  -90.82555524,\n",
    "       -260.11583086, -309.20461226])\n",
    "\n",
    "assert np.allclose(apply_cv(X,y,10)['test_r2'],[-0.11923377,  0.12709059,  0.09897902,  0.05605541,  0.1482223 ,\n",
    "        0.07964105,  0.02008328,  0.14330421,  0.13328541,  0.06357028])\n",
    "\n",
    "assert np.allclose(apply_cv(X,y,5)['test_neg_mean_absolute_error'],[-5.15813595, -6.30815503, -6.4512004 , -5.66281764, -7.53386985])\n",
    "\n",
    "assert np.allclose(apply_cv(X,y,5)['test_neg_mean_squared_error'],[ -82.17300336, -112.00147052, -196.11580591, -135.58694837,\n",
    "       -299.31974383])\n",
    "\n",
    "assert np.allclose(apply_cv(X,y,5)['test_r2'],[0.05194651, 0.03335425, 0.11121968, 0.06534224, 0.052034  ])"
   ]
  },
  {
   "cell_type": "markdown",
   "metadata": {
    "pycharm": {
     "name": "#%% md\n"
    }
   },
   "source": [
    "## Cross validation with prediction"
   ]
  },
  {
   "cell_type": "markdown",
   "metadata": {
    "pycharm": {
     "name": "#%% md\n"
    }
   },
   "source": [
    "Calculate the root mean squared error of a prediction when it was in the test set:"
   ]
  },
  {
   "cell_type": "code",
   "execution_count": null,
   "metadata": {
    "nbgrader": {
     "grade": false,
     "grade_id": "cell-2622132d0c9d2aed",
     "locked": false,
     "schema_version": 1,
     "solution": true
    },
    "pycharm": {
     "name": "#%%\n"
    }
   },
   "outputs": [],
   "source": [
    "from sklearn.linear_model import LinearRegression\n",
    "classifier = LinearRegression()    \n",
    "    \n",
    "def calculate_rmse(X, y, nFold):  \n",
    "    rmse = 0\n",
    "    \n",
    "    # Import the necessary code\n",
    "    from sklearn.pipeline import make_pipeline\n",
    "    from sklearn.model_selection import cross_validate\n",
    "    from sklearn.preprocessing import Normalizer\n",
    "    from sklearn.model_selection import cross_val_predict\n",
    "    from sklearn.metrics import mean_squared_error\n",
    "    from math import sqrt\n",
    "    \n",
    "    # Create an instance of the Normalizer and add to a pipeline together with the classifier\n",
    "    normalizer = Normalizer()\n",
    "    pipeline = make_pipeline(normalizer, classifier)\n",
    "    \n",
    "    # Make cross-validated predictions\n",
    "    predictions = cross_val_predict(pipeline, X, y, cv=nFold)\n",
    "    \n",
    "    # Calculate the RMSE of the list of predictions\n",
    "    rmse = sqrt(mean_squared_error(y, predictions))\n",
    "    \n",
    "    return rmse"
   ]
  },
  {
   "cell_type": "markdown",
   "metadata": {
    "nbgrader": {
     "grade": false,
     "grade_id": "cell-818d10f53a690e1b",
     "locked": true,
     "solution": false
    },
    "pycharm": {
     "name": "#%% md\n"
    }
   },
   "source": [
    "Validate your result:"
   ]
  },
  {
   "cell_type": "code",
   "execution_count": 9,
   "metadata": {
    "nbgrader": {
     "grade": true,
     "grade_id": "cell-409719bb41aec1f7",
     "locked": true,
     "points": 3,
     "solution": false
    },
    "pycharm": {
     "name": "#%%\n"
    }
   },
   "outputs": [],
   "source": [
    "assert np.allclose(calculate_rmse(X, y, 10),12.677377376954103)\n",
    "assert np.allclose(calculate_rmse(X, y, 5),12.846765912010982)\n",
    "assert np.allclose(calculate_rmse(X, y, len(X)),12.679949293998812)"
   ]
  }
 ],
 "metadata": {
  "kernelspec": {
   "display_name": "Python 3",
   "language": "python",
   "name": "python3"
  },
  "language_info": {
   "codemirror_mode": {
    "name": "ipython",
    "version": 3
   },
   "file_extension": ".py",
   "mimetype": "text/x-python",
   "name": "python",
   "nbconvert_exporter": "python",
   "pygments_lexer": "ipython3",
   "version": "3.9.2"
  }
 },
 "nbformat": 4,
 "nbformat_minor": 2
}