{
 "cells": [
  {
   "cell_type": "markdown",
   "metadata": {
    "pycharm": {
     "name": "#%% md\n"
    }
   },
   "source": [
    "# Coding cross validation yourself"
   ]
  },
  {
   "cell_type": "markdown",
   "metadata": {
    "nbgrader": {
     "grade": false,
     "grade_id": "cell-ee2f8b9bea3d7298",
     "locked": true,
     "solution": false
    },
    "pycharm": {
     "name": "#%% md\n"
    }
   },
   "source": [
    "Now it is up to you to demonstrate your knowledge on the absenteeism dataset."
   ]
  },
  {
   "cell_type": "code",
   "execution_count": 1,
   "metadata": {
    "nbgrader": {
     "grade": false,
     "grade_id": "cell-183b4f4f8ff8e19a",
     "locked": true,
     "solution": false
    },
    "pycharm": {
     "name": "#%%\n"
    }
   },
   "outputs": [
    {
     "name": "stdout",
     "output_type": "stream",
     "text": [
      "<bound method NDFrame.head of     Reason for absence  Month of absence  Day of the week  Seasons  \\\n",
      "ID                                                                   \n",
      "11                  26                 7                3        1   \n",
      "36                   0                 7                3        1   \n",
      "3                   23                 7                4        1   \n",
      "7                    7                 7                5        1   \n",
      "11                  23                 7                5        1   \n",
      "..                 ...               ...              ...      ...   \n",
      "11                  14                 7                3        1   \n",
      "1                   11                 7                3        1   \n",
      "4                    0                 0                3        1   \n",
      "8                    0                 0                4        2   \n",
      "35                   0                 0                6        3   \n",
      "\n",
      "    Transportation expense  Distance from Residence to Work  Service time  \\\n",
      "ID                                                                          \n",
      "11                     289                               36            13   \n",
      "36                     118                               13            18   \n",
      "3                      179                               51            18   \n",
      "7                      279                                5            14   \n",
      "11                     289                               36            13   \n",
      "..                     ...                              ...           ...   \n",
      "11                     289                               36            13   \n",
      "1                      235                               11            14   \n",
      "4                      118                               14            13   \n",
      "8                      231                               35            14   \n",
      "35                     179                               45            14   \n",
      "\n",
      "    Age  Work load Average/day   Hit target  Disciplinary failure  Education  \\\n",
      "ID                                                                             \n",
      "11   33                 239.554          97                     0          1   \n",
      "36   50                 239.554          97                     1          1   \n",
      "3    38                 239.554          97                     0          1   \n",
      "7    39                 239.554          97                     0          1   \n",
      "11   33                 239.554          97                     0          1   \n",
      "..  ...                     ...         ...                   ...        ...   \n",
      "11   33                 264.604          93                     0          1   \n",
      "1    37                 264.604          93                     0          3   \n",
      "4    40                 271.219          95                     0          1   \n",
      "8    39                 271.219          95                     0          1   \n",
      "35   53                 271.219          95                     0          1   \n",
      "\n",
      "    Son  Social drinker  Social smoker  Pet  Weight  Height  Body mass index  \\\n",
      "ID                                                                             \n",
      "11    2               1              0    1      90     172               30   \n",
      "36    1               1              0    0      98     178               31   \n",
      "3     0               1              0    0      89     170               31   \n",
      "7     2               1              1    0      68     168               24   \n",
      "11    2               1              0    1      90     172               30   \n",
      "..  ...             ...            ...  ...     ...     ...              ...   \n",
      "11    2               1              0    1      90     172               30   \n",
      "1     1               0              0    1      88     172               29   \n",
      "4     1               1              0    8      98     170               34   \n",
      "8     2               1              0    2     100     170               35   \n",
      "35    1               0              0    1      77     175               25   \n",
      "\n",
      "    Absenteeism time in hours  \n",
      "ID                             \n",
      "11                          4  \n",
      "36                          0  \n",
      "3                           2  \n",
      "7                           4  \n",
      "11                          2  \n",
      "..                        ...  \n",
      "11                          8  \n",
      "1                           4  \n",
      "4                           0  \n",
      "8                           0  \n",
      "35                          0  \n",
      "\n",
      "[740 rows x 20 columns]>\n"
     ]
    }
   ],
   "source": [
    "import numpy as np\n",
    "import pandas as pd\n",
    "\n",
    "\n",
    "np.random.seed(40)\n",
    "\n",
    "# First open absent.csv directly by double-click to have an overview of the data structure.\n",
    "# And we see that we should let Jupyter read it every \";\"\n",
    "data = pd.read_csv(\"absent.csv\",sep=';',index_col=0)\n",
    "\n",
    "y = data['Absenteeism time in hours']\n",
    "X = data.drop('Absenteeism time in hours',axis=1)\n",
    "\n",
    "print(data.head)"
   ]
  },
  {
   "cell_type": "markdown",
   "metadata": {
    "pycharm": {
     "name": "#%% md\n"
    }
   },
   "source": [
    "## Applying cross validation"
   ]
  },
  {
   "cell_type": "markdown",
   "metadata": {
    "nbgrader": {
     "grade": false,
     "grade_id": "cell-2f8f9b1224c611dd",
     "locked": true,
     "solution": false
    },
    "pycharm": {
     "name": "#%% md\n"
    }
   },
   "source": [
    "Apply cross-validation to this regression, where you\n",
    "- **normalise** all variables,\n",
    "- **calculate** the mean absolute error, mean squared error, and R-squared value\n",
    "- and only return the test set value\n",
    "\n",
    "(so here we have multiple metrics, careful about the function to choose)"
   ]
  },
  {
   "cell_type": "code",
   "execution_count": 2,
   "metadata": {
    "nbgrader": {
     "grade": false,
     "grade_id": "apply_cv",
     "locked": false,
     "schema_version": 1,
     "solution": true
    },
    "pycharm": {
     "name": "#%%\n"
    }
   },
   "outputs": [],
   "source": [
    "\n",
    "'''\n",
    "Some hints:\n",
    "\n",
    "You may want to define a function to call the process of cross validation.\n",
    "The input will be your data and the number of fold.\n",
    "The output object should be the results that contain metrics required as above. (score? cross_validate?)\n",
    "    Here you can refer to the input parameter explanation of the function you choose to set True or False.\n",
    "    You can consider input parameters: return_train_score and return_estimator to find how to define them.\n",
    "\n",
    "A pipeline may be needed to contain normalizer along with classifier?\n",
    "\n",
    "And don't forget to import library at the beginning.\n",
    "'''\n",
    "\n",
    "def apply_cv(X, y, nFold):    \n",
    "\n",
    "# TODO: Here begins your answer.\n",
    "    \n",
    "    return"
   ]
  },
  {
   "cell_type": "markdown",
   "metadata": {
    "pycharm": {
     "name": "#%% md\n"
    }
   },
   "source": [
    "Validate your result:"
   ]
  },
  {
   "cell_type": "code",
   "execution_count": 3,
   "metadata": {
    "nbgrader": {
     "grade": true,
     "grade_id": "check_apply_cv",
     "locked": true,
     "points": 5,
     "schema_version": 1,
     "solution": false
    },
    "pycharm": {
     "name": "#%%\n"
    }
   },
   "outputs": [
    {
     "ename": "TypeError",
     "evalue": "'NoneType' object is not subscriptable",
     "output_type": "error",
     "traceback": [
      "\u001B[1;31m---------------------------------------------------------------------------\u001B[0m",
      "\u001B[1;31mTypeError\u001B[0m                                 Traceback (most recent call last)",
      "Input \u001B[1;32mIn [3]\u001B[0m, in \u001B[0;36m<cell line: 1>\u001B[1;34m()\u001B[0m\n\u001B[1;32m----> 1\u001B[0m \u001B[38;5;28;01massert\u001B[39;00m np\u001B[38;5;241m.\u001B[39mallclose(\u001B[43mapply_cv\u001B[49m\u001B[43m(\u001B[49m\u001B[43mX\u001B[49m\u001B[43m,\u001B[49m\u001B[43my\u001B[49m\u001B[43m,\u001B[49m\u001B[38;5;241;43m10\u001B[39;49m\u001B[43m)\u001B[49m\u001B[43m[\u001B[49m\u001B[38;5;124;43m'\u001B[39;49m\u001B[38;5;124;43mtest_neg_mean_absolute_error\u001B[39;49m\u001B[38;5;124;43m'\u001B[39;49m\u001B[43m]\u001B[49m,[\u001B[38;5;241m-\u001B[39m\u001B[38;5;241m5.44169706\u001B[39m, \u001B[38;5;241m-\u001B[39m\u001B[38;5;241m4.88533949\u001B[39m, \u001B[38;5;241m-\u001B[39m\u001B[38;5;241m6.03776489\u001B[39m, \u001B[38;5;241m-\u001B[39m\u001B[38;5;241m6.53316679\u001B[39m, \u001B[38;5;241m-\u001B[39m\u001B[38;5;241m6.97119581\u001B[39m,\n\u001B[0;32m      2\u001B[0m        \u001B[38;5;241m-\u001B[39m\u001B[38;5;241m5.6121378\u001B[39m , \u001B[38;5;241m-\u001B[39m\u001B[38;5;241m6.20582349\u001B[39m, \u001B[38;5;241m-\u001B[39m\u001B[38;5;241m5.11806841\u001B[39m, \u001B[38;5;241m-\u001B[39m\u001B[38;5;241m5.58925382\u001B[39m, \u001B[38;5;241m-\u001B[39m\u001B[38;5;241m9.20383222\u001B[39m])\n\u001B[0;32m      4\u001B[0m \u001B[38;5;28;01massert\u001B[39;00m np\u001B[38;5;241m.\u001B[39mallclose(apply_cv(X,y,\u001B[38;5;241m10\u001B[39m)[\u001B[38;5;124m'\u001B[39m\u001B[38;5;124mtest_neg_mean_squared_error\u001B[39m\u001B[38;5;124m'\u001B[39m],[ \u001B[38;5;241m-\u001B[39m\u001B[38;5;241m57.35091985\u001B[39m, \u001B[38;5;241m-\u001B[39m\u001B[38;5;241m105.79371931\u001B[39m,  \u001B[38;5;241m-\u001B[39m\u001B[38;5;241m93.71342154\u001B[39m, \u001B[38;5;241m-\u001B[39m\u001B[38;5;241m120.49204514\u001B[39m,\n\u001B[0;32m      5\u001B[0m        \u001B[38;5;241m-\u001B[39m\u001B[38;5;241m209.8988054\u001B[39m , \u001B[38;5;241m-\u001B[39m\u001B[38;5;241m179.36848107\u001B[39m, \u001B[38;5;241m-\u001B[39m\u001B[38;5;241m180.39558093\u001B[39m,  \u001B[38;5;241m-\u001B[39m\u001B[38;5;241m90.82555524\u001B[39m,\n\u001B[0;32m      6\u001B[0m        \u001B[38;5;241m-\u001B[39m\u001B[38;5;241m260.11583086\u001B[39m, \u001B[38;5;241m-\u001B[39m\u001B[38;5;241m309.20461226\u001B[39m])\n\u001B[0;32m      8\u001B[0m \u001B[38;5;28;01massert\u001B[39;00m np\u001B[38;5;241m.\u001B[39mallclose(apply_cv(X,y,\u001B[38;5;241m10\u001B[39m)[\u001B[38;5;124m'\u001B[39m\u001B[38;5;124mtest_r2\u001B[39m\u001B[38;5;124m'\u001B[39m],[\u001B[38;5;241m-\u001B[39m\u001B[38;5;241m0.11923377\u001B[39m,  \u001B[38;5;241m0.12709059\u001B[39m,  \u001B[38;5;241m0.09897902\u001B[39m,  \u001B[38;5;241m0.05605541\u001B[39m,  \u001B[38;5;241m0.1482223\u001B[39m ,\n\u001B[0;32m      9\u001B[0m         \u001B[38;5;241m0.07964105\u001B[39m,  \u001B[38;5;241m0.02008328\u001B[39m,  \u001B[38;5;241m0.14330421\u001B[39m,  \u001B[38;5;241m0.13328541\u001B[39m,  \u001B[38;5;241m0.06357028\u001B[39m])\n",
      "\u001B[1;31mTypeError\u001B[0m: 'NoneType' object is not subscriptable"
     ]
    }
   ],
   "source": [
    "assert np.allclose(apply_cv(X,y,10)['test_neg_mean_absolute_error'],[-5.44169706, -4.88533949, -6.03776489, -6.53316679, -6.97119581,\n",
    "       -5.6121378 , -6.20582349, -5.11806841, -5.58925382, -9.20383222])\n",
    "\n",
    "assert np.allclose(apply_cv(X,y,10)['test_neg_mean_squared_error'],[ -57.35091985, -105.79371931,  -93.71342154, -120.49204514,\n",
    "       -209.8988054 , -179.36848107, -180.39558093,  -90.82555524,\n",
    "       -260.11583086, -309.20461226])\n",
    "\n",
    "assert np.allclose(apply_cv(X,y,10)['test_r2'],[-0.11923377,  0.12709059,  0.09897902,  0.05605541,  0.1482223 ,\n",
    "        0.07964105,  0.02008328,  0.14330421,  0.13328541,  0.06357028])\n",
    "\n",
    "assert np.allclose(apply_cv(X,y,5)['test_neg_mean_absolute_error'],[-5.15813595, -6.30815503, -6.4512004 , -5.66281764, -7.53386985])\n",
    "\n",
    "assert np.allclose(apply_cv(X,y,5)['test_neg_mean_squared_error'],[ -82.17300336, -112.00147052, -196.11580591, -135.58694837,\n",
    "       -299.31974383])\n",
    "\n",
    "assert np.allclose(apply_cv(X,y,5)['test_r2'],[0.05194651, 0.03335425, 0.11121968, 0.06534224, 0.052034  ])"
   ]
  },
  {
   "cell_type": "markdown",
   "metadata": {
    "pycharm": {
     "name": "#%% md\n"
    }
   },
   "source": [
    "## Cross validation with prediction"
   ]
  },
  {
   "cell_type": "markdown",
   "metadata": {
    "pycharm": {
     "name": "#%% md\n"
    }
   },
   "source": [
    "Calculate the root mean squared error of a prediction when it was in the test set:"
   ]
  },
  {
   "cell_type": "code",
   "execution_count": null,
   "metadata": {
    "nbgrader": {
     "grade": false,
     "grade_id": "cell-2622132d0c9d2aed",
     "locked": false,
     "schema_version": 1,
     "solution": true
    },
    "pycharm": {
     "name": "#%%\n"
    }
   },
   "outputs": [],
   "source": [
    "\n",
    "'''\n",
    "You can either define a function or directly calculate RMSE when data is given, but I would recommend to go with the function.\n",
    "\n",
    "This function has your test set as input, as well as the number of fold.\n",
    "\n",
    "Choose a function to predict, and don't forget that both normalizer and classifier are applied, so they should be contained together.\n",
    "\n",
    "mean_squared_error from sklearn.metrics may be useful for the calculation of RMSE.\n",
    "'''\n",
    "    \n",
    "def calculate_rmse(X, y, nFold):  \n",
    "\n",
    "# TODO: Here begins your answer.\n",
    "\n",
    "    return"
   ]
  },
  {
   "cell_type": "markdown",
   "metadata": {
    "nbgrader": {
     "grade": false,
     "grade_id": "cell-818d10f53a690e1b",
     "locked": true,
     "solution": false
    },
    "pycharm": {
     "name": "#%% md\n"
    }
   },
   "source": [
    "Validate your result:"
   ]
  },
  {
   "cell_type": "code",
   "execution_count": null,
   "metadata": {
    "nbgrader": {
     "grade": true,
     "grade_id": "cell-409719bb41aec1f7",
     "locked": true,
     "points": 3,
     "solution": false
    },
    "pycharm": {
     "name": "#%%\n"
    }
   },
   "outputs": [],
   "source": [
    "assert np.allclose(calculate_rmse(X, y, 10),12.677377376954103)\n",
    "assert np.allclose(calculate_rmse(X, y, 5),12.846765912010982)\n",
    "assert np.allclose(calculate_rmse(X, y, len(X)),12.679949293998812)"
   ]
  }
 ],
 "metadata": {
  "kernelspec": {
   "display_name": "Python 3",
   "language": "python",
   "name": "python3"
  },
  "language_info": {
   "codemirror_mode": {
    "name": "ipython",
    "version": 3
   },
   "file_extension": ".py",
   "mimetype": "text/x-python",
   "name": "python",
   "nbconvert_exporter": "python",
   "pygments_lexer": "ipython3",
   "version": "3.9.2"
  }
 },
 "nbformat": 4,
 "nbformat_minor": 2
}