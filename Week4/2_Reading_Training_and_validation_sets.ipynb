{
 "cells": [
  {
   "cell_type": "markdown",
   "metadata": {
    "pycharm": {
     "name": "#%% md\n"
    }
   },
   "source": [
    "# Creating training and test sets"
   ]
  },
  {
   "cell_type": "markdown",
   "metadata": {
    "nbgrader": {
     "grade": false,
     "locked": true,
     "solution": false
    },
    "pycharm": {
     "name": "#%% md\n"
    }
   },
   "source": [
    "First, let's introduce the same packages and code to calculate our evaluation metrics quickly:"
   ]
  },
  {
   "cell_type": "code",
   "execution_count": 1,
   "outputs": [],
   "source": [
    "##### added line to ensure plots are showing\n",
    "# %matplotlib inline\n",
    "#####\n",
    "\n",
    "import numpy as np\n",
    "import matplotlib.pyplot as plt\n",
    "\n",
    "# The calculations we use for the evaluation calculations\n",
    "from sklearn.metrics import mean_absolute_error as mae\n",
    "from math import sqrt\n",
    "from sklearn.metrics import mean_squared_error as mse\n",
    "\n",
    "\n",
    "\n",
    "# The following function is similar to the one introduced in Week 3.\n",
    "def calculate_evaluation_measures(x,y,a,b):\n",
    "    y_hat = []\n",
    "    for x_i in x:\n",
    "        y_hat.append(x_i*a+b)\n",
    "\n",
    "    pe = []\n",
    "    for j in range(0,len(y)):\n",
    "        pe_j = (y[j]-y_hat[j])/y[j]*100\n",
    "        pe.append(abs(pe_j))\n",
    "    mape = np.average(pe)\n",
    "\n",
    "    print('Model MAE : ' + str(mae(y,y_hat)))\n",
    "    print('Model RMSE : '+ str(sqrt(mse(y,y_hat))))\n",
    "    print('Model MAPE : '+ str(mape))"
   ],
   "metadata": {
    "collapsed": false,
    "pycharm": {
     "name": "#%%\n"
    }
   }
  },
  {
   "cell_type": "markdown",
   "metadata": {
    "nbgrader": {
     "grade": false,
     "locked": true,
     "solution": false
    },
    "pycharm": {
     "name": "#%% md\n"
    }
   },
   "source": [
    "Next, let's introduce the data we are going to be using:"
   ]
  },
  {
   "cell_type": "code",
   "execution_count": 2,
   "metadata": {
    "nbgrader": {
     "grade": false,
     "locked": true,
     "solution": false
    },
    "pycharm": {
     "name": "#%%\n"
    }
   },
   "outputs": [
    {
     "data": {
      "text/plain": "<Figure size 432x288 with 1 Axes>",
      "image/png": "[encoded data removed]"
     },
     "metadata": {
      "needs_background": "light"
     },
     "output_type": "display_data"
    }
   ],
   "source": [
    "# _o stands for 'original'\n",
    "x_o = np.array([3,8,3,4,1,7,5,3,8,2,10,8,10,10,9,8,10,6,7,6])\n",
    "y_o = np.array([7,3,1,6,10,10,3,6,5,10,10,9,8,2,1,3,1,1,2,2])\n",
    "\n",
    "# Make a scatter plot and overlay with our equations\n",
    "plt.scatter(x_o,y_o,c='green')\n",
    "\n",
    "# Fix the a and b parameters to form a linear model.\n",
    "a = 0.5 # slope\n",
    "b = 2   # intercept\n",
    "\n",
    "# Set the axes limits\n",
    "plt.axis([0, 11, 0, 11])\n",
    "x = np.array(range(0,12))\n",
    "plt.plot(x,x*a+b,'b-')\n",
    "plt.show()\n"
   ]
  },
  {
   "cell_type": "code",
   "execution_count": 3,
   "outputs": [
    {
     "name": "stdout",
     "output_type": "stream",
     "text": [
      "Model MAE : 3.6\n",
      "Model RMSE : 4.018706259482023\n",
      "Model MAPE : 151.79166666666669\n"
     ]
    }
   ],
   "source": [
    "# And calculate evaluation matrices.\n",
    "calculate_evaluation_measures(x_o,y_o,a,b)"
   ],
   "metadata": {
    "collapsed": false,
    "pycharm": {
     "name": "#%%\n"
    }
   }
  },
  {
   "cell_type": "markdown",
   "metadata": {
    "nbgrader": {
     "grade": false,
     "locked": true,
     "solution": false
    },
    "pycharm": {
     "name": "#%% md\n"
    }
   },
   "source": [
    "Then we can obtain training and test sets.\n",
    "\n",
    "Here we apply a function **train_test_split** from sklearn. This function splits arrays or matrices into random training and validation subsets as returns.\n",
    "Input parameters include\n",
    "* original data,\n",
    "* test_size: If float, should be between 0.0 and 1.0 and represent the proportion of the dataset to include in the test split. If int, represents the absolute number of test samples. If None, the value is set to the complement of the train size. If ``train_size`` is also None, it will be set to 0.25.\n",
    "* random_state: Controls the shuffling applied to the data before applying the split. Pass an int for reproducible output across multiple function calls. It doesn't matter what integer you put for this place; the important thing is that everytime you use the same integer, then you will always get the same output as the first time you make the split. This is useful if you want reproducible results.\n",
    "\n",
    "More information can be found in https://scikit-learn.org/stable/modules/generated/sklearn.model_selection.train_test_split.html"
   ]
  },
  {
   "cell_type": "code",
   "execution_count": 4,
   "metadata": {
    "nbgrader": {
     "grade": false,
     "locked": false,
     "solution": false
    },
    "pycharm": {
     "name": "#%%\n"
    }
   },
   "outputs": [
    {
     "data": {
      "text/plain": "<Figure size 432x288 with 1 Axes>",
      "image/png": "[encoded data removed]"
     },
     "metadata": {
      "needs_background": "light"
     },
     "output_type": "display_data"
    },
    {
     "name": "stdout",
     "output_type": "stream",
     "text": [
      "Evaluation 1: \n",
      "Model MAE : 3.85\n",
      "Model RMSE : 4.407380174207803\n",
      "Model MAPE : 147.91666666666669\n",
      "Evaluation 2: \n",
      "Model MAE : 3.35\n",
      "Model RMSE : 3.588175023601831\n",
      "Model MAPE : 155.66666666666666\n"
     ]
    }
   ],
   "source": [
    "from sklearn.model_selection import train_test_split\n",
    "\n",
    "x_train, x_test, y_train, y_test = train_test_split(x_o, y_o, test_size=0.5, random_state=42)\n",
    "\n",
    "plt.scatter(x_train,y_train,c='red')\n",
    "plt.scatter(x_test,y_test,c='blue')\n",
    "plt.axis([0, 11, 0, 11])\n",
    "plt.plot(x,x*a+b,'b-')\n",
    "plt.show()\n",
    "\n",
    "print('Evaluation 1: ')\n",
    "calculate_evaluation_measures(x_train,y_train,a,b)\n",
    "print('Evaluation 2: ')\n",
    "calculate_evaluation_measures(x_test,y_test,a,b)"
   ]
  },
  {
   "cell_type": "markdown",
   "metadata": {
    "nbgrader": {
     "grade": false,
     "locked": true,
     "solution": false
    },
    "pycharm": {
     "name": "#%% md\n"
    }
   },
   "source": [
    "The results give quite reasonable results. They are both comparable to the original figures we had for all three evaluation metrics.\n",
    "\n",
    "**You will use this function a lot throughout the remainder of the course.**"
   ]
  },
  {
   "cell_type": "markdown",
   "metadata": {
    "nbgrader": {
     "grade": false,
     "locked": true,
     "solution": false
    },
    "pycharm": {
     "name": "#%% md\n"
    }
   },
   "source": [
    "By default, the function tries to **keep the same proportion of each class** that is presented in the original dataset. Just notice this for a binary case:"
   ]
  },
  {
   "cell_type": "code",
   "execution_count": 5,
   "outputs": [
    {
     "name": "stdout",
     "output_type": "stream",
     "text": [
      "Labels training set: [2 5 5 2 5 2 5 2 2 5]\n",
      "Labels test set: [5 2 2 5 5 5 2 5 2 2]\n"
     ]
    }
   ],
   "source": [
    "x_o = np.array([1,2,3,4,5,6,7,8,9,10,1,2,3,4,5,6,7,8,9,10])\n",
    "y_o = np.array([5,5,5,5,5,5,5,5,5,5,2,2,2,2,2,2,2,2,2,2])\n",
    "\n",
    "x_train, x_test, y_train, y_test = train_test_split(x_o, y_o, test_size=0.5, random_state=42)\n",
    "\n",
    "print('Labels training set: '+str(y_train))\n",
    "print('Labels test set: '+str(y_test))"
   ],
   "metadata": {
    "collapsed": false,
    "pycharm": {
     "name": "#%%\n"
    }
   }
  },
  {
   "cell_type": "code",
   "execution_count": null,
   "outputs": [],
   "source": [],
   "metadata": {
    "collapsed": false,
    "pycharm": {
     "name": "#%%\n"
    }
   }
  }
 ],
 "metadata": {
  "kernelspec": {
   "display_name": "Python 3",
   "language": "python",
   "name": "python3"
  },
  "language_info": {
   "codemirror_mode": {
    "name": "ipython",
    "version": 3
   },
   "file_extension": ".py",
   "mimetype": "text/x-python",
   "name": "python",
   "nbconvert_exporter": "python",
   "pygments_lexer": "ipython3",
   "version": "3.9.2"
  }
 },
 "nbformat": 4,
 "nbformat_minor": 2
}