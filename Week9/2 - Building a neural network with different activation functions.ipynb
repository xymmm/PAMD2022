{
 "cells": [
  {
   "cell_type": "markdown",
   "metadata": {},
   "source": [
    "# Building a neural network with different activation functions"
   ]
  },
  {
   "cell_type": "markdown",
   "metadata": {},
   "source": [
    "We've discussed in class that one of the advantages of neural networks lies in their ability to capture nonlinearity. We'll see that in action now as we try to classify a circular dataset.\n",
    "\n",
    "For that we will use kernels to capture nonlinearity. You've seen this work before in Support Vector Machines. I like to imagine kernels as a way to \"push\" data into other feature spaces to allow us to separate it. The Wikipedia article on kernel machines (https://en.wikipedia.org/wiki/Kernel_method) has a very intuitive picture for that process: if we have a scatterplot in two dimensions, we can \"push\" a kernel through that cloud of dots in order to separate them. Points of one class are suddenly pushed upwards into the new dimension as they are \"on top\" of the kernel shape. We are expanding the dimensions by one using the kernel and can now find a linear classifier that cuts through the kernel, separating the points \"on top\" from those \"on the bottom\". Different kernel shapes exist for different scenarios."
   ]
  },
  {
   "cell_type": "markdown",
   "metadata": {},
   "source": [
    "## Dataset - circles"
   ]
  },
  {
   "cell_type": "markdown",
   "metadata": {},
   "source": [
    "Let's generate some data ourselves for this example."
   ]
  },
  {
   "cell_type": "code",
   "execution_count": 1,
   "metadata": {},
   "outputs": [
    {
     "name": "stdout",
     "output_type": "stream",
     "text": [
      "          x         y  label\n",
      "0 -0.736801  0.453909      1\n",
      "1  0.677176  0.475985      1\n",
      "2 -0.058268  0.890845      1\n",
      "3 -0.393941 -0.594823      1\n",
      "4  0.907067  0.500252      0\n"
     ]
    }
   ],
   "source": [
    "import pandas as pd\n",
    "import numpy as np\n",
    "from sklearn.datasets import make_circles, make_checkerboard\n",
    "import matplotlib.pyplot as plt\n",
    "\n",
    "# scikit-learn offers a method to create a similar dataset\n",
    "X, y = make_circles(n_samples=1000, noise=0.05)\n",
    "\n",
    "df = pd.DataFrame(dict(x=X[:,0], y=X[:,1], label=y))\n",
    "colors = {0:'red', 1:'blue'}\n",
    "\n",
    "print(df.head())"
   ]
  },
  {
   "cell_type": "code",
   "execution_count": 2,
   "metadata": {},
   "outputs": [
    {
     "data": {
      "image/png": "[encoded data removed]",
      "text/plain": [
       "<Figure size 432x288 with 1 Axes>"
      ]
     },
     "metadata": {
      "needs_background": "light"
     },
     "output_type": "display_data"
    }
   ],
   "source": [
    "# Plotting the dataset\n",
    "fig, ax = plt.subplots()\n",
    "grouped = df.groupby('label')\n",
    "for key, group in grouped:\n",
    "    group.plot(ax=ax, kind='scatter', x='x', y='y', label=key, color=colors[key])\n",
    "plt.show()"
   ]
  },
  {
   "cell_type": "markdown",
   "metadata": {},
   "source": [
    "You can see that this will be a tricky example for any linear classifier. There's no way of drawing a line through this space to separate the two classes. A SVM might work well and, as we will see in this example, a neural network handles it well too."
   ]
  },
  {
   "cell_type": "markdown",
   "metadata": {},
   "source": [
    "We first create a training and test set:"
   ]
  },
  {
   "cell_type": "code",
   "execution_count": 3,
   "metadata": {},
   "outputs": [],
   "source": [
    "from sklearn.model_selection import train_test_split\n",
    "from sklearn.metrics import accuracy_score, roc_auc_score\n",
    "\n",
    "X_train, X_test, y_train, y_test = train_test_split(X, y, test_size = 0.3)"
   ]
  },
  {
   "cell_type": "markdown",
   "metadata": {},
   "source": [
    "## Linear kernel"
   ]
  },
  {
   "cell_type": "markdown",
   "metadata": {},
   "source": [
    "Now, we create a neural network with two hidden layers, and a linear kernel. Notice that we also run the algorithm 10 times/epochs.\n",
    "\n",
    "One epoch refers to one complete run of the whole training dataset through the network. You'll remember that we're running through forward once and then backward once to update our weights and biases (backpropagation). When we've completed that cycle, we've run one epoch. Running multiple epochs (by then pushing the same data through again) can improve the performance of your network, so it's common to run at least a few."
   ]
  },
  {
   "cell_type": "code",
   "execution_count": 6,
   "metadata": {},
   "outputs": [
    {
     "name": "stdout",
     "output_type": "stream",
     "text": [
      "Model: \"sequential_2\"\n",
      "_________________________________________________________________\n",
      " Layer (type)                Output Shape              Param #   \n",
      "=================================================================\n",
      " dense_6 (Dense)             (None, 50)                150       \n",
      "                                                                 \n",
      " activation_6 (Activation)   (None, 50)                0         \n",
      "                                                                 \n",
      " dense_7 (Dense)             (None, 50)                2550      \n",
      "                                                                 \n",
      " activation_7 (Activation)   (None, 50)                0         \n",
      "                                                                 \n",
      " dense_8 (Dense)             (None, 1)                 51        \n",
      "                                                                 \n",
      " activation_8 (Activation)   (None, 1)                 0         \n",
      "                                                                 \n",
      "=================================================================\n",
      "Total params: 2,751\n",
      "Trainable params: 2,751\n",
      "Non-trainable params: 0\n",
      "_________________________________________________________________\n",
      "Epoch 1/10\n",
      "22/22 [==============================] - 1s 1ms/step - loss: 0.6986 - accuracy: 0.4843\n",
      "Epoch 2/10\n",
      "22/22 [==============================] - 0s 1ms/step - loss: 0.6943 - accuracy: 0.5286\n",
      "Epoch 3/10\n",
      "22/22 [==============================] - 0s 1ms/step - loss: 0.6935 - accuracy: 0.5000\n",
      "Epoch 4/10\n",
      "22/22 [==============================] - 0s 1ms/step - loss: 0.6960 - accuracy: 0.4643\n",
      "Epoch 5/10\n",
      "22/22 [==============================] - 0s 3ms/step - loss: 0.6939 - accuracy: 0.5214\n",
      "Epoch 6/10\n",
      "22/22 [==============================] - 0s 1ms/step - loss: 0.6941 - accuracy: 0.5086\n",
      "Epoch 7/10\n",
      "22/22 [==============================] - 0s 3ms/step - loss: 0.6937 - accuracy: 0.5129\n",
      "Epoch 8/10\n",
      "22/22 [==============================] - 0s 1ms/step - loss: 0.6942 - accuracy: 0.5271\n",
      "Epoch 9/10\n",
      "22/22 [==============================] - 0s 1ms/step - loss: 0.6940 - accuracy: 0.5200\n",
      "Epoch 10/10\n",
      "22/22 [==============================] - 0s 3ms/step - loss: 0.6962 - accuracy: 0.4957\n",
      "10/10 [==============================] - 0s 891us/step\n",
      "Accuracy: 0.4866666666666667\n",
      "AUC: 0.4687054843304843\n"
     ]
    }
   ],
   "source": [
    "from keras.models import Sequential\n",
    "from keras.layers.core import Dense, Activation\n",
    "from tensorflow.keras.optimizers import Adam\n",
    "\n",
    "# As before, specify the size of our input and output.\n",
    "input_dim = X_train.shape[1]\n",
    "output_dim = 1\n",
    "\n",
    "# We're building a sequential model again.\n",
    "model = Sequential()\n",
    "\n",
    "# Add the input layer and connect to 50 hidden neurons\n",
    "model.add(Dense(50,input_dim=input_dim))\n",
    "\n",
    "# See the activation type of the layer. Before, we only added this layer as a very last layer to change\n",
    "# our output, but here we can transform the data while feeding it through the layers.\n",
    "model.add(Activation('linear'))\n",
    "\n",
    "# Extra hidden layer can be added like this\n",
    "model.add(Dense(50))\n",
    "model.add(Activation('linear'))\n",
    "\n",
    "# Connect the previous layer to the output layer\n",
    "model.add(Dense(output_dim))\n",
    "\n",
    "# Add a final layer for classification based on the sigmoid function. This will allows us the binary\n",
    "# classification into 1/0 that we're looking for.\n",
    "model.add(Activation('sigmoid'))\n",
    "\n",
    "# We use a different optimiser here instead of stochastic gradient descent\n",
    "# This is not important now, but it shows you that options exist for different scenarios.\n",
    "model.compile(optimizer=Adam(),loss='binary_crossentropy',metrics=['accuracy'])\n",
    "\n",
    "# Fit to training data, test on test data and print a summary output.\n",
    "model.summary()\n",
    "model.fit(X_train,y_train,epochs=10)\n",
    "prediction_prob = model.predict(X_test)\n",
    "prediction_class = (prediction_prob > 0.5).astype(\"int32\")\n",
    "\n",
    "print('Accuracy:', accuracy_score(y_test,prediction_class))\n",
    "print('AUC:',roc_auc_score(y_test,prediction_prob))"
   ]
  },
  {
   "cell_type": "markdown",
   "metadata": {},
   "source": [
    "Notice the last two lines of your output: our accuracy and AUC are very low around 0.48, so clearly a linear approach to this problem doesn't work. We're basically classifying at random at the moment. Clearly, the network is having a hard time coming up with good results. The linear kernel will just not be able to capture the shapes in the data adequately. Let's try a different kernel."
   ]
  },
  {
   "cell_type": "markdown",
   "metadata": {},
   "source": [
    "## ReLU kernel"
   ]
  },
  {
   "cell_type": "markdown",
   "metadata": {},
   "source": [
    "We can easily change the code above to use a different kernel, e.g., the rectified linear unit. \n",
    "\n",
    "There's a lot of different shapes you could choose here - the Keras documentation covers them.\n",
    "https://keras.io/api/layers/activations/\n",
    "You'll recognise for example 'sigmoid' and 'softmax' from that list."
   ]
  },
  {
   "cell_type": "code",
   "execution_count": 5,
   "metadata": {},
   "outputs": [
    {
     "name": "stdout",
     "output_type": "stream",
     "text": [
      "Model: \"sequential_1\"\n",
      "_________________________________________________________________\n",
      " Layer (type)                Output Shape              Param #   \n",
      "=================================================================\n",
      " dense_3 (Dense)             (None, 50)                150       \n",
      "                                                                 \n",
      " activation_3 (Activation)   (None, 50)                0         \n",
      "                                                                 \n",
      " dense_4 (Dense)             (None, 50)                2550      \n",
      "                                                                 \n",
      " activation_4 (Activation)   (None, 50)                0         \n",
      "                                                                 \n",
      " dense_5 (Dense)             (None, 1)                 51        \n",
      "                                                                 \n",
      " activation_5 (Activation)   (None, 1)                 0         \n",
      "                                                                 \n",
      "=================================================================\n",
      "Total params: 2,751\n",
      "Trainable params: 2,751\n",
      "Non-trainable params: 0\n",
      "_________________________________________________________________\n",
      "Epoch 1/10\n",
      "22/22 [==============================] - 1s 1ms/step - loss: 0.6969 - accuracy: 0.4843\n",
      "Epoch 2/10\n",
      "22/22 [==============================] - 0s 2ms/step - loss: 0.6905 - accuracy: 0.5014\n",
      "Epoch 3/10\n",
      "22/22 [==============================] - 0s 2ms/step - loss: 0.6869 - accuracy: 0.5114\n",
      "Epoch 4/10\n",
      "22/22 [==============================] - 0s 1ms/step - loss: 0.6837 - accuracy: 0.5171\n",
      "Epoch 5/10\n",
      "22/22 [==============================] - 0s 3ms/step - loss: 0.6802 - accuracy: 0.5214\n",
      "Epoch 6/10\n",
      "22/22 [==============================] - 0s 1ms/step - loss: 0.6760 - accuracy: 0.5271\n",
      "Epoch 7/10\n",
      "22/22 [==============================] - 0s 3ms/step - loss: 0.6705 - accuracy: 0.5614\n",
      "Epoch 8/10\n",
      "22/22 [==============================] - 0s 1ms/step - loss: 0.6636 - accuracy: 0.6414\n",
      "Epoch 9/10\n",
      "22/22 [==============================] - 0s 3ms/step - loss: 0.6555 - accuracy: 0.6214\n",
      "Epoch 10/10\n",
      "22/22 [==============================] - 0s 1ms/step - loss: 0.6424 - accuracy: 0.7286\n",
      "10/10 [==============================] - 0s 902us/step\n",
      "Accuracy: 0.8166666666666667\n",
      "AUC: 0.8625801282051283\n"
     ]
    }
   ],
   "source": [
    "input_dim = X_train.shape[1]\n",
    "output_dim = 1\n",
    "\n",
    "model = Sequential()\n",
    "model.add(Dense(50,input_dim=input_dim))\n",
    "model.add(Activation('relu'))\n",
    "\n",
    "model.add(Dense(50))\n",
    "model.add(Activation('relu'))\n",
    "\n",
    "model.add(Dense(output_dim))\n",
    "\n",
    "model.add(Activation('sigmoid'))\n",
    "\n",
    "model.compile(optimizer=Adam(),loss='binary_crossentropy',metrics=['accuracy'])\n",
    "model.summary()\n",
    "model.fit(X_train,y_train,epochs=10)\n",
    "prediction_prob = model.predict(X_test)\n",
    "prediction_class = (prediction_prob > 0.5).astype(\"int32\")\n",
    "\n",
    "print('Accuracy:', accuracy_score(y_test,prediction_class))\n",
    "print('AUC:',roc_auc_score(y_test,prediction_prob))"
   ]
  },
  {
   "cell_type": "markdown",
   "metadata": {},
   "source": [
    "That's not a bad result. You will notice that, when running the model multiple times, the result is not very stable. Nevertheless, the ReLU kernel will at least be able to break that 50% accuracy barrier that the linear kernel had because it can't predict the outcome and ends up in random guessing (or just drawing a straight line through the middle - which is the same in the case of the circles).\n",
    "\n",
    "You could experiment with other kernel shapes here if you so wish."
   ]
  }
 ],
 "metadata": {
  "kernelspec": {
   "display_name": "Python 3 (ipykernel)",
   "language": "python",
   "name": "python3"
  },
  "language_info": {
   "codemirror_mode": {
    "name": "ipython",
    "version": 3
   },
   "file_extension": ".py",
   "mimetype": "text/x-python",
   "name": "python",
   "nbconvert_exporter": "python",
   "pygments_lexer": "ipython3",
   "version": "3.9.12"
  }
 },
 "nbformat": 4,
 "nbformat_minor": 2
}
