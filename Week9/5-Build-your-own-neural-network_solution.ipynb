{
 "cells": [
  {
   "cell_type": "markdown",
   "metadata": {},
   "source": [
    "# Build your own neural network - solution"
   ]
  },
  {
   "cell_type": "markdown",
   "metadata": {},
   "source": [
    "Now it is all up to you to build your own neural network from scratch and apply a hyperparameter search."
   ]
  },
  {
   "cell_type": "markdown",
   "metadata": {},
   "source": [
    "## The data"
   ]
  },
  {
   "cell_type": "code",
   "execution_count": 1,
   "metadata": {},
   "outputs": [
    {
     "data": {
      "text/html": [
       "<div>\n",
       "<style scoped>\n",
       "    .dataframe tbody tr th:only-of-type {\n",
       "        vertical-align: middle;\n",
       "    }\n",
       "\n",
       "    .dataframe tbody tr th {\n",
       "        vertical-align: top;\n",
       "    }\n",
       "\n",
       "    .dataframe thead th {\n",
       "        text-align: right;\n",
       "    }\n",
       "</style>\n",
       "<table border=\"1\" class=\"dataframe\">\n",
       "  <thead>\n",
       "    <tr style=\"text-align: right;\">\n",
       "      <th></th>\n",
       "      <th>symboling</th>\n",
       "      <th>normalized-losses</th>\n",
       "      <th>make</th>\n",
       "      <th>fuel-type</th>\n",
       "      <th>aspiration</th>\n",
       "      <th>doors</th>\n",
       "      <th>bodystyle</th>\n",
       "      <th>drive</th>\n",
       "      <th>enginelocation</th>\n",
       "      <th>wheelbase</th>\n",
       "      <th>...</th>\n",
       "      <th>enginesize</th>\n",
       "      <th>fuelsystem</th>\n",
       "      <th>bore</th>\n",
       "      <th>stroke</th>\n",
       "      <th>compression</th>\n",
       "      <th>hp</th>\n",
       "      <th>rpm</th>\n",
       "      <th>citympg</th>\n",
       "      <th>highwaympg</th>\n",
       "      <th>price</th>\n",
       "    </tr>\n",
       "  </thead>\n",
       "  <tbody>\n",
       "    <tr>\n",
       "      <th>0</th>\n",
       "      <td>3</td>\n",
       "      <td>NaN</td>\n",
       "      <td>alfa-romero</td>\n",
       "      <td>gas</td>\n",
       "      <td>std</td>\n",
       "      <td>two</td>\n",
       "      <td>convertible</td>\n",
       "      <td>rwd</td>\n",
       "      <td>front</td>\n",
       "      <td>88.6</td>\n",
       "      <td>...</td>\n",
       "      <td>130</td>\n",
       "      <td>mpfi</td>\n",
       "      <td>3.47</td>\n",
       "      <td>2.68</td>\n",
       "      <td>9.0</td>\n",
       "      <td>111.0</td>\n",
       "      <td>5000.0</td>\n",
       "      <td>21</td>\n",
       "      <td>27</td>\n",
       "      <td>13495.0</td>\n",
       "    </tr>\n",
       "    <tr>\n",
       "      <th>1</th>\n",
       "      <td>3</td>\n",
       "      <td>NaN</td>\n",
       "      <td>alfa-romero</td>\n",
       "      <td>gas</td>\n",
       "      <td>std</td>\n",
       "      <td>two</td>\n",
       "      <td>convertible</td>\n",
       "      <td>rwd</td>\n",
       "      <td>front</td>\n",
       "      <td>88.6</td>\n",
       "      <td>...</td>\n",
       "      <td>130</td>\n",
       "      <td>mpfi</td>\n",
       "      <td>3.47</td>\n",
       "      <td>2.68</td>\n",
       "      <td>9.0</td>\n",
       "      <td>111.0</td>\n",
       "      <td>5000.0</td>\n",
       "      <td>21</td>\n",
       "      <td>27</td>\n",
       "      <td>16500.0</td>\n",
       "    </tr>\n",
       "    <tr>\n",
       "      <th>2</th>\n",
       "      <td>1</td>\n",
       "      <td>NaN</td>\n",
       "      <td>alfa-romero</td>\n",
       "      <td>gas</td>\n",
       "      <td>std</td>\n",
       "      <td>two</td>\n",
       "      <td>hatchback</td>\n",
       "      <td>rwd</td>\n",
       "      <td>front</td>\n",
       "      <td>94.5</td>\n",
       "      <td>...</td>\n",
       "      <td>152</td>\n",
       "      <td>mpfi</td>\n",
       "      <td>2.68</td>\n",
       "      <td>3.47</td>\n",
       "      <td>9.0</td>\n",
       "      <td>154.0</td>\n",
       "      <td>5000.0</td>\n",
       "      <td>19</td>\n",
       "      <td>26</td>\n",
       "      <td>16500.0</td>\n",
       "    </tr>\n",
       "    <tr>\n",
       "      <th>3</th>\n",
       "      <td>2</td>\n",
       "      <td>164.0</td>\n",
       "      <td>audi</td>\n",
       "      <td>gas</td>\n",
       "      <td>std</td>\n",
       "      <td>four</td>\n",
       "      <td>sedan</td>\n",
       "      <td>fwd</td>\n",
       "      <td>front</td>\n",
       "      <td>99.8</td>\n",
       "      <td>...</td>\n",
       "      <td>109</td>\n",
       "      <td>mpfi</td>\n",
       "      <td>3.19</td>\n",
       "      <td>3.40</td>\n",
       "      <td>10.0</td>\n",
       "      <td>102.0</td>\n",
       "      <td>5500.0</td>\n",
       "      <td>24</td>\n",
       "      <td>30</td>\n",
       "      <td>13950.0</td>\n",
       "    </tr>\n",
       "    <tr>\n",
       "      <th>4</th>\n",
       "      <td>2</td>\n",
       "      <td>164.0</td>\n",
       "      <td>audi</td>\n",
       "      <td>gas</td>\n",
       "      <td>std</td>\n",
       "      <td>four</td>\n",
       "      <td>sedan</td>\n",
       "      <td>4wd</td>\n",
       "      <td>front</td>\n",
       "      <td>99.4</td>\n",
       "      <td>...</td>\n",
       "      <td>136</td>\n",
       "      <td>mpfi</td>\n",
       "      <td>3.19</td>\n",
       "      <td>3.40</td>\n",
       "      <td>8.0</td>\n",
       "      <td>115.0</td>\n",
       "      <td>5500.0</td>\n",
       "      <td>18</td>\n",
       "      <td>22</td>\n",
       "      <td>17450.0</td>\n",
       "    </tr>\n",
       "  </tbody>\n",
       "</table>\n",
       "<p>5 rows × 26 columns</p>\n",
       "</div>"
      ],
      "text/plain": [
       "   symboling  normalized-losses         make fuel-type aspiration doors  \\\n",
       "0          3                NaN  alfa-romero       gas        std   two   \n",
       "1          3                NaN  alfa-romero       gas        std   two   \n",
       "2          1                NaN  alfa-romero       gas        std   two   \n",
       "3          2              164.0         audi       gas        std  four   \n",
       "4          2              164.0         audi       gas        std  four   \n",
       "\n",
       "     bodystyle drive enginelocation  wheelbase  ...  enginesize  fuelsystem  \\\n",
       "0  convertible   rwd          front       88.6  ...         130        mpfi   \n",
       "1  convertible   rwd          front       88.6  ...         130        mpfi   \n",
       "2    hatchback   rwd          front       94.5  ...         152        mpfi   \n",
       "3        sedan   fwd          front       99.8  ...         109        mpfi   \n",
       "4        sedan   4wd          front       99.4  ...         136        mpfi   \n",
       "\n",
       "   bore  stroke compression     hp     rpm citympg  highwaympg    price  \n",
       "0  3.47    2.68         9.0  111.0  5000.0      21          27  13495.0  \n",
       "1  3.47    2.68         9.0  111.0  5000.0      21          27  16500.0  \n",
       "2  2.68    3.47         9.0  154.0  5000.0      19          26  16500.0  \n",
       "3  3.19    3.40        10.0  102.0  5500.0      24          30  13950.0  \n",
       "4  3.19    3.40         8.0  115.0  5500.0      18          22  17450.0  \n",
       "\n",
       "[5 rows x 26 columns]"
      ]
     },
     "execution_count": 1,
     "metadata": {},
     "output_type": "execute_result"
    }
   ],
   "source": [
    "import pandas as pd\n",
    "import numpy as np\n",
    "from sklearn.preprocessing import StandardScaler\n",
    "\n",
    "df = pd.read_csv('cars.csv')\n",
    "df.head()"
   ]
  },
  {
   "cell_type": "code",
   "execution_count": 2,
   "metadata": {},
   "outputs": [],
   "source": [
    "df = df.fillna(0)\n",
    "\n",
    "y = df[['price']]\n",
    "X = df.drop(['price'],axis=1)"
   ]
  },
  {
   "cell_type": "code",
   "execution_count": 12,
   "metadata": {},
   "outputs": [
    {
     "name": "stderr",
     "output_type": "stream",
     "text": [
      "/tmp/ipykernel_4346/2584167763.py:2: DeprecationWarning: `np.object` is a deprecated alias for the builtin `object`. To silence this warning, use `object` by itself. Doing this will not modify any behavior and is safe. \n",
      "Deprecated in NumPy 1.20; for more details and guidance: https://numpy.org/devdocs/release/1.20.0-notes.html#deprecations\n",
      "  if X[column].dtype == np.object:\n"
     ]
    }
   ],
   "source": [
    "for column in X.columns:\n",
    "    if X[column].dtype == np.object:\n",
    "        print('Converting ', column)\n",
    "        X = pd.concat([X,pd.get_dummies(X[column], prefix=column, drop_first=True)],axis=1).drop([column],axis=1)"
   ]
  },
  {
   "cell_type": "markdown",
   "metadata": {},
   "source": [
    "## Create the model"
   ]
  },
  {
   "cell_type": "markdown",
   "metadata": {},
   "source": [
    "Creating train and test set and standardising:"
   ]
  },
  {
   "cell_type": "code",
   "execution_count": 13,
   "metadata": {},
   "outputs": [
    {
     "name": "stderr",
     "output_type": "stream",
     "text": [
      "/opt/conda/lib/python3.9/site-packages/sklearn/base.py:443: UserWarning: X has feature names, but StandardScaler was fitted without feature names\n",
      "  warnings.warn(\n",
      "/opt/conda/lib/python3.9/site-packages/sklearn/base.py:443: UserWarning: X has feature names, but StandardScaler was fitted without feature names\n",
      "  warnings.warn(\n"
     ]
    }
   ],
   "source": [
    "from sklearn.model_selection import train_test_split\n",
    "from sklearn.metrics import mean_squared_error as mse\n",
    "from sklearn.preprocessing import StandardScaler\n",
    "\n",
    "X_train, X_test, y_train, y_test = train_test_split(X, y, test_size = 0.3)\n",
    "\n",
    "X_train = StandardScaler().fit_transform(X_train)\n",
    "y_train = StandardScaler().fit_transform(y_train)\n",
    "\n",
    "X_test = StandardScaler().fit(X_train).transform(X_test)\n",
    "y_test = StandardScaler().fit(y_train).transform(y_test)"
   ]
  },
  {
   "cell_type": "markdown",
   "metadata": {},
   "source": [
    "### Baseline models: linear regression and random forest"
   ]
  },
  {
   "cell_type": "code",
   "execution_count": 5,
   "metadata": {},
   "outputs": [
    {
     "name": "stdout",
     "output_type": "stream",
     "text": [
      "RMSE linear regression: 12543.355631769884\n",
      "RMSE random forest: 14441.677829374104\n"
     ]
    }
   ],
   "source": [
    "from sklearn.ensemble import RandomForestRegressor\n",
    "from sklearn.linear_model import LinearRegression\n",
    "\n",
    "lr = LinearRegression()\n",
    "lr.fit(X_train,np.ravel(y_train))\n",
    "prediction = lr.predict(X_test)\n",
    "\n",
    "print('RMSE linear regression:', np.sqrt(mse(y_test,prediction)))\n",
    "\n",
    "rf = RandomForestRegressor(n_estimators=100)\n",
    "rf.fit(X_train,np.ravel(y_train))\n",
    "prediction = rf.predict(X_test)\n",
    "\n",
    "print('RMSE random forest:', np.sqrt(mse(y_test,prediction)))"
   ]
  },
  {
   "cell_type": "markdown",
   "metadata": {},
   "source": [
    "### Create your neural network"
   ]
  },
  {
   "cell_type": "markdown",
   "metadata": {},
   "source": [
    "Incorporate the following:\n",
    "- 2 different kernels in hidden layer.\n",
    "- 2 different output kernels.\n",
    "- Different sizes for the hidden layers.\n",
    "- Different number of hidden layers.\n",
    "- Use 10 epochs."
   ]
  },
  {
   "cell_type": "markdown",
   "metadata": {},
   "source": [
    "Here, create your model compatible with Keras:"
   ]
  },
  {
   "cell_type": "code",
   "execution_count": 14,
   "metadata": {},
   "outputs": [],
   "source": [
    "from keras.models import Sequential\n",
    "from keras.layers.core import Dense, Activation\n",
    "from tensorflow.keras.optimizers import Adam\n",
    "\n",
    "def nn_model(no_neurons,no_layers,kernel,output_kernel):\n",
    "    model = Sequential()\n",
    "    model.add(Dense(no_neurons,input_dim=input_dim))\n",
    "    model.add(Activation(kernel))\n",
    "\n",
    "    # Extra hidden layers\n",
    "    for _ in range(0,no_layers):\n",
    "        model.add(Dense(no_neurons))\n",
    "        model.add(Activation(kernel))\n",
    "\n",
    "    # Output\n",
    "    model.add(Dense(output_dim))\n",
    "    model.add(Activation(output_kernel))\n",
    "    model.compile(optimizer=Adam(),loss='mean_squared_error',metrics=['mean_squared_error'])\n",
    "        \n",
    "    return model"
   ]
  },
  {
   "cell_type": "markdown",
   "metadata": {},
   "source": [
    "Here, run your grid search (10 epochs):"
   ]
  },
  {
   "cell_type": "code",
   "execution_count": 15,
   "metadata": {},
   "outputs": [
    {
     "name": "stderr",
     "output_type": "stream",
     "text": [
      "/tmp/ipykernel_4346/3732959856.py:9: DeprecationWarning: KerasRegressor is deprecated, use Sci-Keras (https://github.com/adriangb/scikeras) instead. See https://www.adriangb.com/scikeras/stable/migration.html for help migrating.\n",
      "  grid_search = GridSearchCV(KerasRegressor(nn_model), parameters, cv=5,scoring='neg_mean_squared_error')\n"
     ]
    },
    {
     "name": "stdout",
     "output_type": "stream",
     "text": [
      "Mean RMSE (+/- standard deviation), for parameters\n",
      "9463.190 (+/- 8223.373) for {'kernel': 'relu', 'no_layers': 1, 'no_neurons': 50, 'output_kernel': 'linear', 'verbose': 0}\n",
      "15252.193 (+/- 9343.586) for {'kernel': 'relu', 'no_layers': 1, 'no_neurons': 50, 'output_kernel': 'sigmoid', 'verbose': 0}\n",
      "7779.395 (+/- 6764.810) for {'kernel': 'relu', 'no_layers': 1, 'no_neurons': 100, 'output_kernel': 'linear', 'verbose': 0}\n",
      "15252.224 (+/- 9344.488) for {'kernel': 'relu', 'no_layers': 1, 'no_neurons': 100, 'output_kernel': 'sigmoid', 'verbose': 0}\n",
      "7927.316 (+/- 6599.193) for {'kernel': 'relu', 'no_layers': 2, 'no_neurons': 50, 'output_kernel': 'linear', 'verbose': 0}\n",
      "15252.019 (+/- 9343.650) for {'kernel': 'relu', 'no_layers': 2, 'no_neurons': 50, 'output_kernel': 'sigmoid', 'verbose': 0}\n",
      "7636.916 (+/- 7068.432) for {'kernel': 'relu', 'no_layers': 2, 'no_neurons': 100, 'output_kernel': 'linear', 'verbose': 0}\n",
      "15251.700 (+/- 9343.927) for {'kernel': 'relu', 'no_layers': 2, 'no_neurons': 100, 'output_kernel': 'sigmoid', 'verbose': 0}\n",
      "7623.773 (+/- 6710.371) for {'kernel': 'linear', 'no_layers': 1, 'no_neurons': 50, 'output_kernel': 'linear', 'verbose': 0}\n",
      "15252.190 (+/- 9343.695) for {'kernel': 'linear', 'no_layers': 1, 'no_neurons': 50, 'output_kernel': 'sigmoid', 'verbose': 0}\n",
      "7418.093 (+/- 6538.953) for {'kernel': 'linear', 'no_layers': 1, 'no_neurons': 100, 'output_kernel': 'linear', 'verbose': 0}\n",
      "15252.237 (+/- 9344.371) for {'kernel': 'linear', 'no_layers': 1, 'no_neurons': 100, 'output_kernel': 'sigmoid', 'verbose': 0}\n",
      "7336.141 (+/- 6319.772) for {'kernel': 'linear', 'no_layers': 2, 'no_neurons': 50, 'output_kernel': 'linear', 'verbose': 0}\n",
      "15252.191 (+/- 9343.588) for {'kernel': 'linear', 'no_layers': 2, 'no_neurons': 50, 'output_kernel': 'sigmoid', 'verbose': 0}\n",
      "7004.199 (+/- 6322.195) for {'kernel': 'linear', 'no_layers': 2, 'no_neurons': 100, 'output_kernel': 'linear', 'verbose': 0}\n",
      "15251.871 (+/- 9343.972) for {'kernel': 'linear', 'no_layers': 2, 'no_neurons': 100, 'output_kernel': 'sigmoid', 'verbose': 0}\n"
     ]
    }
   ],
   "source": [
    "from keras.wrappers.scikit_learn import KerasRegressor\n",
    "from sklearn.model_selection import GridSearchCV\n",
    "\n",
    "input_dim = X.shape[1]\n",
    "output_dim = 1\n",
    "\n",
    "parameters = {'no_neurons':[50,100],'kernel':['relu','linear'],'output_kernel':['linear','sigmoid'],'no_layers':[1,2],'verbose':[0]} \n",
    "\n",
    "grid_search = GridSearchCV(KerasRegressor(nn_model), parameters, cv=5,scoring='neg_mean_squared_error')\n",
    "grid_search.fit(X, y,epochs=10)\n",
    "\n",
    "means = grid_search.cv_results_['mean_test_score']\n",
    "stds = grid_search.cv_results_['std_test_score']\n",
    "\n",
    "print('Mean RMSE (+/- standard deviation), for parameters')\n",
    "for mean, std, params in zip(means, stds, grid_search.cv_results_['params']):\n",
    "    print(\"%0.3f (+/- %0.03f) for %r\"\n",
    "          # The MSE is return as a negative, so we multiple it with -1 before squaring it\n",
    "          % (np.sqrt(-1*mean), np.sqrt(std), params))"
   ]
  },
  {
   "cell_type": "markdown",
   "metadata": {},
   "source": [
    "It seems that there is quite some difference between using the sigmiod and linear output kernel. The former gives a lower RMSE. The better results are obtained using ReLU as the activation function in the hidden layers."
   ]
  },
  {
   "cell_type": "markdown",
   "metadata": {},
   "source": [
    "Smaller hidden layers:"
   ]
  },
  {
   "cell_type": "code",
   "execution_count": 8,
   "metadata": {},
   "outputs": [
    {
     "name": "stderr",
     "output_type": "stream",
     "text": [
      "/tmp/ipykernel_4346/4183698539.py:9: DeprecationWarning: KerasClassifier is deprecated, use Sci-Keras (https://github.com/adriangb/scikeras) instead. See https://www.adriangb.com/scikeras/stable/migration.html for help migrating.\n",
      "  grid_search = GridSearchCV(KerasClassifier(nn_model), parameters, cv=5,scoring='neg_mean_squared_error')\n"
     ]
    },
    {
     "name": "stdout",
     "output_type": "stream",
     "text": [
      "2/2 [==============================] - 0s 2ms/step\n",
      "2/2 [==============================] - 0s 2ms/step\n",
      "2/2 [==============================] - 0s 2ms/step\n",
      "2/2 [==============================] - 0s 2ms/step\n",
      "2/2 [==============================] - 0s 3ms/step\n",
      "2/2 [==============================] - 0s 2ms/step\n",
      "2/2 [==============================] - 0s 2ms/step\n",
      "2/2 [==============================] - 0s 2ms/step\n",
      "2/2 [==============================] - 0s 2ms/step\n",
      "2/2 [==============================] - 0s 2ms/step\n",
      "2/2 [==============================] - 0s 45ms/step\n",
      "2/2 [==============================] - 0s 3ms/step\n",
      "2/2 [==============================] - 0s 2ms/step\n",
      "2/2 [==============================] - 0s 2ms/step\n",
      "2/2 [==============================] - 0s 2ms/step\n",
      "2/2 [==============================] - 0s 2ms/step\n",
      "2/2 [==============================] - 0s 2ms/step\n",
      "2/2 [==============================] - 0s 3ms/step\n",
      "2/2 [==============================] - 0s 2ms/step\n",
      "2/2 [==============================] - 0s 2ms/step\n",
      "2/2 [==============================] - 0s 2ms/step\n",
      "2/2 [==============================] - 0s 4ms/step\n",
      "2/2 [==============================] - 0s 2ms/step\n",
      "2/2 [==============================] - 0s 2ms/step\n",
      "2/2 [==============================] - 0s 2ms/step\n",
      "2/2 [==============================] - 0s 4ms/step\n",
      "2/2 [==============================] - 0s 54ms/step\n",
      "2/2 [==============================] - 0s 2ms/step\n",
      "2/2 [==============================] - 1s 2ms/step\n",
      "2/2 [==============================] - 0s 3ms/step\n",
      "2/2 [==============================] - 0s 2ms/step\n",
      "2/2 [==============================] - 0s 2ms/step\n",
      "2/2 [==============================] - 0s 2ms/step\n",
      "2/2 [==============================] - 0s 2ms/step\n",
      "2/2 [==============================] - 0s 53ms/step\n",
      "2/2 [==============================] - 0s 2ms/step\n",
      "2/2 [==============================] - 0s 3ms/step\n",
      "2/2 [==============================] - 0s 2ms/step\n",
      "2/2 [==============================] - 0s 3ms/step\n",
      "2/2 [==============================] - 0s 3ms/step\n",
      "2/2 [==============================] - 0s 3ms/step\n",
      "2/2 [==============================] - 0s 2ms/step\n",
      "2/2 [==============================] - 0s 3ms/step\n",
      "2/2 [==============================] - 0s 2ms/step\n",
      "2/2 [==============================] - 0s 2ms/step\n",
      "2/2 [==============================] - 0s 56ms/step\n",
      "2/2 [==============================] - 0s 2ms/step\n",
      "2/2 [==============================] - 0s 2ms/step\n",
      "2/2 [==============================] - 0s 2ms/step\n",
      "2/2 [==============================] - 0s 2ms/step\n",
      "2/2 [==============================] - 0s 4ms/step\n",
      "2/2 [==============================] - 0s 2ms/step\n",
      "2/2 [==============================] - 0s 2ms/step\n",
      "2/2 [==============================] - 0s 3ms/step\n",
      "2/2 [==============================] - 0s 3ms/step\n",
      "2/2 [==============================] - 0s 64ms/step\n",
      "2/2 [==============================] - 0s 2ms/step\n",
      "2/2 [==============================] - 0s 3ms/step\n",
      "2/2 [==============================] - 0s 2ms/step\n",
      "2/2 [==============================] - 0s 3ms/step\n",
      "2/2 [==============================] - 0s 2ms/step\n",
      "2/2 [==============================] - 0s 3ms/step\n",
      "2/2 [==============================] - 0s 3ms/step\n",
      "2/2 [==============================] - 0s 2ms/step\n",
      "2/2 [==============================] - 0s 3ms/step\n",
      "2/2 [==============================] - 0s 2ms/step\n",
      "2/2 [==============================] - 0s 2ms/step\n",
      "2/2 [==============================] - 0s 2ms/step\n",
      "2/2 [==============================] - 0s 3ms/step\n",
      "2/2 [==============================] - 0s 3ms/step\n",
      "2/2 [==============================] - 0s 56ms/step\n",
      "2/2 [==============================] - 0s 3ms/step\n",
      "2/2 [==============================] - 0s 2ms/step\n",
      "2/2 [==============================] - 0s 64ms/step\n",
      "2/2 [==============================] - 0s 2ms/step\n",
      "2/2 [==============================] - 0s 2ms/step\n",
      "2/2 [==============================] - 0s 2ms/step\n",
      "2/2 [==============================] - 0s 4ms/step\n",
      "2/2 [==============================] - 0s 2ms/step\n",
      "2/2 [==============================] - 0s 3ms/step\n",
      "Mean RMSE (+/- standard deviation), for parameters\n",
      "12576.639 (+/- 7542.075) for {'kernel': 'relu', 'no_layers': 0, 'no_neurons': 10, 'output_kernel': 'linear', 'verbose': 0}\n",
      "13552.264 (+/- 6462.121) for {'kernel': 'relu', 'no_layers': 0, 'no_neurons': 10, 'output_kernel': 'sigmoid', 'verbose': 0}\n",
      "12037.993 (+/- 10248.099) for {'kernel': 'relu', 'no_layers': 0, 'no_neurons': 20, 'output_kernel': 'linear', 'verbose': 0}\n",
      "13901.632 (+/- 11068.992) for {'kernel': 'relu', 'no_layers': 0, 'no_neurons': 20, 'output_kernel': 'sigmoid', 'verbose': 0}\n",
      "11295.675 (+/- 8387.695) for {'kernel': 'relu', 'no_layers': 1, 'no_neurons': 10, 'output_kernel': 'linear', 'verbose': 0}\n",
      "12866.716 (+/- 8107.994) for {'kernel': 'relu', 'no_layers': 1, 'no_neurons': 10, 'output_kernel': 'sigmoid', 'verbose': 0}\n",
      "11327.412 (+/- 8461.682) for {'kernel': 'relu', 'no_layers': 1, 'no_neurons': 20, 'output_kernel': 'linear', 'verbose': 0}\n",
      "11233.957 (+/- 8431.279) for {'kernel': 'relu', 'no_layers': 1, 'no_neurons': 20, 'output_kernel': 'sigmoid', 'verbose': 0}\n",
      "12424.804 (+/- 11114.993) for {'kernel': 'linear', 'no_layers': 0, 'no_neurons': 10, 'output_kernel': 'linear', 'verbose': 0}\n",
      "13901.632 (+/- 11068.992) for {'kernel': 'linear', 'no_layers': 0, 'no_neurons': 10, 'output_kernel': 'sigmoid', 'verbose': 0}\n",
      "11551.641 (+/- 8107.494) for {'kernel': 'linear', 'no_layers': 0, 'no_neurons': 20, 'output_kernel': 'linear', 'verbose': 0}\n",
      "13532.930 (+/- 8106.452) for {'kernel': 'linear', 'no_layers': 0, 'no_neurons': 20, 'output_kernel': 'sigmoid', 'verbose': 0}\n",
      "11623.804 (+/- 8147.236) for {'kernel': 'linear', 'no_layers': 1, 'no_neurons': 10, 'output_kernel': 'linear', 'verbose': 0}\n",
      "13228.619 (+/- 10874.055) for {'kernel': 'linear', 'no_layers': 1, 'no_neurons': 10, 'output_kernel': 'sigmoid', 'verbose': 0}\n",
      "11775.106 (+/- 8377.394) for {'kernel': 'linear', 'no_layers': 1, 'no_neurons': 20, 'output_kernel': 'linear', 'verbose': 0}\n",
      "13024.437 (+/- 8895.771) for {'kernel': 'linear', 'no_layers': 1, 'no_neurons': 20, 'output_kernel': 'sigmoid', 'verbose': 0}\n"
     ]
    }
   ],
   "source": [
    "from keras.wrappers.scikit_learn import KerasClassifier\n",
    "from sklearn.model_selection import GridSearchCV\n",
    "\n",
    "input_dim = X.shape[1]\n",
    "output_dim = 1\n",
    "\n",
    "parameters = {'no_neurons':[10,20],'kernel':['relu','linear'],'output_kernel':['linear','sigmoid'],'no_layers':[0,1],'verbose':[0]} \n",
    "\n",
    "grid_search = GridSearchCV(KerasClassifier(nn_model), parameters, cv=5,scoring='neg_mean_squared_error')\n",
    "grid_search.fit(X, y,epochs=10)\n",
    "\n",
    "means = grid_search.cv_results_['mean_test_score']\n",
    "stds = grid_search.cv_results_['std_test_score']\n",
    "\n",
    "print('Mean RMSE (+/- standard deviation), for parameters')\n",
    "for mean, std, params in zip(means, stds, grid_search.cv_results_['params']):\n",
    "    print(\"%0.3f (+/- %0.03f) for %r\"\n",
    "          # The MSE is return as a negative, so we multiple it with -1 before squaring it\n",
    "          % (np.sqrt(-1*mean), np.sqrt(std), params))"
   ]
  },
  {
   "cell_type": "markdown",
   "metadata": {},
   "source": [
    "We clearly have a higher error rate, meaning that a bigger network pays off in this case."
   ]
  },
  {
   "cell_type": "markdown",
   "metadata": {},
   "source": [
    "Let's try more epochs for the smaller hidden layers:"
   ]
  },
  {
   "cell_type": "code",
   "execution_count": 9,
   "metadata": {},
   "outputs": [
    {
     "name": "stderr",
     "output_type": "stream",
     "text": [
      "/tmp/ipykernel_4346/3544118226.py:9: DeprecationWarning: KerasClassifier is deprecated, use Sci-Keras (https://github.com/adriangb/scikeras) instead. See https://www.adriangb.com/scikeras/stable/migration.html for help migrating.\n",
      "  grid_search = GridSearchCV(KerasClassifier(nn_model), parameters, cv=5,scoring='neg_mean_squared_error')\n"
     ]
    },
    {
     "name": "stdout",
     "output_type": "stream",
     "text": [
      "2/2 [==============================] - 0s 3ms/step\n",
      "2/2 [==============================] - 0s 2ms/step\n",
      "2/2 [==============================] - 0s 2ms/step\n",
      "2/2 [==============================] - 0s 2ms/step\n",
      "2/2 [==============================] - 0s 2ms/step\n",
      "2/2 [==============================] - 0s 2ms/step\n",
      "2/2 [==============================] - 0s 2ms/step\n",
      "2/2 [==============================] - 0s 3ms/step\n",
      "2/2 [==============================] - 0s 2ms/step\n",
      "2/2 [==============================] - 0s 2ms/step\n",
      "2/2 [==============================] - 0s 52ms/step\n",
      "2/2 [==============================] - 0s 2ms/step\n",
      "2/2 [==============================] - 0s 55ms/step\n",
      "2/2 [==============================] - 0s 2ms/step\n",
      "2/2 [==============================] - 0s 2ms/step\n",
      "2/2 [==============================] - 0s 2ms/step\n",
      "2/2 [==============================] - 0s 2ms/step\n",
      "2/2 [==============================] - 0s 2ms/step\n",
      "2/2 [==============================] - 0s 2ms/step\n",
      "2/2 [==============================] - 0s 2ms/step\n",
      "2/2 [==============================] - 0s 2ms/step\n",
      "2/2 [==============================] - 0s 3ms/step\n",
      "2/2 [==============================] - 0s 2ms/step\n",
      "2/2 [==============================] - 0s 2ms/step\n",
      "2/2 [==============================] - 0s 3ms/step\n",
      "2/2 [==============================] - 0s 3ms/step\n",
      "2/2 [==============================] - 0s 2ms/step\n",
      "2/2 [==============================] - 0s 2ms/step\n",
      "2/2 [==============================] - 0s 2ms/step\n",
      "2/2 [==============================] - 0s 2ms/step\n",
      "2/2 [==============================] - 0s 3ms/step\n",
      "2/2 [==============================] - 0s 2ms/step\n",
      "2/2 [==============================] - 0s 2ms/step\n",
      "2/2 [==============================] - 0s 2ms/step\n",
      "2/2 [==============================] - 0s 2ms/step\n",
      "2/2 [==============================] - 0s 2ms/step\n",
      "2/2 [==============================] - 0s 3ms/step\n",
      "2/2 [==============================] - 0s 2ms/step\n",
      "2/2 [==============================] - 0s 2ms/step\n",
      "2/2 [==============================] - 0s 2ms/step\n",
      "2/2 [==============================] - 0s 7ms/step\n",
      "2/2 [==============================] - 0s 2ms/step\n",
      "2/2 [==============================] - 0s 2ms/step\n",
      "2/2 [==============================] - 0s 2ms/step\n",
      "2/2 [==============================] - 0s 2ms/step\n",
      "2/2 [==============================] - 0s 2ms/step\n",
      "2/2 [==============================] - 0s 5ms/step\n",
      "2/2 [==============================] - 0s 2ms/step\n",
      "2/2 [==============================] - 0s 3ms/step\n",
      "2/2 [==============================] - 0s 3ms/step\n",
      "2/2 [==============================] - 0s 2ms/step\n",
      "2/2 [==============================] - 0s 2ms/step\n",
      "2/2 [==============================] - 0s 2ms/step\n",
      "2/2 [==============================] - 0s 2ms/step\n",
      "2/2 [==============================] - 0s 2ms/step\n",
      "2/2 [==============================] - 0s 3ms/step\n",
      "2/2 [==============================] - 0s 5ms/step\n",
      "2/2 [==============================] - 0s 3ms/step\n",
      "2/2 [==============================] - 0s 2ms/step\n",
      "2/2 [==============================] - 0s 2ms/step\n",
      "2/2 [==============================] - 0s 2ms/step\n",
      "2/2 [==============================] - 0s 3ms/step\n",
      "2/2 [==============================] - 0s 2ms/step\n",
      "2/2 [==============================] - 0s 3ms/step\n",
      "2/2 [==============================] - 0s 2ms/step\n",
      "2/2 [==============================] - 0s 3ms/step\n",
      "2/2 [==============================] - 0s 2ms/step\n",
      "2/2 [==============================] - 0s 3ms/step\n",
      "2/2 [==============================] - 0s 2ms/step\n",
      "2/2 [==============================] - 0s 3ms/step\n",
      "2/2 [==============================] - 0s 2ms/step\n",
      "2/2 [==============================] - 0s 2ms/step\n",
      "2/2 [==============================] - 0s 3ms/step\n",
      "2/2 [==============================] - 0s 2ms/step\n",
      "2/2 [==============================] - 0s 2ms/step\n",
      "2/2 [==============================] - 0s 2ms/step\n",
      "2/2 [==============================] - 0s 2ms/step\n",
      "2/2 [==============================] - 0s 2ms/step\n",
      "2/2 [==============================] - 0s 3ms/step\n",
      "2/2 [==============================] - 0s 2ms/step\n",
      "Mean RMSE (+/- standard deviation), for parameters\n",
      "11233.957 (+/- 8431.279) for {'kernel': 'relu', 'no_layers': 0, 'no_neurons': 10, 'output_kernel': 'linear', 'verbose': 0}\n",
      "12011.618 (+/- 8522.002) for {'kernel': 'relu', 'no_layers': 0, 'no_neurons': 10, 'output_kernel': 'sigmoid', 'verbose': 0}\n",
      "11233.957 (+/- 8431.279) for {'kernel': 'relu', 'no_layers': 0, 'no_neurons': 20, 'output_kernel': 'linear', 'verbose': 0}\n",
      "12997.325 (+/- 8931.315) for {'kernel': 'relu', 'no_layers': 0, 'no_neurons': 20, 'output_kernel': 'sigmoid', 'verbose': 0}\n",
      "12011.618 (+/- 8522.002) for {'kernel': 'relu', 'no_layers': 1, 'no_neurons': 10, 'output_kernel': 'linear', 'verbose': 0}\n",
      "12743.251 (+/- 7673.428) for {'kernel': 'relu', 'no_layers': 1, 'no_neurons': 10, 'output_kernel': 'sigmoid', 'verbose': 0}\n",
      "11264.247 (+/- 8439.524) for {'kernel': 'relu', 'no_layers': 1, 'no_neurons': 20, 'output_kernel': 'linear', 'verbose': 0}\n",
      "12743.251 (+/- 7673.428) for {'kernel': 'relu', 'no_layers': 1, 'no_neurons': 20, 'output_kernel': 'sigmoid', 'verbose': 0}\n",
      "11448.321 (+/- 8954.503) for {'kernel': 'linear', 'no_layers': 0, 'no_neurons': 10, 'output_kernel': 'linear', 'verbose': 0}\n",
      "13235.491 (+/- 11344.220) for {'kernel': 'linear', 'no_layers': 0, 'no_neurons': 10, 'output_kernel': 'sigmoid', 'verbose': 0}\n",
      "11265.314 (+/- 8414.378) for {'kernel': 'linear', 'no_layers': 0, 'no_neurons': 20, 'output_kernel': 'linear', 'verbose': 0}\n",
      "12398.506 (+/- 11128.341) for {'kernel': 'linear', 'no_layers': 0, 'no_neurons': 20, 'output_kernel': 'sigmoid', 'verbose': 0}\n",
      "11233.957 (+/- 8431.279) for {'kernel': 'linear', 'no_layers': 1, 'no_neurons': 10, 'output_kernel': 'linear', 'verbose': 0}\n",
      "13902.866 (+/- 10805.952) for {'kernel': 'linear', 'no_layers': 1, 'no_neurons': 10, 'output_kernel': 'sigmoid', 'verbose': 0}\n",
      "11228.269 (+/- 8417.224) for {'kernel': 'linear', 'no_layers': 1, 'no_neurons': 20, 'output_kernel': 'linear', 'verbose': 0}\n",
      "13901.632 (+/- 11068.992) for {'kernel': 'linear', 'no_layers': 1, 'no_neurons': 20, 'output_kernel': 'sigmoid', 'verbose': 0}\n"
     ]
    }
   ],
   "source": [
    "from keras.wrappers.scikit_learn import KerasClassifier\n",
    "from sklearn.model_selection import GridSearchCV\n",
    "\n",
    "input_dim = X.shape[1]\n",
    "output_dim = 1\n",
    "\n",
    "parameters = {'no_neurons':[10,20],'kernel':['relu','linear'],'output_kernel':['linear','sigmoid'],'no_layers':[0,1],'verbose':[0]} \n",
    "\n",
    "grid_search = GridSearchCV(KerasClassifier(nn_model), parameters, cv=5,scoring='neg_mean_squared_error')\n",
    "grid_search.fit(X, y,epochs=100)\n",
    "\n",
    "means = grid_search.cv_results_['mean_test_score']\n",
    "stds = grid_search.cv_results_['std_test_score']\n",
    "\n",
    "print('Mean RMSE (+/- standard deviation), for parameters')\n",
    "for mean, std, params in zip(means, stds, grid_search.cv_results_['params']):\n",
    "    print(\"%0.3f (+/- %0.03f) for %r\"\n",
    "          # The MSE is return as a negative, so we multiple it with -1 before squaring it\n",
    "          % (np.sqrt(-1*mean), np.sqrt(std), params))"
   ]
  },
  {
   "cell_type": "markdown",
   "metadata": {},
   "source": [
    "No difference here except for the reLU kernel based ones. we might be overfitting in the other cases."
   ]
  }
 ],
 "metadata": {
  "kernelspec": {
   "display_name": "Python 3 (ipykernel)",
   "language": "python",
   "name": "python3"
  },
  "language_info": {
   "codemirror_mode": {
    "name": "ipython",
    "version": 3
   },
   "file_extension": ".py",
   "mimetype": "text/x-python",
   "name": "python",
   "nbconvert_exporter": "python",
   "pygments_lexer": "ipython3",
   "version": "3.9.12"
  }
 },
 "nbformat": 4,
 "nbformat_minor": 2
}
