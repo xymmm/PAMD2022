{
 "cells": [
  {
   "cell_type": "markdown",
   "metadata": {
    "pycharm": {
     "name": "#%% md\n"
    }
   },
   "source": [
    "# Merging datasets yourself"
   ]
  },
  {
   "cell_type": "markdown",
   "metadata": {
    "pycharm": {
     "name": "#%% md\n"
    }
   },
   "source": [
    "Before you begin, let's load the data:"
   ]
  },
  {
   "cell_type": "code",
   "execution_count": 1,
   "metadata": {
    "collapsed": true,
    "pycharm": {
     "name": "#%%\n"
    }
   },
   "outputs": [],
   "source": [
    "import pandas as pd\n",
    "import numpy as np\n",
    "\n",
    "dataset_1 = pd.read_csv('NB_1.csv', encoding='latin1')\n",
    "dataset_2 = pd.read_csv('NB_2.csv', encoding='latin1')"
   ]
  },
  {
   "cell_type": "code",
   "execution_count": 2,
   "metadata": {
    "pycharm": {
     "name": "#%%\n"
    }
   },
   "outputs": [
    {
     "data": {
      "text/html": [
       "<div>\n",
       "<style scoped>\n",
       "    .dataframe tbody tr th:only-of-type {\n",
       "        vertical-align: middle;\n",
       "    }\n",
       "\n",
       "    .dataframe tbody tr th {\n",
       "        vertical-align: top;\n",
       "    }\n",
       "\n",
       "    .dataframe thead th {\n",
       "        text-align: right;\n",
       "    }\n",
       "</style>\n",
       "<table border=\"1\" class=\"dataframe\">\n",
       "  <thead>\n",
       "    <tr style=\"text-align: right;\">\n",
       "      <th></th>\n",
       "      <th>Name</th>\n",
       "      <th>Company</th>\n",
       "      <th>ID</th>\n",
       "      <th>Location</th>\n",
       "    </tr>\n",
       "  </thead>\n",
       "  <tbody>\n",
       "    <tr>\n",
       "      <th>0</th>\n",
       "      <td>Rosa, Christian L.</td>\n",
       "      <td>In Foundation</td>\n",
       "      <td>16711119-3954</td>\n",
       "      <td>-73.86523, -53.09301</td>\n",
       "    </tr>\n",
       "    <tr>\n",
       "      <th>1</th>\n",
       "      <td>Phillips, Astra E.</td>\n",
       "      <td>Ut Sagittis Corp.</td>\n",
       "      <td>16560609-6138</td>\n",
       "      <td>-59.69381, 87.70082</td>\n",
       "    </tr>\n",
       "    <tr>\n",
       "      <th>2</th>\n",
       "      <td>Casey, Cullen Y.</td>\n",
       "      <td>Lacus Quisque LLC</td>\n",
       "      <td>16450127-1664</td>\n",
       "      <td>3.9228, 175.32174</td>\n",
       "    </tr>\n",
       "    <tr>\n",
       "      <th>3</th>\n",
       "      <td>Hartman, Margaret K.</td>\n",
       "      <td>Leo Cras Associates</td>\n",
       "      <td>16810220-6854</td>\n",
       "      <td>80.3949, 69.60191</td>\n",
       "    </tr>\n",
       "    <tr>\n",
       "      <th>4</th>\n",
       "      <td>Best, Kato K.</td>\n",
       "      <td>Dolor Institute</td>\n",
       "      <td>16860414-7325</td>\n",
       "      <td>16.59104, 155.73971</td>\n",
       "    </tr>\n",
       "  </tbody>\n",
       "</table>\n",
       "</div>"
      ],
      "text/plain": [
       "                   Name              Company             ID  \\\n",
       "0    Rosa, Christian L.        In Foundation  16711119-3954   \n",
       "1    Phillips, Astra E.    Ut Sagittis Corp.  16560609-6138   \n",
       "2      Casey, Cullen Y.    Lacus Quisque LLC  16450127-1664   \n",
       "3  Hartman, Margaret K.  Leo Cras Associates  16810220-6854   \n",
       "4         Best, Kato K.      Dolor Institute  16860414-7325   \n",
       "\n",
       "               Location  \n",
       "0  -73.86523, -53.09301  \n",
       "1   -59.69381, 87.70082  \n",
       "2     3.9228, 175.32174  \n",
       "3     80.3949, 69.60191  \n",
       "4   16.59104, 155.73971  "
      ]
     },
     "execution_count": 2,
     "metadata": {},
     "output_type": "execute_result"
    }
   ],
   "source": [
    "dataset_1.head()"
   ]
  },
  {
   "cell_type": "code",
   "execution_count": 3,
   "metadata": {
    "pycharm": {
     "name": "#%%\n"
    }
   },
   "outputs": [
    {
     "data": {
      "text/html": [
       "<div>\n",
       "<style scoped>\n",
       "    .dataframe tbody tr th:only-of-type {\n",
       "        vertical-align: middle;\n",
       "    }\n",
       "\n",
       "    .dataframe tbody tr th {\n",
       "        vertical-align: top;\n",
       "    }\n",
       "\n",
       "    .dataframe thead th {\n",
       "        text-align: right;\n",
       "    }\n",
       "</style>\n",
       "<table border=\"1\" class=\"dataframe\">\n",
       "  <thead>\n",
       "    <tr style=\"text-align: right;\">\n",
       "      <th></th>\n",
       "      <th>Name</th>\n",
       "      <th>ID</th>\n",
       "      <th>Salary</th>\n",
       "    </tr>\n",
       "  </thead>\n",
       "  <tbody>\n",
       "    <tr>\n",
       "      <th>0</th>\n",
       "      <td>Ro Ch</td>\n",
       "      <td>16711119-3954</td>\n",
       "      <td>61412</td>\n",
       "    </tr>\n",
       "    <tr>\n",
       "      <th>1</th>\n",
       "      <td>Ph As</td>\n",
       "      <td>16560609-6138</td>\n",
       "      <td>65622</td>\n",
       "    </tr>\n",
       "    <tr>\n",
       "      <th>2</th>\n",
       "      <td>Ca Cu</td>\n",
       "      <td>16450127-1664</td>\n",
       "      <td>84546</td>\n",
       "    </tr>\n",
       "    <tr>\n",
       "      <th>3</th>\n",
       "      <td>Ha Ma</td>\n",
       "      <td>16810220-6854</td>\n",
       "      <td>97292</td>\n",
       "    </tr>\n",
       "    <tr>\n",
       "      <th>4</th>\n",
       "      <td>Be Ka</td>\n",
       "      <td>16860414-7325</td>\n",
       "      <td>94484</td>\n",
       "    </tr>\n",
       "  </tbody>\n",
       "</table>\n",
       "</div>"
      ],
      "text/plain": [
       "    Name             ID  Salary\n",
       "0  Ro Ch  16711119-3954   61412\n",
       "1  Ph As  16560609-6138   65622\n",
       "2  Ca Cu  16450127-1664   84546\n",
       "3  Ha Ma  16810220-6854   97292\n",
       "4  Be Ka  16860414-7325   94484"
      ]
     },
     "execution_count": 3,
     "metadata": {},
     "output_type": "execute_result"
    }
   ],
   "source": [
    "dataset_2.head()"
   ]
  },
  {
   "cell_type": "markdown",
   "metadata": {
    "pycharm": {
     "name": "#%% md\n"
    }
   },
   "source": [
    "## Merge based on ID"
   ]
  },
  {
   "cell_type": "markdown",
   "metadata": {
    "pycharm": {
     "name": "#%% md\n"
    }
   },
   "source": [
    "First, write a function that merges the two datasets based on ID, where only the values present in both tables are withheld:"
   ]
  },
  {
   "cell_type": "code",
   "execution_count": 4,
   "metadata": {
    "collapsed": true,
    "nbgrader": {
     "grade": false,
     "grade_id": "merge_datasets",
     "locked": false,
     "points": 0,
     "schema_version": 1,
     "solution": false
    },
    "pycharm": {
     "name": "#%%\n"
    }
   },
   "outputs": [],
   "source": [
    "def merge_datasets_by_id(ds_1, ds_2, key):\n",
    "    \n",
    "    ### BEGIN SOLUTION    \n",
    "    # We can simply use the merge function from pandas\n",
    "    # We use 'inner', because we only want to join when values are present in boht datasets\n",
    "    merged_set = pd.merge(ds_1, ds_2, on= key, how= 'inner')\n",
    "    ### END SOLUTION\n",
    "    \n",
    "    return merged_set"
   ]
  },
  {
   "cell_type": "markdown",
   "source": [
    "Your answer will be verified below (no need for you to do anything)."
   ],
   "metadata": {
    "collapsed": false,
    "pycharm": {
     "name": "#%% md\n"
    }
   }
  },
  {
   "cell_type": "code",
   "execution_count": 5,
   "metadata": {
    "collapsed": true,
    "pycharm": {
     "name": "#%%\n"
    }
   },
   "outputs": [],
   "source": [
    "### BEGIN HIDDEN TESTS\n",
    "from pandas.testing import assert_frame_equal\n",
    "merged_set = pd.merge(dataset_1, dataset_2, on = 'ID', how= 'inner')\n",
    "assert merged_set.equals(merge_datasets_by_id(dataset_1, dataset_2, 'ID'))\n",
    "### END HIDDEN TESTS"
   ]
  },
  {
   "cell_type": "markdown",
   "metadata": {
    "pycharm": {
     "name": "#%% md\n"
    }
   },
   "source": [
    "## Merge based on name"
   ]
  },
  {
   "cell_type": "markdown",
   "metadata": {
    "pycharm": {
     "name": "#%% md\n"
    }
   },
   "source": [
    "Next, merge the two datasets based on the name. Remember, you have to make the appropriate changes by converting the format of the first dataset into that of the second dataset before merging. Also, make sure that only values matched by the second dataset are present:"
   ]
  },
  {
   "cell_type": "code",
   "execution_count": 6,
   "metadata": {
    "collapsed": true,
    "nbgrader": {
     "grade": false,
     "grade_id": "merge_datasets_by_name",
     "locked": false,
     "schema_version": 1,
     "solution": true
    },
    "pycharm": {
     "name": "#%%\n"
    }
   },
   "outputs": [],
   "source": [
    "def merge_datasets_by_name(ds_1, ds_2, key):\n",
    "    \n",
    "    ### BEGIN SOLUTION    \n",
    "    # Create a list to store the altered names in dataset 1\n",
    "    names = []\n",
    "    for name in ds_1['Name']:\n",
    "        # Split the name and only retain the last two letters like in dataset 2\n",
    "        new_name = name.split(' ')[0][:2]+\" \"+name.split(' ')[1][:2]\n",
    "        names.append(new_name)\n",
    "        \n",
    "    # Replace the values in the dataset\n",
    "    ds_1['Name']=names\n",
    "    \n",
    "    # Finally, merge like before, now using a right join\n",
    "    merged_set = pd.merge(ds_1, ds_2, on= 'Name', how= 'right')\n",
    "    ### END SOLUTION\n",
    "    \n",
    "    return merged_set"
   ]
  },
  {
   "cell_type": "code",
   "execution_count": 7,
   "metadata": {
    "collapsed": true,
    "pycharm": {
     "name": "#%%\n"
    }
   },
   "outputs": [],
   "source": [
    "from pandas.testing import assert_frame_equal\n",
    "dataset_1['Name'] = [na.split(' ')[0][:2]+\" \"+na.split(' ')[1][:2] for na in dataset_1['Name']]\n",
    "merged_set = pd.merge(dataset_1, dataset_2, on = 'Name', how= 'right')\n",
    "assert merged_set.equals(merge_datasets_by_name(dataset_1, dataset_2, 'ID'))"
   ]
  }
 ],
 "metadata": {
  "kernelspec": {
   "display_name": "Python 3",
   "language": "python",
   "name": "python3"
  },
  "language_info": {
   "codemirror_mode": {
    "name": "ipython",
    "version": 3
   },
   "file_extension": ".py",
   "mimetype": "text/x-python",
   "name": "python",
   "nbconvert_exporter": "python",
   "pygments_lexer": "ipython3",
   "version": "3.6.8"
  }
 },
 "nbformat": 4,
 "nbformat_minor": 2
}