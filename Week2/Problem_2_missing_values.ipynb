{
 "cells": [
  {
   "cell_type": "markdown",
   "metadata": {
    "pycharm": {
     "name": "#%% md\n"
    }
   },
   "source": [
    "# Missing values"
   ]
  },
  {
   "cell_type": "markdown",
   "metadata": {
    "pycharm": {
     "name": "#%% md\n"
    }
   },
   "source": [
    "First, let's import our dataset: 'MV_example.csv'"
   ]
  },
  {
   "cell_type": "code",
   "execution_count": 1,
   "metadata": {
    "pycharm": {
     "name": "#%%\n"
    }
   },
   "outputs": [
    {
     "name": "stdout",
     "output_type": "stream",
     "text": [
      "     Amount          Loan type  Age Gender\n",
      "0   50000.0           Mortgage   19      F\n",
      "1    1000.0           Car loan   23      M\n",
      "2   27000.0           Car loan   44      M\n",
      "3  655555.0           Mortgage   45      F\n",
      "4  187666.0           Mortgage   65      F\n",
      "5  165777.0           Mortgage   39    NaN\n",
      "6       NaN           Mortgage   36      F\n",
      "7  145000.0                NaN   27      F\n",
      "8  156899.0           Mortgage   48      F\n",
      "9   15000.0  Short-term credit   55      M\n"
     ]
    }
   ],
   "source": [
    "from sklearn.neighbors import NearestNeighbors as NN\n",
    "import pandas as pd\n",
    "import numpy as np\n",
    "\n",
    "df = pd.read_csv('MV_example.csv')\n",
    "print(df)"
   ]
  },
  {
   "cell_type": "markdown",
   "metadata": {
    "pycharm": {
     "name": "#%% md\n"
    }
   },
   "source": [
    "## Dropping NAs"
   ]
  },
  {
   "cell_type": "markdown",
   "metadata": {
    "pycharm": {
     "name": "#%% md\n"
    }
   },
   "source": [
    "To start, an easy solution could be to drop all observations with NAs (NaNs in pandas):"
   ]
  },
  {
   "cell_type": "code",
   "execution_count": null,
   "metadata": {
    "pycharm": {
     "name": "#%%\n"
    }
   },
   "outputs": [],
   "source": [
    "# use DataFrame.dropna()."
   ]
  },
  {
   "cell_type": "markdown",
   "metadata": {
    "pycharm": {
     "name": "#%% md\n"
    }
   },
   "source": [
    "Or you can drop all columns with missing values:"
   ]
  },
  {
   "cell_type": "code",
   "execution_count": null,
   "metadata": {
    "pycharm": {
     "name": "#%%\n"
    }
   },
   "outputs": [],
   "source": [
    "# same function, changing parameters."
   ]
  },
  {
   "cell_type": "markdown",
   "metadata": {
    "pycharm": {
     "name": "#%% md\n"
    }
   },
   "source": [
    "## Imputation"
   ]
  },
  {
   "cell_type": "markdown",
   "source": [
    "A quick fix for filling all NaNs with the average is the following:"
   ],
   "metadata": {
    "collapsed": false,
    "pycharm": {
     "name": "#%% md\n"
    }
   }
  },
  {
   "cell_type": "code",
   "execution_count": null,
   "outputs": [],
   "source": [
    "# We use nanmean and nanmedian instead of mean and median to ignore NaNs\n",
    "mean = np.nanmean(df['Amount'])\n",
    "median = np.nanmedian(df['Amount'])\n",
    "print('Mean: ', mean, ' median: ', median)\n",
    "\n",
    "print(df['Amount'].fillna(mean))\n",
    "print(df['Amount'].fillna(median))\n",
    "\n",
    "\n",
    "# if you want to replace nan\n",
    "df['Amount'] = df['Amount'].fillna(mean)\n",
    "print(df)"
   ],
   "metadata": {
    "collapsed": false,
    "pycharm": {
     "name": "#%%\n"
    }
   }
  },
  {
   "cell_type": "markdown",
   "metadata": {
    "pycharm": {
     "name": "#%% md\n"
    }
   },
   "source": [
    "### Nearest neighbour impurtation\n",
    "\n",
    "Now let's use the nearest neighbour algorithm to find the best replacements for missing values:"
   ]
  },
  {
   "cell_type": "code",
   "execution_count": null,
   "metadata": {
    "pycharm": {
     "name": "#%%\n"
    }
   },
   "outputs": [],
   "source": [
    "# Let's first try for observation 6 (counting from 0), which misses the amount\n",
    "X = df.loc[:, df.columns !='Amount']\n",
    "\n",
    "# Convert the categorical variables\n",
    "\n",
    "# Store 6 separately\n",
    "\n",
    "# Store the others without the other observations missing values (5 (6) and 7 (8))\n",
    "\n",
    "# maybe print"
   ]
  }
 ],
 "metadata": {
  "kernelspec": {
   "display_name": "Python 3",
   "language": "python",
   "name": "python3"
  },
  "language_info": {
   "codemirror_mode": {
    "name": "ipython",
    "version": 3
   },
   "file_extension": ".py",
   "mimetype": "text/x-python",
   "name": "python",
   "nbconvert_exporter": "python",
   "pygments_lexer": "ipython3",
   "version": "3.7.6"
  }
 },
 "nbformat": 4,
 "nbformat_minor": 2
}