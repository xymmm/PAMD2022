{
 "cells": [
  {
   "cell_type": "markdown",
   "metadata": {},
   "source": [
    "# Can you spot the fraudsters?"
   ]
  },
  {
   "cell_type": "markdown",
   "metadata": {},
   "source": [
    "Consider the following dataset:"
   ]
  },
  {
   "cell_type": "code",
   "execution_count": 38,
   "metadata": {},
   "outputs": [
    {
     "name": "stdout",
     "output_type": "stream",
     "text": [
      "                    CC            No    Money               City  \\\n",
      "0  5110 0000 0000 0000  1.610000e+12  $6,871              Amlwch   \n",
      "1  5294 4409 1242 9950  1.680000e+12  $7,965       North Saanich   \n",
      "2  5380 0000 0000 0000  1.650000e+12  $7,927              Amlwch   \n",
      "3  5530 0000 0000 0000  1.630000e+12  $9,525                Ajax   \n",
      "4  5570 0000 0000 0000  1.630000e+12  $7,008   Pont-Saint-Martin   \n",
      "5  5150 0000 0000 0000  1.650000e+12  $5,138              Amlwch   \n",
      "6    514515 2300050725  1.650000e+12  $6,921                Ajax   \n",
      "7  5288 2331 4441 1377  1.640000e+12  $7,821   Pont-Saint-Martin   \n",
      "8   538649 550458 1435  1.680000e+12  $7,426              Canoas   \n",
      "9   522306 558047 9692  1.650000e+12  $7,344              Canoas   \n",
      "\n",
      "             Phone  Fraud  \n",
      "0    070 2858 8300      1  \n",
      "1     07588 093717      1  \n",
      "2    0800 236 8313      1  \n",
      "3  (0116) 834 5299      0  \n",
      "4    (016977) 0477      1  \n",
      "5      0500 593141      0  \n",
      "6        0800 1111      0  \n",
      "7    0933 242 2375      1  \n",
      "8       0845 46 45      1  \n",
      "9      0800 852603      1  \n"
     ]
    }
   ],
   "source": [
    "from sklearn import datasets\n",
    "import pandas as pd\n",
    "import numpy as np\n",
    "import matplotlib.pyplot as plt\n",
    "\n",
    "dataset = pd.read_csv('credit_cards.csv', encoding='latin1') #DLAS01_M1_WK4_LS2_A02 credit_cards\n",
    "print(dataset.head(10))"
   ]
  },
  {
   "cell_type": "markdown",
   "metadata": {},
   "source": [
    "The variable CC stands for Credit Card, and No for an identifier (number). We have a dependent variable which indicates whether a transaction/obervation is fraudulent yes or no (1/0)."
   ]
  },
  {
   "cell_type": "markdown",
   "metadata": {},
   "source": [
    "We would like to create a predictive model that can identify credit card fraudsters. The variables are not usable just yet.\n",
    "There are a number of operations that need to be carried out:\n",
    "1. Convert alphanumeric into numeric variables\n",
    "2. Remove variables that have no predictive value\n",
    "3. Remove outliers\n",
    "4. Transform numeric variables"
   ]
  },
  {
   "cell_type": "markdown",
   "metadata": {},
   "source": [
    "## Step 1: Convert alphanumeric into numeric variables"
   ]
  },
  {
   "cell_type": "markdown",
   "metadata": {},
   "source": [
    "The money variable is numeric, but not in the right format. Address this in the dataset:"
   ]
  },
  {
   "cell_type": "code",
   "execution_count": 39,
   "metadata": {
    "nbgrader": {
     "grade": false,
     "grade_id": "transform_money_variable",
     "locked": false,
     "schema_version": 1,
     "solution": true
    }
   },
   "outputs": [],
   "source": [
    "def transform_money_variable(dataset):\n",
    "    # We first copy the dataset to have our own version which we can alter\n",
    "    dataset_cleaner = dataset.copy()\n",
    "    \n",
    "    ### BEGIN SOLUTION   \n",
    "    # We use a list to store the altered values\n",
    "    money = []\n",
    "    \n",
    "    # Go through all the values of the variable\n",
    "    for amount in dataset_cleaner['Money']:\n",
    "\n",
    "        # Remove the , from the string (We start as of position 1, as the $ is in position 0)\n",
    "        new_amount = amount[1:].replace(',','')\n",
    "        # Convert the amount to a string and add to the list\n",
    "        money.append(int(new_amount))\n",
    "        \n",
    "    # Replace the values of the variable in the dataset with the new list\n",
    "    dataset_cleaner['Money'] = money\n",
    "    \n",
    "    ### END SOLUTION\n",
    "    \n",
    "    return dataset_cleaner"
   ]
  },
  {
   "cell_type": "markdown",
   "metadata": {},
   "source": [
    "Your answer will be verified below (no need for you to do anything)."
   ]
  },
  {
   "cell_type": "code",
   "execution_count": 40,
   "metadata": {
    "nbgrader": {
     "grade": true,
     "grade_id": "transform_money_variable",
     "locked": true,
     "points": "2",
     "schema_version": 1,
     "solution": false
    }
   },
   "outputs": [],
   "source": [
    "### BEGIN HIDDEN TESTS\n",
    "from pandas.testing import assert_frame_equal\n",
    "dataset_cleaner = dataset.copy()\n",
    "dataset_cleaner['Money'] = [int(amount[1:].replace(',', '')) for amount in dataset_cleaner['Money']]\n",
    "assert dataset_cleaner.equals(transform_money_variable(dataset))\n",
    "### END HIDDEN TESTS"
   ]
  },
  {
   "cell_type": "markdown",
   "metadata": {},
   "source": [
    "Check your dataset to see whether the changes have been made correctly:"
   ]
  },
  {
   "cell_type": "code",
   "execution_count": 41,
   "metadata": {},
   "outputs": [
    {
     "data": {
      "text/html": [
       "<div>\n",
       "<style scoped>\n",
       "    .dataframe tbody tr th:only-of-type {\n",
       "        vertical-align: middle;\n",
       "    }\n",
       "\n",
       "    .dataframe tbody tr th {\n",
       "        vertical-align: top;\n",
       "    }\n",
       "\n",
       "    .dataframe thead th {\n",
       "        text-align: right;\n",
       "    }\n",
       "</style>\n",
       "<table border=\"1\" class=\"dataframe\">\n",
       "  <thead>\n",
       "    <tr style=\"text-align: right;\">\n",
       "      <th></th>\n",
       "      <th>CC</th>\n",
       "      <th>No</th>\n",
       "      <th>Money</th>\n",
       "      <th>City</th>\n",
       "      <th>Phone</th>\n",
       "      <th>Fraud</th>\n",
       "    </tr>\n",
       "  </thead>\n",
       "  <tbody>\n",
       "    <tr>\n",
       "      <th>0</th>\n",
       "      <td>5110 0000 0000 0000</td>\n",
       "      <td>1.610000e+12</td>\n",
       "      <td>6871</td>\n",
       "      <td>Amlwch</td>\n",
       "      <td>070 2858 8300</td>\n",
       "      <td>1</td>\n",
       "    </tr>\n",
       "    <tr>\n",
       "      <th>1</th>\n",
       "      <td>5294 4409 1242 9950</td>\n",
       "      <td>1.680000e+12</td>\n",
       "      <td>7965</td>\n",
       "      <td>North Saanich</td>\n",
       "      <td>07588 093717</td>\n",
       "      <td>1</td>\n",
       "    </tr>\n",
       "    <tr>\n",
       "      <th>2</th>\n",
       "      <td>5380 0000 0000 0000</td>\n",
       "      <td>1.650000e+12</td>\n",
       "      <td>7927</td>\n",
       "      <td>Amlwch</td>\n",
       "      <td>0800 236 8313</td>\n",
       "      <td>1</td>\n",
       "    </tr>\n",
       "    <tr>\n",
       "      <th>3</th>\n",
       "      <td>5530 0000 0000 0000</td>\n",
       "      <td>1.630000e+12</td>\n",
       "      <td>9525</td>\n",
       "      <td>Ajax</td>\n",
       "      <td>(0116) 834 5299</td>\n",
       "      <td>0</td>\n",
       "    </tr>\n",
       "    <tr>\n",
       "      <th>4</th>\n",
       "      <td>5570 0000 0000 0000</td>\n",
       "      <td>1.630000e+12</td>\n",
       "      <td>7008</td>\n",
       "      <td>Pont-Saint-Martin</td>\n",
       "      <td>(016977) 0477</td>\n",
       "      <td>1</td>\n",
       "    </tr>\n",
       "    <tr>\n",
       "      <th>5</th>\n",
       "      <td>5150 0000 0000 0000</td>\n",
       "      <td>1.650000e+12</td>\n",
       "      <td>5138</td>\n",
       "      <td>Amlwch</td>\n",
       "      <td>0500 593141</td>\n",
       "      <td>0</td>\n",
       "    </tr>\n",
       "    <tr>\n",
       "      <th>6</th>\n",
       "      <td>514515 2300050725</td>\n",
       "      <td>1.650000e+12</td>\n",
       "      <td>6921</td>\n",
       "      <td>Ajax</td>\n",
       "      <td>0800 1111</td>\n",
       "      <td>0</td>\n",
       "    </tr>\n",
       "    <tr>\n",
       "      <th>7</th>\n",
       "      <td>5288 2331 4441 1377</td>\n",
       "      <td>1.640000e+12</td>\n",
       "      <td>7821</td>\n",
       "      <td>Pont-Saint-Martin</td>\n",
       "      <td>0933 242 2375</td>\n",
       "      <td>1</td>\n",
       "    </tr>\n",
       "    <tr>\n",
       "      <th>8</th>\n",
       "      <td>538649 550458 1435</td>\n",
       "      <td>1.680000e+12</td>\n",
       "      <td>7426</td>\n",
       "      <td>Canoas</td>\n",
       "      <td>0845 46 45</td>\n",
       "      <td>1</td>\n",
       "    </tr>\n",
       "    <tr>\n",
       "      <th>9</th>\n",
       "      <td>522306 558047 9692</td>\n",
       "      <td>1.650000e+12</td>\n",
       "      <td>7344</td>\n",
       "      <td>Canoas</td>\n",
       "      <td>0800 852603</td>\n",
       "      <td>1</td>\n",
       "    </tr>\n",
       "  </tbody>\n",
       "</table>\n",
       "</div>"
      ],
      "text/plain": [
       "                    CC            No  Money               City  \\\n",
       "0  5110 0000 0000 0000  1.610000e+12   6871             Amlwch   \n",
       "1  5294 4409 1242 9950  1.680000e+12   7965      North Saanich   \n",
       "2  5380 0000 0000 0000  1.650000e+12   7927             Amlwch   \n",
       "3  5530 0000 0000 0000  1.630000e+12   9525               Ajax   \n",
       "4  5570 0000 0000 0000  1.630000e+12   7008  Pont-Saint-Martin   \n",
       "5  5150 0000 0000 0000  1.650000e+12   5138             Amlwch   \n",
       "6    514515 2300050725  1.650000e+12   6921               Ajax   \n",
       "7  5288 2331 4441 1377  1.640000e+12   7821  Pont-Saint-Martin   \n",
       "8   538649 550458 1435  1.680000e+12   7426             Canoas   \n",
       "9   522306 558047 9692  1.650000e+12   7344             Canoas   \n",
       "\n",
       "             Phone  Fraud  \n",
       "0    070 2858 8300      1  \n",
       "1     07588 093717      1  \n",
       "2    0800 236 8313      1  \n",
       "3  (0116) 834 5299      0  \n",
       "4    (016977) 0477      1  \n",
       "5      0500 593141      0  \n",
       "6        0800 1111      0  \n",
       "7    0933 242 2375      1  \n",
       "8       0845 46 45      1  \n",
       "9      0800 852603      1  "
      ]
     },
     "execution_count": 41,
     "metadata": {},
     "output_type": "execute_result"
    }
   ],
   "source": [
    "dataset_cleaner.head(10)"
   ]
  },
  {
   "cell_type": "markdown",
   "metadata": {},
   "source": [
    "## Step 2: Remove variables that have no predictive value"
   ]
  },
  {
   "cell_type": "markdown",
   "metadata": {},
   "source": [
    "Let's have a look at the number of unique values per variable:"
   ]
  },
  {
   "cell_type": "code",
   "execution_count": 42,
   "metadata": {},
   "outputs": [
    {
     "name": "stdout",
     "output_type": "stream",
     "text": [
      "CC   97\n",
      "No   9\n",
      "Money   98\n",
      "City   5\n",
      "Phone   95\n",
      "Fraud   2\n"
     ]
    }
   ],
   "source": [
    "for var in dataset.columns:\n",
    "    print(var, ' ', len(dataset[var].unique()))"
   ]
  },
  {
   "cell_type": "markdown",
   "metadata": {},
   "source": [
    "Remove the variables that you think are not needed and return the cleaned dataset:"
   ]
  },
  {
   "cell_type": "code",
   "execution_count": 43,
   "metadata": {
    "nbgrader": {
     "grade": false,
     "grade_id": "remove_variables",
     "locked": false,
     "schema_version": 1,
     "solution": true
    }
   },
   "outputs": [],
   "source": [
    "def remove_variables(dataset_cleaner):\n",
    "    dataset_cleanest = dataset_cleaner.copy()\n",
    "    \n",
    "    ### BEGIN SOLUTION    \n",
    "    # We simply drop the variables by name from the dataset\n",
    "    dataset_cleanest = dataset_cleanest.drop(['CC','Phone'], axis=1)\n",
    "    ### END SOLUTION\n",
    "    \n",
    "    return dataset_cleanest"
   ]
  },
  {
   "cell_type": "markdown",
   "metadata": {},
   "source": [
    "Your answer will be verified below (no need for you to do anything)."
   ]
  },
  {
   "cell_type": "code",
   "execution_count": 44,
   "metadata": {
    "nbgrader": {
     "grade": true,
     "grade_id": "remove_variables",
     "locked": true,
     "points": "2",
     "schema_version": 1,
     "solution": false
    }
   },
   "outputs": [],
   "source": [
    "### BEGIN HIDDEN TESTS\n",
    "from pandas.testing import assert_frame_equal\n",
    "dataset_cleanest = dataset_cleaner.copy()\n",
    "dataset_cleanest = dataset_cleanest.drop(['CC','Phone'], axis=1)\n",
    "assert dataset_cleanest.equals(remove_variables(dataset_cleaner))\n",
    "### END HIDDEN TESTS"
   ]
  },
  {
   "cell_type": "markdown",
   "metadata": {},
   "source": [
    "Check your dataset:"
   ]
  },
  {
   "cell_type": "code",
   "execution_count": 53,
   "metadata": {},
   "outputs": [
    {
     "data": {
      "text/html": [
       "<div>\n",
       "<style scoped>\n",
       "    .dataframe tbody tr th:only-of-type {\n",
       "        vertical-align: middle;\n",
       "    }\n",
       "\n",
       "    .dataframe tbody tr th {\n",
       "        vertical-align: top;\n",
       "    }\n",
       "\n",
       "    .dataframe thead th {\n",
       "        text-align: right;\n",
       "    }\n",
       "</style>\n",
       "<table border=\"1\" class=\"dataframe\">\n",
       "  <thead>\n",
       "    <tr style=\"text-align: right;\">\n",
       "      <th></th>\n",
       "      <th>No</th>\n",
       "      <th>Money</th>\n",
       "      <th>City</th>\n",
       "      <th>Fraud</th>\n",
       "    </tr>\n",
       "  </thead>\n",
       "  <tbody>\n",
       "    <tr>\n",
       "      <th>0</th>\n",
       "      <td>1.610000e+12</td>\n",
       "      <td>6871</td>\n",
       "      <td>Amlwch</td>\n",
       "      <td>1</td>\n",
       "    </tr>\n",
       "    <tr>\n",
       "      <th>1</th>\n",
       "      <td>1.680000e+12</td>\n",
       "      <td>7965</td>\n",
       "      <td>North Saanich</td>\n",
       "      <td>1</td>\n",
       "    </tr>\n",
       "    <tr>\n",
       "      <th>2</th>\n",
       "      <td>1.650000e+12</td>\n",
       "      <td>7927</td>\n",
       "      <td>Amlwch</td>\n",
       "      <td>1</td>\n",
       "    </tr>\n",
       "    <tr>\n",
       "      <th>3</th>\n",
       "      <td>1.630000e+12</td>\n",
       "      <td>9525</td>\n",
       "      <td>Ajax</td>\n",
       "      <td>0</td>\n",
       "    </tr>\n",
       "    <tr>\n",
       "      <th>4</th>\n",
       "      <td>1.630000e+12</td>\n",
       "      <td>7008</td>\n",
       "      <td>Pont-Saint-Martin</td>\n",
       "      <td>1</td>\n",
       "    </tr>\n",
       "    <tr>\n",
       "      <th>5</th>\n",
       "      <td>1.650000e+12</td>\n",
       "      <td>5138</td>\n",
       "      <td>Amlwch</td>\n",
       "      <td>0</td>\n",
       "    </tr>\n",
       "    <tr>\n",
       "      <th>6</th>\n",
       "      <td>1.650000e+12</td>\n",
       "      <td>6921</td>\n",
       "      <td>Ajax</td>\n",
       "      <td>0</td>\n",
       "    </tr>\n",
       "    <tr>\n",
       "      <th>7</th>\n",
       "      <td>1.640000e+12</td>\n",
       "      <td>7821</td>\n",
       "      <td>Pont-Saint-Martin</td>\n",
       "      <td>1</td>\n",
       "    </tr>\n",
       "    <tr>\n",
       "      <th>8</th>\n",
       "      <td>1.680000e+12</td>\n",
       "      <td>7426</td>\n",
       "      <td>Canoas</td>\n",
       "      <td>1</td>\n",
       "    </tr>\n",
       "    <tr>\n",
       "      <th>9</th>\n",
       "      <td>1.650000e+12</td>\n",
       "      <td>7344</td>\n",
       "      <td>Canoas</td>\n",
       "      <td>1</td>\n",
       "    </tr>\n",
       "  </tbody>\n",
       "</table>\n",
       "</div>"
      ],
      "text/plain": [
       "             No  Money               City  Fraud\n",
       "0  1.610000e+12   6871             Amlwch      1\n",
       "1  1.680000e+12   7965      North Saanich      1\n",
       "2  1.650000e+12   7927             Amlwch      1\n",
       "3  1.630000e+12   9525               Ajax      0\n",
       "4  1.630000e+12   7008  Pont-Saint-Martin      1\n",
       "5  1.650000e+12   5138             Amlwch      0\n",
       "6  1.650000e+12   6921               Ajax      0\n",
       "7  1.640000e+12   7821  Pont-Saint-Martin      1\n",
       "8  1.680000e+12   7426             Canoas      1\n",
       "9  1.650000e+12   7344             Canoas      1"
      ]
     },
     "execution_count": 53,
     "metadata": {},
     "output_type": "execute_result"
    }
   ],
   "source": [
    "dataset_cleanest.head(10)"
   ]
  },
  {
   "cell_type": "markdown",
   "metadata": {},
   "source": [
    "## Step 3: Remove outliers"
   ]
  },
  {
   "cell_type": "markdown",
   "metadata": {},
   "source": [
    "Now, add a column called 'outlier' to the dataset containing a -1/1 flag for outliers, which are calculated only for the continuous variables:"
   ]
  },
  {
   "cell_type": "code",
   "execution_count": 46,
   "metadata": {
    "nbgrader": {
     "grade": false,
     "grade_id": "remove_outliers",
     "locked": false,
     "schema_version": 1,
     "solution": true
    }
   },
   "outputs": [],
   "source": [
    "def remove_outliers(dataset_trans, no_neigh, contam):\n",
    "    dataset_no_out = dataset_cleanest.copy()[['No', 'Money']]  \n",
    "    \n",
    "    ### BEGIN SOLUTION    \n",
    "    # Import the appropriate code\n",
    "    from sklearn.neighbors import LocalOutlierFactor\n",
    "    \n",
    "    # Apply the LocalOutlierFactor function with the parameters given\n",
    "    loc = LocalOutlierFactor(n_neighbors = no_neigh, contamination = contam)\n",
    "    outliers_loc = loc.fit_predict(dataset_no_out)\n",
    "    \n",
    "    # Add a new column to the dataset with a flag for outliers\n",
    "    dataset_no_out['outlier'] = pd.DataFrame(outliers_loc)\n",
    "    ### END SOLUTION\n",
    "    \n",
    "    return dataset_no_out"
   ]
  },
  {
   "cell_type": "markdown",
   "metadata": {},
   "source": [
    "Your answer will be verified below (no need for you to do anything)."
   ]
  },
  {
   "cell_type": "code",
   "execution_count": 47,
   "metadata": {
    "nbgrader": {
     "grade": true,
     "grade_id": "remove_outliers",
     "locked": true,
     "points": "6",
     "schema_version": 1,
     "solution": false
    }
   },
   "outputs": [],
   "source": [
    "### BEGIN HIDDEN TESTS\n",
    "from pandas.testing import assert_frame_equal\n",
    "from sklearn.neighbors import LocalOutlierFactor\n",
    "\n",
    "dataset_no_out = dataset_cleanest.copy()[['No', 'Money']]   \n",
    "\n",
    "loc = LocalOutlierFactor(n_neighbors = 20, contamination = 0.2)\n",
    "outliers_loc = loc.fit_predict(dataset_no_out)\n",
    "dataset_no_out['outlier'] = pd.DataFrame(outliers_loc)\n",
    "assert dataset_no_out.equals(remove_outliers(dataset_cleanest[['No', 'Money']], 20, 0.2))\n",
    "### END HIDDEN TESTS"
   ]
  },
  {
   "cell_type": "markdown",
   "metadata": {},
   "source": [
    "Check your dataset:"
   ]
  },
  {
   "cell_type": "code",
   "execution_count": 48,
   "metadata": {
    "scrolled": true
   },
   "outputs": [
    {
     "data": {
      "text/plain": [
       " 1    80\n",
       "-1    19\n",
       "Name: outlier, dtype: int64"
      ]
     },
     "execution_count": 48,
     "metadata": {},
     "output_type": "execute_result"
    }
   ],
   "source": [
    "dataset_no_out['outlier'].value_counts()"
   ]
  },
  {
   "cell_type": "markdown",
   "metadata": {},
   "source": [
    "## Step 4: Transform numeric variables"
   ]
  },
  {
   "cell_type": "markdown",
   "metadata": {},
   "source": [
    "Finally, transform the numeric variables in the dataset by using standardisation. Your result should be a dataframe containing only the transformed (numeric) variables:"
   ]
  },
  {
   "cell_type": "code",
   "execution_count": 12,
   "metadata": {
    "nbgrader": {
     "grade": false,
     "grade_id": "transform_numeric_variables",
     "locked": false,
     "schema_version": 1,
     "solution": true
    }
   },
   "outputs": [],
   "source": [
    "def transform_numeric_variables(dataset_cleanest):\n",
    "    dataset_trans = dataset_no_out.copy()\n",
    "    \n",
    "    ### BEGIN SOLUTION    \n",
    "    # Import the appropriate code\n",
    "    from sklearn.preprocessing import StandardScaler\n",
    "    \n",
    "    # Create a scaler instance and apply to the variables\n",
    "    # Note that this applies everything to the data values, not the variables\n",
    "    ss = StandardScaler()\n",
    "    dataset_trans = ss.fit_transform(dataset_trans[['No','Money']])\n",
    "    \n",
    "    # Create a new dataframe to store the data within a dataframe again\n",
    "    dataset_trans = pd.DataFrame(data = dataset_trans, columns = ['No', 'Money'])\n",
    "    ### END SOLUTION\n",
    "    \n",
    "    return dataset_trans"
   ]
  },
  {
   "cell_type": "markdown",
   "metadata": {},
   "source": [
    "Your answer will be verified below (no need for you to do anything)."
   ]
  },
  {
   "cell_type": "code",
   "execution_count": 13,
   "metadata": {
    "nbgrader": {
     "grade": true,
     "grade_id": "transform_numeric_variables",
     "locked": true,
     "points": "4",
     "schema_version": 1,
     "solution": false
    }
   },
   "outputs": [],
   "source": [
    "### BEGIN HIDDEN TESTS\n",
    "from pandas.testing import assert_frame_equal\n",
    "from sklearn.preprocessing import StandardScaler\n",
    "\n",
    "dataset_trans = dataset_no_out.copy()\n",
    "ss = StandardScaler()\n",
    "dataset_trans = ss.fit_transform(dataset_trans[['No','Money']])\n",
    "dataset_trans = pd.DataFrame(data = dataset_trans, columns = ['No', 'Money'])\n",
    "assert dataset_trans.equals(transform_numeric_variables(dataset_no_out))\n",
    "### END HIDDEN TESTS"
   ]
  },
  {
   "cell_type": "markdown",
   "metadata": {},
   "source": [
    "Check your dataset:"
   ]
  },
  {
   "cell_type": "code",
   "execution_count": 14,
   "metadata": {},
   "outputs": [
    {
     "data": {
      "text/html": [
       "<div>\n",
       "<style scoped>\n",
       "    .dataframe tbody tr th:only-of-type {\n",
       "        vertical-align: middle;\n",
       "    }\n",
       "\n",
       "    .dataframe tbody tr th {\n",
       "        vertical-align: top;\n",
       "    }\n",
       "\n",
       "    .dataframe thead th {\n",
       "        text-align: right;\n",
       "    }\n",
       "</style>\n",
       "<table border=\"1\" class=\"dataframe\">\n",
       "  <thead>\n",
       "    <tr style=\"text-align: right;\">\n",
       "      <th></th>\n",
       "      <th>No</th>\n",
       "      <th>Money</th>\n",
       "    </tr>\n",
       "  </thead>\n",
       "  <tbody>\n",
       "    <tr>\n",
       "      <th>0</th>\n",
       "      <td>-1.716197</td>\n",
       "      <td>-0.254860</td>\n",
       "    </tr>\n",
       "    <tr>\n",
       "      <th>1</th>\n",
       "      <td>1.095445</td>\n",
       "      <td>0.468902</td>\n",
       "    </tr>\n",
       "    <tr>\n",
       "      <th>2</th>\n",
       "      <td>-0.109545</td>\n",
       "      <td>0.443762</td>\n",
       "    </tr>\n",
       "    <tr>\n",
       "      <th>3</th>\n",
       "      <td>-0.912871</td>\n",
       "      <td>1.500958</td>\n",
       "    </tr>\n",
       "    <tr>\n",
       "      <th>4</th>\n",
       "      <td>-0.912871</td>\n",
       "      <td>-0.164224</td>\n",
       "    </tr>\n",
       "    <tr>\n",
       "      <th>5</th>\n",
       "      <td>-0.109545</td>\n",
       "      <td>-1.401367</td>\n",
       "    </tr>\n",
       "    <tr>\n",
       "      <th>6</th>\n",
       "      <td>-0.109545</td>\n",
       "      <td>-0.221781</td>\n",
       "    </tr>\n",
       "    <tr>\n",
       "      <th>7</th>\n",
       "      <td>-0.511208</td>\n",
       "      <td>0.373636</td>\n",
       "    </tr>\n",
       "    <tr>\n",
       "      <th>8</th>\n",
       "      <td>1.095445</td>\n",
       "      <td>0.112314</td>\n",
       "    </tr>\n",
       "    <tr>\n",
       "      <th>9</th>\n",
       "      <td>-0.109545</td>\n",
       "      <td>0.058065</td>\n",
       "    </tr>\n",
       "  </tbody>\n",
       "</table>\n",
       "</div>"
      ],
      "text/plain": [
       "         No     Money\n",
       "0 -1.716197 -0.254860\n",
       "1  1.095445  0.468902\n",
       "2 -0.109545  0.443762\n",
       "3 -0.912871  1.500958\n",
       "4 -0.912871 -0.164224\n",
       "5 -0.109545 -1.401367\n",
       "6 -0.109545 -0.221781\n",
       "7 -0.511208  0.373636\n",
       "8  1.095445  0.112314\n",
       "9 -0.109545  0.058065"
      ]
     },
     "execution_count": 14,
     "metadata": {},
     "output_type": "execute_result"
    }
   ],
   "source": [
    "dataset_trans.head(10)"
   ]
  }
 ],
 "metadata": {
  "kernelspec": {
   "display_name": "Python 3",
   "language": "python",
   "name": "python3"
  },
  "language_info": {
   "codemirror_mode": {
    "name": "ipython",
    "version": 3
   },
   "file_extension": ".py",
   "mimetype": "text/x-python",
   "name": "python",
   "nbconvert_exporter": "python",
   "pygments_lexer": "ipython3",
   "version": "3.7.6"
  }
 },
 "nbformat": 4,
 "nbformat_minor": 2
}
