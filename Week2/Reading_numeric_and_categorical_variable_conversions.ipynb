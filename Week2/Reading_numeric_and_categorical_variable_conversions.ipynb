{
 "cells": [
  {
   "cell_type": "markdown",
   "metadata": {
    "pycharm": {
     "name": "#%% md\n"
    }
   },
   "source": [
    "# Variable conversion"
   ]
  },
  {
   "cell_type": "markdown",
   "metadata": {
    "pycharm": {
     "name": "#%% md\n"
    }
   },
   "source": [
    "In this activity you will learn to convert variables from one type into the other."
   ]
  },
  {
   "cell_type": "markdown",
   "metadata": {
    "pycharm": {
     "name": "#%% md\n"
    }
   },
   "source": [
    "## Numeric to categorical"
   ]
  },
  {
   "cell_type": "markdown",
   "metadata": {
    "pycharm": {
     "name": "#%% md\n"
    }
   },
   "source": [
    "Consider the wine dataset we used earlier:"
   ]
  },
  {
   "cell_type": "code",
   "execution_count": 2,
   "metadata": {
    "pycharm": {
     "name": "#%%\n"
    }
   },
   "outputs": [
    {
     "name": "stdout",
     "output_type": "stream",
     "text": [
      "   alcohol  malic_acid   ash  alcalinity_of_ash  magnesium  total_phenols  \\\n",
      "0    14.23        1.71  2.43               15.6      127.0           2.80   \n",
      "1    13.20        1.78  2.14               11.2      100.0           2.65   \n",
      "2    13.16        2.36  2.67               18.6      101.0           2.80   \n",
      "3    14.37        1.95  2.50               16.8      113.0           3.85   \n",
      "4    13.24        2.59  2.87               21.0      118.0           2.80   \n",
      "\n",
      "   flavanoids  nonflavanoid_phenols  proanthocyanins  color_intensity   hue  \\\n",
      "0        3.06                  0.28             2.29             5.64  1.04   \n",
      "1        2.76                  0.26             1.28             4.38  1.05   \n",
      "2        3.24                  0.30             2.81             5.68  1.03   \n",
      "3        3.49                  0.24             2.18             7.80  0.86   \n",
      "4        2.69                  0.39             1.82             4.32  1.04   \n",
      "\n",
      "   od280/od315_of_diluted_wines  proline  \n",
      "0                          3.92   1065.0  \n",
      "1                          3.40   1050.0  \n",
      "2                          3.17   1185.0  \n",
      "3                          3.45   1480.0  \n",
      "4                          2.93    735.0  \n"
     ]
    }
   ],
   "source": [
    "import sklearn.datasets as datasets\n",
    "import pandas as pd\n",
    "import numpy as np\n",
    "\n",
    "dataset = datasets.load_wine()\n",
    "X = pd.DataFrame(data=dataset['data'], columns=dataset['feature_names'])\n",
    "\n",
    "print(X.head())"
   ]
  },
  {
   "cell_type": "markdown",
   "metadata": {
    "pycharm": {
     "name": "#%% md\n"
    }
   },
   "source": [
    "Let's first bin the variable 'flavanoids' into 5 bins using pandas:"
   ]
  },
  {
   "cell_type": "code",
   "execution_count": 3,
   "metadata": {
    "pycharm": {
     "name": "#%%\n"
    }
   },
   "outputs": [
    {
     "name": "stdout",
     "output_type": "stream",
     "text": [
      "(2.236, 3.184]    64\n",
      "(0.335, 1.288]    51\n",
      "(1.288, 2.236]    43\n",
      "(3.184, 4.132]    19\n",
      "(4.132, 5.08]      1\n",
      "Name: flavanoids, dtype: int64\n"
     ]
    }
   ],
   "source": [
    "flavanoids = pd.cut(X['flavanoids'], 5)\n",
    "print(flavanoids.value_counts())"
   ]
  },
  {
   "cell_type": "markdown",
   "metadata": {
    "pycharm": {
     "name": "#%% md\n"
    }
   },
   "source": [
    "Notice that the bins are all of an equal width, but the distribution is uneven.\n",
    "We can use a different function to obtain equal-size bins:"
   ]
  },
  {
   "cell_type": "code",
   "execution_count": 4,
   "metadata": {
    "pycharm": {
     "name": "#%%\n"
    }
   },
   "outputs": [
    {
     "name": "stdout",
     "output_type": "stream",
     "text": [
      "(0.339, 0.872]    36\n",
      "(1.738, 2.46]     36\n",
      "(2.46, 2.98]      36\n",
      "(0.872, 1.738]    35\n",
      "(2.98, 5.08]      35\n",
      "Name: flavanoids, dtype: int64\n"
     ]
    }
   ],
   "source": [
    "flavanoids = pd.qcut(X['flavanoids'], 5)\n",
    "print(flavanoids.value_counts())"
   ]
  },
  {
   "cell_type": "markdown",
   "metadata": {
    "pycharm": {
     "name": "#%% md\n"
    }
   },
   "source": [
    "## Categorical to numeric"
   ]
  },
  {
   "cell_type": "markdown",
   "metadata": {
    "pycharm": {
     "name": "#%% md\n"
    }
   },
   "source": [
    "Let's create a colour variable:"
   ]
  },
  {
   "cell_type": "code",
   "execution_count": 14,
   "metadata": {
    "pycharm": {
     "name": "#%%\n"
    }
   },
   "outputs": [
    {
     "name": "stdout",
     "output_type": "stream",
     "text": [
      "['yellow' 'red' 'red' 'green' 'blue' 'red' 'yellow' 'blue' 'red' 'yellow'\n",
      " 'red' 'yellow' 'red' 'blue' 'red' 'red' 'red' 'red' 'red' 'red' 'green'\n",
      " 'red' 'green' 'yellow' 'yellow' 'red' 'red' 'red' 'yellow' 'blue' 'red'\n",
      " 'green' 'yellow' 'red' 'yellow' 'yellow' 'yellow' 'green' 'yellow'\n",
      " 'yellow' 'red' 'red' 'red' 'yellow' 'blue' 'green' 'red' 'green' 'red'\n",
      " 'green' 'green' 'red' 'yellow' 'red' 'yellow' 'red' 'red' 'red' 'red'\n",
      " 'red' 'red' 'red' 'blue' 'red' 'green' 'green' 'yellow' 'yellow' 'red'\n",
      " 'red' 'yellow' 'red' 'yellow' 'red' 'red' 'yellow' 'red' 'red' 'red'\n",
      " 'yellow' 'yellow' 'red' 'blue' 'yellow' 'red' 'green' 'red' 'red' 'red'\n",
      " 'red' 'yellow' 'red' 'blue' 'yellow' 'red' 'red' 'red' 'red' 'blue'\n",
      " 'yellow']\n"
     ]
    }
   ],
   "source": [
    "colours = ['red', 'blue' , 'green', 'yellow']\n",
    "colour_array = np.random.choice(colours, 100, p=[0.5, 0.1, 0.1, 0.3])\n",
    "print(colour_array)"
   ]
  },
  {
   "cell_type": "markdown",
   "metadata": {
    "pycharm": {
     "name": "#%% md\n"
    }
   },
   "source": [
    "We can easily obtain dummies by using the following code:"
   ]
  },
  {
   "cell_type": "code",
   "execution_count": 18,
   "metadata": {
    "pycharm": {
     "name": "#%%\n"
    }
   },
   "outputs": [
    {
     "data": {
      "text/plain": "   color_green  color_red  color_yellow\n0            0          0             1\n1            0          1             0\n2            0          1             0\n3            1          0             0\n4            0          0             0",
      "text/html": "<div>\n<style scoped>\n    .dataframe tbody tr th:only-of-type {\n        vertical-align: middle;\n    }\n\n    .dataframe tbody tr th {\n        vertical-align: top;\n    }\n\n    .dataframe thead th {\n        text-align: right;\n    }\n</style>\n<table border=\"1\" class=\"dataframe\">\n  <thead>\n    <tr style=\"text-align: right;\">\n      <th></th>\n      <th>color_green</th>\n      <th>color_red</th>\n      <th>color_yellow</th>\n    </tr>\n  </thead>\n  <tbody>\n    <tr>\n      <th>0</th>\n      <td>0</td>\n      <td>0</td>\n      <td>1</td>\n    </tr>\n    <tr>\n      <th>1</th>\n      <td>0</td>\n      <td>1</td>\n      <td>0</td>\n    </tr>\n    <tr>\n      <th>2</th>\n      <td>0</td>\n      <td>1</td>\n      <td>0</td>\n    </tr>\n    <tr>\n      <th>3</th>\n      <td>1</td>\n      <td>0</td>\n      <td>0</td>\n    </tr>\n    <tr>\n      <th>4</th>\n      <td>0</td>\n      <td>0</td>\n      <td>0</td>\n    </tr>\n  </tbody>\n</table>\n</div>"
     },
     "execution_count": 18,
     "metadata": {},
     "output_type": "execute_result"
    }
   ],
   "source": [
    "dummy_colours = pd.get_dummies(colour_array, prefix='color', drop_first=True)\n",
    "dummy_colours.head()"
   ]
  },
  {
   "cell_type": "markdown",
   "metadata": {
    "pycharm": {
     "name": "#%% md\n"
    }
   },
   "source": [
    "Notice that blue is not included? All encoding is relative to the presence of blue. This is due to the ```drop_first``` parameter."
   ]
  },
  {
   "cell_type": "markdown",
   "metadata": {
    "pycharm": {
     "name": "#%% md\n"
    }
   },
   "source": [
    "We can also use scikit-learn:"
   ]
  },
  {
   "cell_type": "code",
   "execution_count": null,
   "metadata": {
    "pycharm": {
     "name": "#%%\n"
    }
   },
   "outputs": [],
   "source": [
    "from sklearn.preprocessing import LabelEncoder, OneHotEncoder\n",
    "\n",
    "# We can use a label encoder to transform categories into numbers\n",
    "enc = LabelEncoder()\n",
    "colour_label = enc.fit_transform(colour_array)\n",
    "print(colour_label)"
   ]
  },
  {
   "cell_type": "markdown",
   "metadata": {
    "pycharm": {
     "name": "#%% md\n"
    }
   },
   "source": [
    "You will notice that every colour now has its own integer value."
   ]
  }
 ],
 "metadata": {
  "kernelspec": {
   "display_name": "Python 3",
   "language": "python",
   "name": "python3"
  },
  "language_info": {
   "codemirror_mode": {
    "name": "ipython",
    "version": 3
   },
   "file_extension": ".py",
   "mimetype": "text/x-python",
   "name": "python",
   "nbconvert_exporter": "python",
   "pygments_lexer": "ipython3",
   "version": "3.9.2"
  }
 },
 "nbformat": 4,
 "nbformat_minor": 2
}