{
 "cells": [
  {
   "cell_type": "markdown",
   "metadata": {
    "pycharm": {
     "name": "#%% md\n"
    }
   },
   "source": [
    "# Calculating error measures"
   ]
  },
  {
   "cell_type": "markdown",
   "metadata": {
    "nbgrader": {
     "grade": false,
     "grade_id": "cell-3dbe4807df6a30df",
     "locked": true,
     "solution": false
    },
    "pycharm": {
     "name": "#%% md\n"
    }
   },
   "source": [
    "We will use some data points to illustrate how quickly our initial thoughts on the models we created may change.\n",
    "\n",
    "You need to come up with linear equations, which you can finetune using the evaluation procedure below."
   ]
  },
  {
   "cell_type": "code",
   "execution_count": 3,
   "metadata": {
    "nbgrader": {
     "grade": false,
     "grade_id": "cell-98dc57d6332624a5",
     "locked": true,
     "solution": false
    },
    "pycharm": {
     "name": "#%%\n"
    }
   },
   "outputs": [
    {
     "data": {
      "text/plain": "<Figure size 432x288 with 1 Axes>",
      "image/png": "[encoded data removed]"
     },
     "metadata": {
      "needs_background": "light"
     },
     "output_type": "display_data"
    }
   ],
   "source": [
    "##### added line to ensure plots are showing\n",
    "# %matplotlib inline\n",
    "#####\n",
    "\n",
    "import numpy as np\n",
    "import matplotlib.pyplot as plt\n",
    "\n",
    "# Use this code if you need large figures (on high-resolution screens)\n",
    "# plt.rcParams[\"figure.dpi\"] = 144\n",
    "\n",
    "# this array is used for plotting\n",
    "axis = np.array(range(0,11))\n",
    "\n",
    "# Now we have extra datapoints with two extra lists\n",
    "x_values = [3,8,3,4,1,7,5,3,8,2,10,8,10,10,9,8,10,6,7,6]\n",
    "y_values = [7,3,1,6,10,10,3,6,5,10,10,9,8,2,1,3,1,1,2,2]\n",
    "\n",
    "# Make a scatter plot and overlay with our equations\n",
    "plt.scatter(x_values,y_values,c='blue')\n",
    "\n",
    "# Set the axes limits\n",
    "plt.axis([0, 11, 0, 11])\n",
    "plt.show()\n",
    "\n"
   ]
  },
  {
   "cell_type": "markdown",
   "metadata": {
    "nbgrader": {
     "grade": false,
     "grade_id": "cell-705580d4c27d343f",
     "locked": true,
     "solution": false
    },
    "pycharm": {
     "name": "#%% md\n"
    }
   },
   "source": [
    "Fill in the three different $a$ and $b$ values for your linear equations of the form $y= ax+b$:"
   ]
  },
  {
   "cell_type": "code",
   "execution_count": 13,
   "metadata": {
    "collapsed": true,
    "pycharm": {
     "name": "#%%\n"
    }
   },
   "outputs": [],
   "source": [
    "a_values = [0.1,0.8,3]\n",
    "b_values = [2,1.2,0]"
   ]
  },
  {
   "cell_type": "markdown",
   "metadata": {
    "nbgrader": {
     "grade": false,
     "grade_id": "cell-4944954cd0708732",
     "locked": true,
     "solution": false
    },
    "pycharm": {
     "name": "#%% md\n"
    }
   },
   "source": [
    "Plot your solutions on the graph:"
   ]
  },
  {
   "cell_type": "code",
   "execution_count": 14,
   "metadata": {
    "nbgrader": {
     "grade": false,
     "grade_id": "cell-bfdc1b13d4ed7c85",
     "locked": true,
     "solution": false
    },
    "pycharm": {
     "name": "#%%\n"
    }
   },
   "outputs": [
    {
     "data": {
      "text/plain": "<Figure size 432x288 with 1 Axes>",
      "image/png": "[encoded data removed]"
     },
     "metadata": {
      "needs_background": "light"
     },
     "output_type": "display_data"
    }
   ],
   "source": [
    "# change the colour of the scatter plot\n",
    "plt.scatter(x_values,y_values,c='orange')\n",
    "\n",
    "# plot linear equations in different colours.\n",
    "plt.plot(axis,axis*a_values[0]+b_values[0],'b-')\n",
    "plt.plot(axis,axis*a_values[1]+b_values[1],'r-')\n",
    "plt.plot(axis,axis*a_values[2]+b_values[2],'g-')\n",
    "\n",
    "# Set the axes limits\n",
    "plt.axis([0, 11, 0, 11])\n",
    "plt.show()"
   ]
  },
  {
   "cell_type": "markdown",
   "metadata": {
    "nbgrader": {
     "grade": false,
     "grade_id": "cell-6bd91df09b710107",
     "locked": true,
     "solution": false
    },
    "pycharm": {
     "name": "#%% md\n"
    }
   },
   "source": [
    "Now, evaluate your predictions based on the equations you have come up with:"
   ]
  },
  {
   "cell_type": "code",
   "execution_count": 16,
   "outputs": [
    {
     "name": "stdout",
     "output_type": "stream",
     "text": [
      "Model 0 MAPE : 74.45992063492064\n",
      "Model 0 MAE : 3.2699999999999996\n",
      "Model 0 RMSE : 4.222558466143483\n",
      "\n",
      "\n",
      "Model 1 MAPE : 194.48968253968255\n",
      "Model 1 MAE : 4.12\n",
      "Model 1 RMSE : 4.735820942561068\n",
      "\n",
      "\n",
      "Model 2 MAPE : 718.5119047619048\n",
      "Model 2 MAE : 15.3\n",
      "Model 2 RMSE : 17.323394586512194\n",
      "\n",
      "\n"
     ]
    }
   ],
   "source": [
    "from sklearn.metrics import mean_absolute_error as mae  \n",
    "from math import sqrt\n",
    "from sklearn.metrics import mean_squared_error as mse\n",
    "\n",
    "for i in range(0,len(a_values)):\n",
    "    a = a_values[i]\n",
    "    b = b_values[i]\n",
    "\n",
    "    # initialise an array for predicted values\n",
    "    y_hat = []\n",
    "    for x in x_values:\n",
    "        y_hat.append(x*a+b)\n",
    "\n",
    "    # initialise an array for absolute percentage errors.\n",
    "    pe = []\n",
    "    for j in range(0,len(y_values)):\n",
    "        # Percentage Error\n",
    "        pe_j = (y_values[j]-y_hat[j])/y_values[j]*100\n",
    "        pe.append(abs(pe_j))    \n",
    "    mape = np.average(pe)\n",
    "\n",
    "    print('Model '+str(i)+' MAPE : '+ str(mape))\n",
    "    print('Model '+str(i)+' MAE : ' + str(mae(y_values,y_hat)))\n",
    "    print('Model '+str(i)+' RMSE : '+ str(sqrt(mse(y_values,y_hat))))\n",
    "    print('\\n')"
   ],
   "metadata": {
    "collapsed": false,
    "pycharm": {
     "name": "#%%\n"
    }
   }
  },
  {
   "cell_type": "markdown",
   "source": [
    "According to formulae introduced in the lecture, can you code by yourself for metrics: ME (mean error, the mean of the error) and MPE (mean percentage error, the mean of percentaged error). They are almost there."
   ],
   "metadata": {
    "collapsed": false,
    "pycharm": {
     "name": "#%% md\n"
    }
   }
  },
  {
   "cell_type": "code",
   "execution_count": 1,
   "outputs": [],
   "source": [
    "# Here begins your code."
   ],
   "metadata": {
    "collapsed": false,
    "pycharm": {
     "name": "#%%\n"
    }
   }
  },
  {
   "cell_type": "code",
   "execution_count": null,
   "outputs": [],
   "source": [],
   "metadata": {
    "collapsed": false,
    "pycharm": {
     "name": "#%%\n"
    }
   }
  }
 ],
 "metadata": {
  "celltoolbar": "Create Assignment",
  "kernelspec": {
   "display_name": "Python 3",
   "language": "python",
   "name": "python3"
  },
  "language_info": {
   "codemirror_mode": {
    "name": "ipython",
    "version": 3
   },
   "file_extension": ".py",
   "mimetype": "text/x-python",
   "name": "python",
   "nbconvert_exporter": "python",
   "pygments_lexer": "ipython3",
   "version": "3.6.3"
  }
 },
 "nbformat": 4,
 "nbformat_minor": 2
}