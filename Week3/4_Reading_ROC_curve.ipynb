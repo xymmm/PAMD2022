{
 "cells": [
  {
   "cell_type": "markdown",
   "metadata": {
    "pycharm": {
     "name": "#%% md\n"
    }
   },
   "source": [
    "# The ROC curve"
   ]
  },
  {
   "cell_type": "markdown",
   "metadata": {
    "nbgrader": {
     "grade": false,
     "locked": true,
     "solution": false
    },
    "pycharm": {
     "name": "#%% md\n"
    }
   },
   "source": [
    "First, let's build a simple linear model for illustration purposes (for classification we use logistic regression)."
   ]
  },
  {
   "cell_type": "code",
   "execution_count": 1,
   "metadata": {
    "collapsed": true,
    "nbgrader": {
     "grade": false,
     "locked": false,
     "solution": false
    },
    "pycharm": {
     "name": "#%%\n"
    }
   },
   "outputs": [
    {
     "name": "stdout",
     "output_type": "stream",
     "text": [
      "The length of X: 569\n"
     ]
    }
   ],
   "source": [
    "##### added line to ensure plots are showing\n",
    "%matplotlib inline\n",
    "#####\n",
    "\n",
    "import matplotlib.pyplot as plt\n",
    "import sklearn.datasets as datasets\n",
    "\n",
    "from sklearn.metrics import auc\n",
    "from sklearn.metrics import recall_score as recall\n",
    "from sklearn.metrics import precision_score as precision\n",
    "from sklearn.metrics import f1_score as f1\n",
    "from sklearn.metrics import precision_recall_curve as pc_curve\n",
    "from sklearn.metrics import roc_curve as roc\n",
    "from sklearn.metrics import confusion_matrix as cm\n",
    "\n",
    "from sklearn.tree import DecisionTreeClassifier\n",
    "\n",
    "dataset = datasets.load_breast_cancer()\n",
    "X = dataset['data']\n",
    "y = dataset['target']\n",
    "print('The length of X: '+str(len(X)))\n",
    "\n",
    "# create a DecisionTreeClassifier object\n",
    "classification = DecisionTreeClassifier()\n",
    "# select 300 samples, and then fit data\n",
    "classification.fit(X[:300],y[:300])\n",
    "\n",
    "# calculate predicted values of 300 x values\n",
    "prediction = classification.predict(X[300:])\n",
    "\n",
    "# This is training a model with 300 selected samples.\n",
    "# then we use remaining 269 samples to check if our model is good.\n"
   ]
  },
  {
   "cell_type": "markdown",
   "metadata": {
    "nbgrader": {
     "grade": false,
     "locked": true,
     "solution": false
    },
    "pycharm": {
     "name": "#%% md\n"
    }
   },
   "source": [
    "Next, we obtain some evaluation metrics, with built-in functions."
   ]
  },
  {
   "cell_type": "code",
   "execution_count": 2,
   "metadata": {
    "nbgrader": {
     "grade": false,
     "locked": false,
     "solution": false
    },
    "pycharm": {
     "name": "#%%\n"
    }
   },
   "outputs": [
    {
     "name": "stdout",
     "output_type": "stream",
     "text": [
      "Recall: 0.8768472906403941\n",
      "Precision: 0.9888888888888889\n",
      "F1 score: 0.9295039164490861\n",
      "Confusion matrix: \n",
      "[[ 64   2]\n",
      " [ 25 178]]\n"
     ]
    }
   ],
   "source": [
    "print(\"Recall: \"+str(recall(y[300:],prediction)))\n",
    "print(\"Precision: \"+str(precision(y[300:],prediction)))\n",
    "print(\"F1 score: \"+str(f1(y[300:],prediction)))\n",
    "print(\"Confusion matrix: \\n\"+str(cm(y[300:],prediction)))"
   ]
  },
  {
   "cell_type": "markdown",
   "metadata": {
    "pycharm": {
     "name": "#%% md\n"
    }
   },
   "source": [
    "## ROC curve"
   ]
  },
  {
   "cell_type": "markdown",
   "metadata": {
    "nbgrader": {
     "grade": false,
     "locked": true,
     "solution": false
    },
    "pycharm": {
     "name": "#%% md\n"
    }
   },
   "source": [
    "Now, let's build the ROC curve:"
   ]
  },
  {
   "cell_type": "code",
   "execution_count": 13,
   "metadata": {
    "nbgrader": {
     "grade": false,
     "locked": true,
     "solution": false
    },
    "pycharm": {
     "name": "#%%\n"
    }
   },
   "outputs": [
    {
     "name": "stdout",
     "output_type": "stream",
     "text": [
      "[0 1]\n"
     ]
    },
    {
     "data": {
      "text/plain": "<Figure size 432x288 with 1 Axes>",
      "image/png": "[encoded data removed]"
     },
     "metadata": {
      "needs_background": "light"
     },
     "output_type": "display_data"
    }
   ],
   "source": [
    "# Compute precision-recall pairs for different probability thresholds.\n",
    "#\n",
    "# The precision is the ratio tp / (tp + fp) where tp is the number of true positives and fp the number of false positives.\n",
    "# The precision is intuitively the ability of the classifier not to label as positive a sample that is negative.\n",
    "\n",
    "# The recall is the ratio tp / (tp + fn) where tp is the number of true positives and fn the number of false negatives. The recall is intuitively the ability of the classifier to find all the positive samples.\n",
    "\n",
    "# The last precision and recall values are 1 and 0 respectively and do not have a corresponding threshold.\n",
    "# This ensures that the graph starts on the y axis.\n",
    "\n",
    "# The first precision and recall values are precision=class balance and recall=1.0 which corresponds to a classifier that always predicts the positive class.\n",
    "precision, recall, _ = pc_curve(y[300:],prediction)\n",
    "# _ should return a threshold correspondingly, but we will not use it.\n",
    "# _ is a name, you can ignore it.\n",
    "\n",
    "\n",
    "# Compute Receiver operating characteristic (ROC)\n",
    "fpr, tpr, thresholds = roc(y[300:],prediction)\n",
    "\n",
    "\n",
    "# Compute Area Under the Curve (AUC) using the trapezoidal rule.\n",
    "# This is a general function, given points on a curve. For computing the area under the ROC-curve, see roc_auc_score.\n",
    "# For an alternative way to summarize a precision-recall curve, see average_precision_score.\n",
    "roc_auc = auc(fpr,tpr)\n",
    "\n",
    "\n",
    "plt.xlabel('False Positive Rate')\n",
    "plt.ylabel('True Positive Rate')\n",
    "plt.plot(fpr, tpr, color='darkorange',\n",
    "         lw=2, label='ROC curve (area = %0.2f)' % roc_auc)\n",
    "plt.plot([0, 1], [0, 1], color='navy', lw=2, linestyle='--')\n",
    "plt.title('Receiver operating characteristics curve')\n",
    "plt.legend(loc=\"lower right\")\n",
    "plt.show()"
   ]
  }
 ],
 "metadata": {
  "kernelspec": {
   "display_name": "Python 3",
   "language": "python",
   "name": "python3"
  },
  "language_info": {
   "codemirror_mode": {
    "name": "ipython",
    "version": 3
   },
   "file_extension": ".py",
   "mimetype": "text/x-python",
   "name": "python",
   "nbconvert_exporter": "python",
   "pygments_lexer": "ipython3",
   "version": "3.6.3"
  }
 },
 "nbformat": 4,
 "nbformat_minor": 2
}