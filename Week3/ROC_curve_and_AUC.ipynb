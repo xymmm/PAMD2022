{
 "cells": [
  {
   "cell_type": "markdown",
   "metadata": {},
   "source": [
    "# The ROC curve and the AUC"
   ]
  },
  {
   "cell_type": "markdown",
   "metadata": {
    "nbgrader": {
     "grade": false,
     "grade_id": "cell-1ec37a27eae7d286",
     "locked": true,
     "solution": false
    }
   },
   "source": [
    "Let's use the same three datasets we had earlier, and come up with our own code for constructing the ROC curve, i.e., calculate the confusion matrix for various thresholds.\n",
    "\n",
    "While this is out of scope for now, note that I now use linear regression to obtain scores, rather than nominal outcomes you get from applying logistic regression. It is useful to do the latter as well, and save them for comparison's sake. The difference will become apparent as you progress through this course.\n",
    "\n",
    "So, first, we have the data to obtain the actual outcomes and the predicted outcome:"
   ]
  },
  {
   "cell_type": "markdown",
   "metadata": {},
   "source": [
    "## The data and models"
   ]
  },
  {
   "cell_type": "code",
   "execution_count": 1,
   "metadata": {
    "collapsed": true,
    "nbgrader": {
     "grade": false,
     "grade_id": "cell-310c3f4f86549f91",
     "locked": true,
     "solution": false
    }
   },
   "outputs": [],
   "source": [
    "import matplotlib.pyplot as plt\n",
    "import numpy as np\n",
    "from sklearn.datasets import make_classification\n",
    "from sklearn.metrics import roc_curve as roc\n",
    "from sklearn.metrics import auc\n",
    "\n",
    "from sklearn.linear_model import LinearRegression, LogisticRegression\n",
    "\n",
    "\n",
    "dat1 = make_classification(n_samples=100, \n",
    "                    n_features=3, \n",
    "                    n_informative=3, \n",
    "                    n_redundant=0, \n",
    "                    n_repeated=0, \n",
    "                    n_classes=2, \n",
    "                    n_clusters_per_class=2, random_state=8)\n",
    "dat2 = make_classification(n_samples=100, \n",
    "                    n_features=3, \n",
    "                    n_informative=3, \n",
    "                    n_redundant=0, \n",
    "                    n_repeated=0, \n",
    "                    n_classes=2, \n",
    "                    n_clusters_per_class=2, random_state=9)\n",
    "dat3 = make_classification(n_samples=100, \n",
    "                    n_features=3, \n",
    "                    n_informative=3, \n",
    "                    n_redundant=0, \n",
    "                    n_repeated=0, \n",
    "                    n_classes=2, \n",
    "                    n_clusters_per_class=2, random_state=6)\n",
    "\n",
    "# The continuous predictions from the linear regression\n",
    "lin_regr = LinearRegression(normalize=True)\n",
    "lin_regr.fit(dat1[0], dat1[1])\n",
    "output1 = lin_regr.predict(dat1[0])\n",
    "lin_regr.fit(dat2[0], dat2[1])\n",
    "output2 = lin_regr.predict(dat2[0])\n",
    "lin_regr.fit(dat2[0], dat2[1])\n",
    "output3 = lin_regr.predict(dat3[0])\n",
    "\n",
    "actuals = [dat1[1],dat2[1],dat3[1]]\n",
    "predicted = [output1,output2,output3]\n",
    "\n",
    "# The discrete predictions from the logistic regression\n",
    "log_reg = LogisticRegression(solver='liblinear')\n",
    "log_reg.fit(dat1[0],dat1[1])\n",
    "outputD1 = log_reg.predict(dat1[0])\n",
    "log_reg.fit(dat2[0],dat2[1])\n",
    "outputD2 = log_reg.predict(dat2[0])\n",
    "log_reg.fit(dat3[0],dat3[1])\n",
    "outputD3 = log_reg.predict(dat3[0])\n",
    "data = [outputD1,outputD2,outputD3]"
   ]
  },
  {
   "cell_type": "markdown",
   "metadata": {},
   "source": [
    "## The metrics"
   ]
  },
  {
   "cell_type": "markdown",
   "metadata": {
    "nbgrader": {
     "grade": false,
     "grade_id": "cell-9b7207d5dc531a4a",
     "locked": true,
     "solution": false
    }
   },
   "source": [
    "We might find it interesting to use the methods from earlier as well:"
   ]
  },
  {
   "cell_type": "code",
   "execution_count": 2,
   "metadata": {
    "collapsed": true,
    "nbgrader": {
     "grade": false,
     "grade_id": "cell-5d321fdff2179b30",
     "locked": true,
     "solution": false
    }
   },
   "outputs": [],
   "source": [
    "def calculate_accuracy(TP,FP,FN,TN):\n",
    "    return (TP+TN)/(TP+FP+FN+TN)\n",
    "    \n",
    "def calculate_recall(TP,FP,FN,TN):\n",
    "    return (TP)/(TP+FN)    \n",
    "    \n",
    "def calculate_specificity(TP,FP,FN,TN):   \n",
    "    return (TN)/(TN+FP)  \n",
    "\n",
    "def calculate_precision(TP,FP,FN,TN):   \n",
    "    return (TP)/(TP+FP)  \n",
    "\n",
    "def calculate_fallout(TP,FP,FN,TN):   \n",
    "    return (FP)/(FP+TN)  \n",
    "\n",
    "def calculate_fscore(TP,FP,FN,TN):   \n",
    "    return 2/((1/calculate_recall(TP,FP,FN,TN))+(1/calculate_precision(TP,FP,FN,TN))) \n",
    "\n",
    "def calculate_cm(predicted, actual):\n",
    "    TP = 0\n",
    "    FP = 0\n",
    "    FN = 0\n",
    "    TN = 0\n",
    "    for i in range(0,len(predicted)):\n",
    "        if predicted[i] == 1:\n",
    "            if predicted[i] == actual[i]:\n",
    "                TP+=1\n",
    "            else:\n",
    "                FP+=1\n",
    "        else:\n",
    "            if predicted[i] == actual[i]:\n",
    "                TN+=1\n",
    "            else:\n",
    "                FN+=1\n",
    "    return TP,FP,FN,TN"
   ]
  },
  {
   "cell_type": "markdown",
   "metadata": {},
   "source": [
    "## Creating the thresholds"
   ]
  },
  {
   "cell_type": "markdown",
   "metadata": {
    "nbgrader": {
     "grade": false,
     "grade_id": "cell-35d334dced740d6e",
     "locked": true,
     "solution": false
    }
   },
   "source": [
    "We also need the thresholds for our curve. I will illustrate this quickly for dataset 1. Let's just use all values (scores) we observed in the dataset:"
   ]
  },
  {
   "cell_type": "code",
   "execution_count": 3,
   "metadata": {
    "collapsed": true,
    "nbgrader": {
     "grade": false,
     "grade_id": "cell-46cb4ed619acf264",
     "locked": true,
     "solution": false
    }
   },
   "outputs": [],
   "source": [
    "# The set operation makes sure every value is unique. For convenience, it is immediately converted into a list.\n",
    "thresholds = set(predicted[0])\n",
    "thresholds = list(thresholds)        "
   ]
  },
  {
   "cell_type": "markdown",
   "metadata": {},
   "source": [
    "## Creating the ROC curve"
   ]
  },
  {
   "cell_type": "markdown",
   "metadata": {
    "nbgrader": {
     "grade": false,
     "grade_id": "cell-39bacf8b4a628087",
     "locked": true,
     "solution": false
    }
   },
   "source": [
    "Now let's write a function for calculating the confusion matrix at a certain threshold:"
   ]
  },
  {
   "cell_type": "code",
   "execution_count": 4,
   "metadata": {
    "collapsed": true,
    "nbgrader": {
     "grade": false,
     "grade_id": "calculate_at_threshold",
     "locked": false,
     "schema_version": 1,
     "solution": false
    }
   },
   "outputs": [],
   "source": [
    "def calculate_at_threshold(threshold, actual, predicted):\n",
    "    x_coord = 0\n",
    "    y_coord = 0    \n",
    "\n",
    "    # Keep track of the new prediction based on the given threshold in a new list\n",
    "    new_pred = []\n",
    "    for i in predicted:\n",
    "        # If a prediction is above a certain threshold, store as positive prediction\n",
    "        if i >= threshold:\n",
    "            new_pred.append(1)\n",
    "        else:\n",
    "            new_pred.append(0)\n",
    "    \n",
    "    # Next, calculate the confusion matrix\n",
    "    TP, FP, FN, TN = calculate_cm(new_pred, actual)\n",
    "    \n",
    "    # Use the confusion matrix to calculate the fallout (x-axis) and recall (y-axis)\n",
    "    x_coord = calculate_fallout(TP,FP,FN,TN) \n",
    "    y_coord = calculate_recall(TP,FP,FN,TN)\n",
    "\n",
    "    \n",
    "    return x_coord, y_coord "
   ]
  },
  {
   "cell_type": "markdown",
   "metadata": {},
   "source": [
    "## Putting it all together"
   ]
  },
  {
   "cell_type": "markdown",
   "metadata": {},
   "source": [
    "Now, let's bring it all together for the three datasets:"
   ]
  },
  {
   "cell_type": "code",
   "execution_count": 6,
   "metadata": {},
   "outputs": [
    {
     "name": "stdout",
     "output_type": "stream",
     "text": [
      "Dataset 0\n",
      "\tT\tF\n",
      "T\t37\t18\n",
      "F\t14\t31\n",
      "Accuracy 0.68\n",
      "Recall 0.7254901960784313\n",
      "Precision 0.6727272727272727\n",
      "Specificity 0.6326530612244898\n",
      "Fall-out 0.3673469387755102\n",
      "F1-score 0.6981132075471698\n"
     ]
    },
    {
     "data": {
      "image/png": "[encoded data removed]",
      "text/plain": [
       "<Figure size 432x288 with 1 Axes>"
      ]
     },
     "metadata": {},
     "output_type": "display_data"
    },
    {
     "data": {
      "image/png": "[encoded data removed]",
      "text/plain": [
       "<Figure size 432x288 with 1 Axes>"
      ]
     },
     "metadata": {},
     "output_type": "display_data"
    },
    {
     "name": "stdout",
     "output_type": "stream",
     "text": [
      "Dataset 1\n",
      "\tT\tF\n",
      "T\t42\t6\n",
      "F\t8\t44\n",
      "Accuracy 0.86\n",
      "Recall 0.84\n",
      "Precision 0.875\n",
      "Specificity 0.88\n",
      "Fall-out 0.12\n",
      "F1-score 0.8571428571428572\n"
     ]
    },
    {
     "data": {
      "image/png": "[encoded data removed]",
      "text/plain": [
       "<Figure size 432x288 with 1 Axes>"
      ]
     },
     "metadata": {},
     "output_type": "display_data"
    },
    {
     "data": {
      "image/png": "[encoded data removed]",
      "text/plain": [
       "<Figure size 432x288 with 1 Axes>"
      ]
     },
     "metadata": {},
     "output_type": "display_data"
    },
    {
     "name": "stdout",
     "output_type": "stream",
     "text": [
      "Dataset 2\n",
      "\tT\tF\n",
      "T\t45\t5\n",
      "F\t4\t46\n",
      "Accuracy 0.91\n",
      "Recall 0.9183673469387755\n",
      "Precision 0.9\n",
      "Specificity 0.9019607843137255\n",
      "Fall-out 0.09803921568627451\n",
      "F1-score 0.9090909090909091\n"
     ]
    },
    {
     "data": {
      "image/png": "[encoded data removed]",
      "text/plain": [
       "<Figure size 432x288 with 1 Axes>"
      ]
     },
     "metadata": {},
     "output_type": "display_data"
    },
    {
     "data": {
      "image/png": "[encoded data removed]",
      "text/plain": [
       "<Figure size 432x288 with 1 Axes>"
      ]
     },
     "metadata": {},
     "output_type": "display_data"
    }
   ],
   "source": [
    "for i in range(0,3):\n",
    "    \n",
    "    # Let's calculate the standard metrics for the logistic regression output\n",
    "    print('Dataset '+str(i))\n",
    "    TP,FP,FN,TN = calculate_cm(data[i], actuals[i])\n",
    "    print('\\tT\\tF')\n",
    "    print('T\\t'+str(TP)+'\\t'+str(FP))\n",
    "    print('F\\t'+str(FN)+'\\t'+str(TN))\n",
    "        \n",
    "    print('Accuracy '+str(calculate_accuracy(TP,FP,FN,TN)))\n",
    "    print('Recall '+str(calculate_recall(TP,FP,FN,TN)))\n",
    "    print('Precision '+str(calculate_precision(TP,FP,FN,TN)))\n",
    "    print('Specificity '+str(calculate_specificity(TP,FP,FN,TN)))\n",
    "    print('Fall-out '+str(calculate_fallout(TP,FP,FN,TN)))\n",
    "    print('F1-score '+str(calculate_fscore(TP,FP,FN,TN)))\n",
    "        \n",
    "    # Same as before\n",
    "    thresholds = set(predicted[i])\n",
    "    thresholds = list(thresholds)\n",
    "        \n",
    "    # Find all the coordinates (false and true positive rate on the x and y axis respectively) and save them in fpr and tpr\n",
    "    # For all thresholds\n",
    "    fpr = []\n",
    "    tpr = []\n",
    "    for threshold in thresholds:   \n",
    "        if threshold >= 0 and threshold<=1:\n",
    "            fpr_t, tpr_t = calculate_at_threshold(threshold,actuals[i],predicted[i])\n",
    "            fpr.append(fpr_t)\n",
    "            tpr.append(tpr_t)\n",
    "    fpr = np.asarray(fpr)\n",
    "    tpr = np.asarray(tpr)\n",
    "    \n",
    "    # Make sure (0,0) and (1,1) are included\n",
    "    fpr = np.append(fpr,0)\n",
    "    tpr = np.append(tpr,0)\n",
    "    fpr = np.append(fpr,1)\n",
    "    tpr = np.append(tpr,1)\n",
    "    \n",
    "    # This function sorts all points in the false positive rate dimension\n",
    "    desc_score_indices = np.argsort(fpr)[::-1]\n",
    "    fpr = fpr[desc_score_indices]\n",
    "    tpr = tpr[desc_score_indices]\n",
    "\n",
    "    \n",
    "    # This function calculates the area under curve\n",
    "    roc_auc = auc(fpr,tpr)\n",
    "    \n",
    "    # Create the graph \n",
    "    plt.xlabel('False Positive Rate')\n",
    "    plt.ylabel('True Positive Rate')\n",
    "    plt.xlim(-0.05,1.05)\n",
    "    plt.ylim(-0.05,1.05)\n",
    "    plt.plot(fpr, tpr,\n",
    "             lw=2, label='ROC curve (area = %0.2f)' % roc_auc)\n",
    "    plt.title('ROC curve')\n",
    "    plt.legend(loc=\"lower right\")\n",
    "    plt.show()    \n",
    "        \n",
    "    # Or do it the easy way and calculate it with the roc() function\n",
    "    fpr, tpr, thresholds = roc(actuals[i],predicted[i])\n",
    "    roc_auc = auc(fpr,tpr)\n",
    "    \n",
    "    plt.xlabel('False Positive Rate')\n",
    "    plt.ylabel('True Positive Rate')\n",
    "    plt.plot(fpr, tpr,\n",
    "             lw=2, label='ROC curve (area = %0.2f)' % roc_auc)\n",
    "    plt.title('ROC curve')\n",
    "    plt.legend(loc=\"lower right\")\n",
    "    plt.show()"
   ]
  },
  {
   "cell_type": "markdown",
   "metadata": {
    "nbgrader": {
     "grade": false,
     "grade_id": "cell-678351329247aaa5",
     "locked": true,
     "solution": false
    }
   },
   "source": [
    "Notice how our ROC curve is not as squared as the one we obtain by using the roc() function. This is due to the fact that we don't connect the data points we generate at the different thresholds horizontally, but just draw a line between them. Hence the somewhat bizarre looking outcome. Also, the ordering along the y-axis should have been taken into account for the horizontal connection. Nevertheless, the AUC is still the same, so that's good news. In any case, you have programmed your own ROC curve. Well done!"
   ]
  }
 ],
 "metadata": {
  "kernelspec": {
   "display_name": "Python 3",
   "language": "python",
   "name": "python3"
  },
  "language_info": {
   "codemirror_mode": {
    "name": "ipython",
    "version": 3
   },
   "file_extension": ".py",
   "mimetype": "text/x-python",
   "name": "python",
   "nbconvert_exporter": "python",
   "pygments_lexer": "ipython3",
   "version": "3.6.3"
  }
 },
 "nbformat": 4,
 "nbformat_minor": 2
}
