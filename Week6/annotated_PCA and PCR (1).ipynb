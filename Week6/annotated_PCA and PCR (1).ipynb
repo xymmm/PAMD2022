{
 "cells": [
  {
   "cell_type": "markdown",
   "id": "previous-territory",
   "metadata": {},
   "source": [
    "# Principal component regression\n",
    "\n",
    "We remember that PCA can be used to reduce the number of predictors in our model. It can be used as a pre-processing step, or it can be used integrated into a regression model.\n",
    "\n",
    "Here we will construct a PCR model using our stock market data.\n",
    "\n",
    "We want to predict the one-month-ahead stock return using principal components extracted from a set of 67 stock characteristics."
   ]
  },
  {
   "cell_type": "code",
   "execution_count": 1,
   "id": "classified-macedonia",
   "metadata": {},
   "outputs": [
    {
     "name": "stdout",
     "output_type": "stream",
     "text": [
      "(3481, 67)\n"
     ]
    },
    {
     "data": {
      "text/html": [
       "<div>\n",
       "<style scoped>\n",
       "    .dataframe tbody tr th:only-of-type {\n",
       "        vertical-align: middle;\n",
       "    }\n",
       "\n",
       "    .dataframe tbody tr th {\n",
       "        vertical-align: top;\n",
       "    }\n",
       "\n",
       "    .dataframe thead th {\n",
       "        text-align: right;\n",
       "    }\n",
       "</style>\n",
       "<table border=\"1\" class=\"dataframe\">\n",
       "  <thead>\n",
       "    <tr style=\"text-align: right;\">\n",
       "      <th></th>\n",
       "      <th>RET</th>\n",
       "      <th>CAPEI</th>\n",
       "      <th>bm</th>\n",
       "      <th>evm</th>\n",
       "      <th>pe_op_basic</th>\n",
       "      <th>pe_exi</th>\n",
       "      <th>pe_inc</th>\n",
       "      <th>ps</th>\n",
       "      <th>pcf</th>\n",
       "      <th>dpr</th>\n",
       "      <th>...</th>\n",
       "      <th>rect_turn</th>\n",
       "      <th>pay_turn</th>\n",
       "      <th>sale_invcap</th>\n",
       "      <th>sale_equity</th>\n",
       "      <th>sale_nwc</th>\n",
       "      <th>rd_sale</th>\n",
       "      <th>adv_sale</th>\n",
       "      <th>staff_sale</th>\n",
       "      <th>accrual</th>\n",
       "      <th>ptb</th>\n",
       "    </tr>\n",
       "  </thead>\n",
       "  <tbody>\n",
       "    <tr>\n",
       "      <th>1</th>\n",
       "      <td>-0.088191</td>\n",
       "      <td>0.759381</td>\n",
       "      <td>-0.999558</td>\n",
       "      <td>0.696751</td>\n",
       "      <td>0.079703</td>\n",
       "      <td>0.007577</td>\n",
       "      <td>-0.021611</td>\n",
       "      <td>-0.992676</td>\n",
       "      <td>0.147590</td>\n",
       "      <td>-0.956408</td>\n",
       "      <td>...</td>\n",
       "      <td>-0.998073</td>\n",
       "      <td>-0.932030</td>\n",
       "      <td>-0.870970</td>\n",
       "      <td>-0.987193</td>\n",
       "      <td>0.648937</td>\n",
       "      <td>-0.999998</td>\n",
       "      <td>-0.998952</td>\n",
       "      <td>-1.0</td>\n",
       "      <td>0.551959</td>\n",
       "      <td>-0.910672</td>\n",
       "    </tr>\n",
       "    <tr>\n",
       "      <th>2</th>\n",
       "      <td>0.079484</td>\n",
       "      <td>0.757554</td>\n",
       "      <td>-0.999718</td>\n",
       "      <td>0.700319</td>\n",
       "      <td>-0.130809</td>\n",
       "      <td>-0.176777</td>\n",
       "      <td>-0.208520</td>\n",
       "      <td>-0.998950</td>\n",
       "      <td>-0.447588</td>\n",
       "      <td>-0.958060</td>\n",
       "      <td>...</td>\n",
       "      <td>-0.973573</td>\n",
       "      <td>-0.932865</td>\n",
       "      <td>-0.801126</td>\n",
       "      <td>-0.926463</td>\n",
       "      <td>0.649039</td>\n",
       "      <td>-1.000000</td>\n",
       "      <td>-0.995808</td>\n",
       "      <td>-1.0</td>\n",
       "      <td>0.549097</td>\n",
       "      <td>-0.916289</td>\n",
       "    </tr>\n",
       "    <tr>\n",
       "      <th>3</th>\n",
       "      <td>-0.015975</td>\n",
       "      <td>0.758821</td>\n",
       "      <td>-0.999205</td>\n",
       "      <td>0.696543</td>\n",
       "      <td>0.022296</td>\n",
       "      <td>-0.046242</td>\n",
       "      <td>-0.076176</td>\n",
       "      <td>-0.997872</td>\n",
       "      <td>0.103177</td>\n",
       "      <td>-0.959754</td>\n",
       "      <td>...</td>\n",
       "      <td>-0.998721</td>\n",
       "      <td>-0.936796</td>\n",
       "      <td>-0.863408</td>\n",
       "      <td>-0.980141</td>\n",
       "      <td>0.648930</td>\n",
       "      <td>-1.000000</td>\n",
       "      <td>-1.000000</td>\n",
       "      <td>-1.0</td>\n",
       "      <td>0.550775</td>\n",
       "      <td>-0.956189</td>\n",
       "    </tr>\n",
       "    <tr>\n",
       "      <th>4</th>\n",
       "      <td>0.051836</td>\n",
       "      <td>0.758721</td>\n",
       "      <td>-0.999590</td>\n",
       "      <td>0.696393</td>\n",
       "      <td>0.027334</td>\n",
       "      <td>-0.041370</td>\n",
       "      <td>-0.071237</td>\n",
       "      <td>-0.994922</td>\n",
       "      <td>0.107730</td>\n",
       "      <td>-0.952962</td>\n",
       "      <td>...</td>\n",
       "      <td>-0.998041</td>\n",
       "      <td>-0.928855</td>\n",
       "      <td>-0.869320</td>\n",
       "      <td>-0.984026</td>\n",
       "      <td>0.648950</td>\n",
       "      <td>-1.000000</td>\n",
       "      <td>-0.996647</td>\n",
       "      <td>-1.0</td>\n",
       "      <td>0.552304</td>\n",
       "      <td>-0.916565</td>\n",
       "    </tr>\n",
       "    <tr>\n",
       "      <th>5</th>\n",
       "      <td>0.095178</td>\n",
       "      <td>0.758717</td>\n",
       "      <td>-0.999612</td>\n",
       "      <td>0.696722</td>\n",
       "      <td>0.027037</td>\n",
       "      <td>-0.039758</td>\n",
       "      <td>-0.069602</td>\n",
       "      <td>-0.985473</td>\n",
       "      <td>0.108669</td>\n",
       "      <td>-0.957310</td>\n",
       "      <td>...</td>\n",
       "      <td>-0.998229</td>\n",
       "      <td>-0.931362</td>\n",
       "      <td>-0.882201</td>\n",
       "      <td>-0.994100</td>\n",
       "      <td>0.648897</td>\n",
       "      <td>-0.999702</td>\n",
       "      <td>-0.999371</td>\n",
       "      <td>-1.0</td>\n",
       "      <td>0.551169</td>\n",
       "      <td>-0.918346</td>\n",
       "    </tr>\n",
       "  </tbody>\n",
       "</table>\n",
       "<p>5 rows × 67 columns</p>\n",
       "</div>"
      ],
      "text/plain": [
       "        RET     CAPEI        bm       evm  pe_op_basic    pe_exi    pe_inc  \\\n",
       "1 -0.088191  0.759381 -0.999558  0.696751     0.079703  0.007577 -0.021611   \n",
       "2  0.079484  0.757554 -0.999718  0.700319    -0.130809 -0.176777 -0.208520   \n",
       "3 -0.015975  0.758821 -0.999205  0.696543     0.022296 -0.046242 -0.076176   \n",
       "4  0.051836  0.758721 -0.999590  0.696393     0.027334 -0.041370 -0.071237   \n",
       "5  0.095178  0.758717 -0.999612  0.696722     0.027037 -0.039758 -0.069602   \n",
       "\n",
       "         ps       pcf       dpr  ...  rect_turn  pay_turn  sale_invcap  \\\n",
       "1 -0.992676  0.147590 -0.956408  ...  -0.998073 -0.932030    -0.870970   \n",
       "2 -0.998950 -0.447588 -0.958060  ...  -0.973573 -0.932865    -0.801126   \n",
       "3 -0.997872  0.103177 -0.959754  ...  -0.998721 -0.936796    -0.863408   \n",
       "4 -0.994922  0.107730 -0.952962  ...  -0.998041 -0.928855    -0.869320   \n",
       "5 -0.985473  0.108669 -0.957310  ...  -0.998229 -0.931362    -0.882201   \n",
       "\n",
       "   sale_equity  sale_nwc   rd_sale  adv_sale  staff_sale   accrual       ptb  \n",
       "1    -0.987193  0.648937 -0.999998 -0.998952        -1.0  0.551959 -0.910672  \n",
       "2    -0.926463  0.649039 -1.000000 -0.995808        -1.0  0.549097 -0.916289  \n",
       "3    -0.980141  0.648930 -1.000000 -1.000000        -1.0  0.550775 -0.956189  \n",
       "4    -0.984026  0.648950 -1.000000 -0.996647        -1.0  0.552304 -0.916565  \n",
       "5    -0.994100  0.648897 -0.999702 -0.999371        -1.0  0.551169 -0.918346  \n",
       "\n",
       "[5 rows x 67 columns]"
      ]
     },
     "execution_count": 1,
     "metadata": {},
     "output_type": "execute_result"
    }
   ],
   "source": [
    "%matplotlib inline\n",
    "import pandas as pd\n",
    "from sklearn.model_selection import train_test_split\n",
    "import matplotlib.pyplot as plt\n",
    "import numpy as np\n",
    "from sklearn.decomposition import PCA\n",
    "from sklearn.preprocessing import scale \n",
    "from pandas.plotting import scatter_matrix\n",
    "import matplotlib.cm as cm\n",
    "from random import randint\n",
    "import seaborn as sns; sns.set()\n",
    "\n",
    "# load data\n",
    "data = pd.read_csv('stock_data.csv',index_col=0)\n",
    "y = data['RET']\n",
    "X = data.drop('RET',axis=1)\n",
    "\n",
    "print(data.shape)\n",
    "data.head()"
   ]
  },
  {
   "cell_type": "markdown",
   "id": "sealed-screen",
   "metadata": {},
   "source": [
    "## Run PCA\n",
    "\n",
    "PCA is fairly straightforward to run here by calling the function pca.fit on our dataset X.\n",
    "\n",
    "\n",
    "We remember that we want to select the number of components explaining around 70-80% of the variance in the dataset. \n",
    "\n",
    "For that purpose we create a scree plot. You will remember this from your clustering lectures - look for the bent/elbow from which on the additional explanation in variance reduces to insignificant levels."
   ]
  },
  {
   "cell_type": "code",
   "execution_count": 2,
   "id": "hindu-wealth",
   "metadata": {},
   "outputs": [
    {
     "data": {
      "image/png": "[encoded data removed]",
      "text/plain": [
       "<Figure size 432x288 with 1 Axes>"
      ]
     },
     "metadata": {},
     "output_type": "display_data"
    }
   ],
   "source": [
    "pca = PCA()\n",
    "pca.fit(X)\n",
    "\n",
    "# Scree plot\n",
    "plt.plot(range(1,len(pca.components_)+1),pca.explained_variance_ratio_,'-o')\n",
    "plt.xlabel('components')\n",
    "plt.ylabel('% explained variance')\n",
    "plt.title(\"Scree plot\")\n",
    "plt.show()"
   ]
  },
  {
   "cell_type": "markdown",
   "id": "thrown-water",
   "metadata": {},
   "source": [
    "In order to determine this \"bent\" more accurately we look at the percentage of explained variance instead of just looking at the plot."
   ]
  },
  {
   "cell_type": "code",
   "execution_count": 31,
   "id": "maritime-ocean",
   "metadata": {},
   "outputs": [
    {
     "data": {
      "text/plain": [
       "array([ 41.28,  55.32,  63.79,  70.45,  75.55,  80.17,  83.06,  85.52,\n",
       "        87.47,  89.29,  90.35,  91.4 ,  92.25,  92.94,  93.58,  94.  ,\n",
       "        94.38,  94.75,  95.1 ,  95.44,  95.75,  96.  ,  96.24,  96.47,\n",
       "        96.69,  96.88,  97.05,  97.21,  97.36,  97.51,  97.66,  97.8 ,\n",
       "        97.93,  98.05,  98.17,  98.29,  98.41,  98.52,  98.62,  98.72,\n",
       "        98.82,  98.92,  99.02,  99.11,  99.2 ,  99.29,  99.38,  99.46,\n",
       "        99.54,  99.61,  99.68,  99.75,  99.81,  99.86,  99.9 ,  99.94,\n",
       "        99.98, 100.01, 100.03, 100.04, 100.05, 100.05, 100.05, 100.05,\n",
       "       100.05, 100.05])"
      ]
     },
     "execution_count": 31,
     "metadata": {},
     "output_type": "execute_result"
    }
   ],
   "source": [
    "np.cumsum(np.round(pca.explained_variance_ratio_, decimals=4)*100)\n"
   ]
  },
  {
   "cell_type": "markdown",
   "id": "amino-accent",
   "metadata": {},
   "source": [
    "We can see that the first three components explain 63.79% of variance in our dataset. Let's say that we're happy with that level and we decide to keep the first THREE components.\n",
    "\n",
    "[You can also notice the impact of you PC doing some rounding here: That's why we reach levels above 100% explanation.]"
   ]
  },
  {
   "cell_type": "markdown",
   "id": "b783873a",
   "metadata": {},
   "source": [
    "## Loading plots\n",
    "\n",
    "Let's now plot the PCA coefficients (loadings) for the first 3 components. That will help us visualise the spread of data that is being explained between the components.\n",
    "\n",
    "Each point corresponds to loadings of one of the 66 variables, so you can theoretically see 66 dots in the plots (though a lot will be overlapping). They explain how strongly each of the variables \"load\" onto the component - that means how strongly they play their part in the construction of this component.\n",
    "\n",
    "Points around the 0/0 point of the plot don't have much impact on either of these two components. Those further along the axes have a higher loading on one (or both) of the components.\n",
    "\n",
    "To some extent, this can help you interpret the components, but that explanation part is very limited so don't put too much weight on it."
   ]
  },
  {
   "cell_type": "code",
   "execution_count": 52,
   "id": "immediate-tribe",
   "metadata": {},
   "outputs": [
    {
     "data": {
      "image/png": "[encoded data removed]",
      "text/plain": [
       "<Figure size 432x288 with 1 Axes>"
      ]
     },
     "metadata": {},
     "output_type": "display_data"
    },
    {
     "data": {
      "image/png": "[encoded data removed]",
      "text/plain": [
       "<Figure size 432x288 with 1 Axes>"
      ]
     },
     "metadata": {},
     "output_type": "display_data"
    },
    {
     "data": {
      "image/png": "[encoded data removed]",
      "text/plain": [
       "<Figure size 432x288 with 1 Axes>"
      ]
     },
     "metadata": {},
     "output_type": "display_data"
    }
   ],
   "source": [
    "for i in range(0,len(pca.components_[0])):\n",
    "#     plt.xlim(-1,1)\n",
    "#     plt.ylim(-1,1)\n",
    "    pca_0_loadings = pca.components_[0, i] * np.sqrt(pca.explained_variance_[0])\n",
    "    pca_1_loadings = pca.components_[1, i] * np.sqrt(pca.explained_variance_[1])\n",
    "    plt.scatter(pca_0_loadings, pca_1_loadings,color=cm.prism(i), alpha=.8, lw=lw,\n",
    "                )\n",
    "plt.title('Loadings')\n",
    "plt.xlabel(\"PC1\")\n",
    "plt.ylabel(\"PC2\")\n",
    "plt.show()    \n",
    "\n",
    "for i in range(0,len(pca.components_[0])):\n",
    "#     plt.xlim(-1,1)\n",
    "#     plt.ylim(-1,1)\n",
    "    pca_0_loadings = pca.components_[0, i] * np.sqrt(pca.explained_variance_[0])\n",
    "    pca_2_loadings = pca.components_[2, i] * np.sqrt(pca.explained_variance_[2])\n",
    "    plt.scatter(pca_0_loadings, pca_2_loadings,color=cm.prism(i), alpha=.8, lw=lw,\n",
    "                )\n",
    "plt.title('Loadings')\n",
    "plt.xlabel(\"PC1\")\n",
    "plt.ylabel(\"PC3\")\n",
    "plt.show()\n",
    "\n",
    "for i in range(0,len(pca.components_[0])):\n",
    "#     plt.xlim(-1,1)\n",
    "#     plt.ylim(-1,1)\n",
    "    pca_1_loadings = pca.components_[1, i] * np.sqrt(pca.explained_variance_[1])\n",
    "    pca_2_loadings = pca.components_[2, i] * np.sqrt(pca.explained_variance_[2])\n",
    "    plt.scatter(pca_1_loadings, pca_2_loadings,color=cm.prism(i), alpha=.8, lw=lw,\n",
    "                )\n",
    "plt.title('Loadings')\n",
    "plt.xlabel(\"PC2\")\n",
    "plt.ylabel(\"PC3\")\n",
    "plt.show()"
   ]
  },
  {
   "cell_type": "markdown",
   "id": "cultural-object",
   "metadata": {},
   "source": [
    "## Run PCR"
   ]
  },
  {
   "cell_type": "code",
   "execution_count": 3,
   "id": "recorded-frame",
   "metadata": {},
   "outputs": [],
   "source": [
    "from sklearn import model_selection\n",
    "from sklearn.model_selection import KFold\n",
    "from sklearn.decomposition import PCA\n",
    "from sklearn.linear_model import LinearRegression\n",
    "from sklearn.metrics import mean_squared_error\n",
    "\n",
    "# split data\n",
    "X_train, X_test, y_train, y_test = train_test_split(X, y, test_size=0.3, random_state=42)\n",
    "\n",
    "# Extract principal components\n",
    "pca = PCA()\n",
    "X_reduced = pca.fit_transform(X_train)"
   ]
  },
  {
   "cell_type": "code",
   "execution_count": 4,
   "id": "recorded-formation",
   "metadata": {},
   "outputs": [
    {
     "data": {
      "text/plain": [
       "Text(0.5, 1.0, 'Cross-validation MSE')"
      ]
     },
     "execution_count": 4,
     "metadata": {},
     "output_type": "execute_result"
    },
    {
     "data": {
      "image/png": "[encoded data removed]",
      "text/plain": [
       "<Figure size 432x288 with 1 Axes>"
      ]
     },
     "metadata": {},
     "output_type": "display_data"
    }
   ],
   "source": [
    "#define cross validation method\n",
    "cv = KFold(5)\n",
    "\n",
    "regr = LinearRegression()\n",
    "mse = []\n",
    "\n",
    "# MSE score\n",
    "score = -1*model_selection.cross_val_score(regr,\n",
    "           np.ones((len(X_reduced),1)), y_train, cv=cv,\n",
    "           scoring='neg_mean_squared_error').mean()    \n",
    "mse.append(score)\n",
    "\n",
    "# Calculate MSE using cross-validation, adding one component at a time\n",
    "for i in np.arange(1, 20):\n",
    "    score = -1*model_selection.cross_val_score(regr,\n",
    "               X_reduced[:,:i], y_train, cv=cv, scoring='neg_mean_squared_error').mean()\n",
    "    mse.append(score)\n",
    "    \n",
    "# Plot cross-validation results    \n",
    "plt.plot(mse)\n",
    "plt.xlabel('Number of Principal Components')\n",
    "plt.ylabel('MSE')\n",
    "plt.title('Cross-validation MSE')\n"
   ]
  },
  {
   "cell_type": "code",
   "execution_count": 5,
   "id": "operational-music",
   "metadata": {},
   "outputs": [
    {
     "data": {
      "text/plain": [
       "0.16127331120635474"
      ]
     },
     "execution_count": 5,
     "metadata": {},
     "output_type": "execute_result"
    }
   ],
   "source": [
    "#training and testing data\n",
    "X_reduced_train = pca.fit_transform(X_train)\n",
    "X_reduced_test = pca.transform(X_test)[:,:1]\n",
    "\n",
    "#train PCR model on training data \n",
    "regr = LinearRegression()\n",
    "regr.fit(X_reduced_train[:,:1], y_train)\n",
    "\n",
    "#calculate RMSE\n",
    "pred = regr.predict(X_reduced_test)\n",
    "np.sqrt(mean_squared_error(y_test, pred))"
   ]
  },
  {
   "cell_type": "code",
   "execution_count": null,
   "id": "ordinary-athens",
   "metadata": {},
   "outputs": [],
   "source": []
  }
 ],
 "metadata": {
  "kernelspec": {
   "display_name": "Python 3 (ipykernel)",
   "language": "python",
   "name": "python3"
  },
  "language_info": {
   "codemirror_mode": {
    "name": "ipython",
    "version": 3
   },
   "file_extension": ".py",
   "mimetype": "text/x-python",
   "name": "python",
   "nbconvert_exporter": "python",
   "pygments_lexer": "ipython3",
   "version": "3.9.12"
  }
 },
 "nbformat": 4,
 "nbformat_minor": 5
}
