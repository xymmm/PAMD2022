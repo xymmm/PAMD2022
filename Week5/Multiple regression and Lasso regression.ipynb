{
 "cells": [
  {
   "cell_type": "markdown",
   "id": "british-activity",
   "metadata": {},
   "source": [
    "# Multiple linear regression and Lasso regression\n",
    "\n",
    "We will provide an application of these two methods using a data set in which the target variable is the monthly stock return and the predictors are lagged firm characteristics. We want to find what are the most relevant characteristics that can be use to forecast stock returns."
   ]
  },
  {
   "cell_type": "code",
   "execution_count": null,
   "id": "electronic-cliff",
   "metadata": {},
   "outputs": [],
   "source": [
    "import pandas as pd\n",
    "from sklearn.model_selection import train_test_split\n",
    "\n",
    "# load data\n",
    "data = pd.read_csv('stock_data.csv',index_col=0)\n",
    "y = data['RET']\n",
    "X = data.drop('RET',axis=1)\n",
    "\n",
    "# split data\n",
    "X_train, X_test, y_train, y_test = train_test_split(X, y, test_size=0.3, random_state=42)\n",
    "\n",
    "print(data.shape)\n",
    "data.head()"
   ]
  },
  {
   "cell_type": "markdown",
   "id": "toxic-texas",
   "metadata": {},
   "source": [
    "## Let's visualize a correlation matrix among all variables"
   ]
  },
  {
   "cell_type": "code",
   "execution_count": null,
   "id": "ignored-blues",
   "metadata": {},
   "outputs": [],
   "source": [
    "import numpy as np\n",
    "import seaborn as sns\n",
    "import matplotlib.pyplot as plt\n",
    "\n",
    "plt.figure(figsize=(18,15))\n",
    "correlations = data.corr()\n",
    "sns.heatmap(round(correlations,2), cmap='RdBu', annot=True, \n",
    "            annot_kws={\"size\": 5}, vmin=-1, vmax=1);"
   ]
  },
  {
   "cell_type": "markdown",
   "id": "absolute-survey",
   "metadata": {},
   "source": [
    "## Let's estimate a multiple linear regression and analyse the results"
   ]
  },
  {
   "cell_type": "code",
   "execution_count": null,
   "id": "individual-working",
   "metadata": {},
   "outputs": [],
   "source": [
    "import statsmodels.api as sm\n",
    "sm.OLS(y_train,sm.add_constant(X_train)).fit().summary()"
   ]
  },
  {
   "cell_type": "markdown",
   "id": "solved-vietnamese",
   "metadata": {},
   "source": [
    "## Let's estimate a Lasso regression (using k-fold cross-validation to tune the shrinkage intensity) \n",
    "\n",
    "After estimating the lasso regression, let's compare the performance of this method in terms of RMSE in the test set against that of obtained with the standard multiple regression."
   ]
  },
  {
   "cell_type": "code",
   "execution_count": null,
   "id": "exposed-marshall",
   "metadata": {},
   "outputs": [],
   "source": [
    "from numpy import arange\n",
    "from sklearn.model_selection import GridSearchCV\n",
    "from sklearn.linear_model import Lasso, LinearRegression\n",
    "from sklearn.metrics import mean_squared_error as mse \n",
    "from math import sqrt\n",
    "\n",
    "# Create standard linear regression\n",
    "ols = LinearRegression().fit(X_train, y_train)\n",
    "predictions_ols = ols.predict(X_test)\n",
    "rmse_ols = str(sqrt(mse(y_test,predictions_ols)))\n",
    "\n",
    "# Create Lasso Regression with model tuning\n",
    "lasso_tune = Lasso()\n",
    "grid = dict() \n",
    "grid['alpha'] = arange(0.00001, 0.01, 0.0001)\n",
    "search = GridSearchCV(lasso_tune, grid, scoring='neg_mean_squared_error', cv=5, refit=True)\n",
    "results = search.fit(X_train, y_train)\n",
    "print('Config: %s' % results.best_params_)\n",
    "predictions_lasso_tuned = search.predict(X_test)\n",
    "rmse_tuned = str(sqrt(mse(y_test,predictions_lasso_tuned)))\n",
    "\n",
    "print('RMSE OLS : ',rmse_ols)\n",
    "print('RMSE Lasso : ', rmse_tuned)"
   ]
  },
  {
   "cell_type": "code",
   "execution_count": null,
   "id": "dated-buffalo",
   "metadata": {},
   "outputs": [],
   "source": [
    "from numpy import where\n",
    "lasso_tuned = Lasso(results.best_params_['alpha'])\n",
    "lasso_tuned.fit(X_train, y_train)\n",
    "print(lasso_tuned.coef_)\n",
    "data.columns[where(lasso_tuned.coef_!=0)]"
   ]
  },
  {
   "cell_type": "markdown",
   "id": "complete-feature",
   "metadata": {},
   "source": [
    "## Let's plot the coefficients of the Lasso regression as a function of the shrinkage intensity"
   ]
  },
  {
   "cell_type": "code",
   "execution_count": null,
   "id": "related-loading",
   "metadata": {},
   "outputs": [],
   "source": [
    "%matplotlib inline\n",
    "import matplotlib.pyplot as plt\n",
    "\n",
    "alphas = arange(0.00001, 0.01, 0.0001)\n",
    "\n",
    "lasso = Lasso()\n",
    "coefs = []\n",
    "\n",
    "for a in alphas:\n",
    "    lasso.set_params(alpha=a)\n",
    "    lasso.fit(X_train, y_train)\n",
    "    coefs.append(lasso.coef_)\n",
    "    \n",
    "ax = plt.gca()\n",
    "ax.plot(alphas*2, coefs)\n",
    "ax.set_xscale('log')\n",
    "plt.axis('tight')\n",
    "plt.xlabel('alpha')\n",
    "plt.ylabel('coefficients')"
   ]
  },
  {
   "cell_type": "code",
   "execution_count": null,
   "id": "described-digit",
   "metadata": {},
   "outputs": [],
   "source": []
  }
 ],
 "metadata": {
  "kernelspec": {
   "display_name": "Python 3",
   "language": "python",
   "name": "python3"
  },
  "language_info": {
   "codemirror_mode": {
    "name": "ipython",
    "version": 3
   },
   "file_extension": ".py",
   "mimetype": "text/x-python",
   "name": "python",
   "nbconvert_exporter": "python",
   "pygments_lexer": "ipython3",
   "version": "3.9.2"
  }
 },
 "nbformat": 4,
 "nbformat_minor": 5
}
